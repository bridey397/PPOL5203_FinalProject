{
 "cells": [
  {
   "cell_type": "markdown",
   "id": "14ea24f3",
   "metadata": {},
   "source": [
    "File for Machine Learning models"
   ]
  },
  {
   "cell_type": "markdown",
   "id": "5bd05420",
   "metadata": {},
   "source": [
    "# PPOL 5203 Final Project"
   ]
  },
  {
   "cell_type": "markdown",
   "id": "03ebaec6",
   "metadata": {},
   "source": [
    "## Machine Learning Prediction"
   ]
  },
  {
   "cell_type": "markdown",
   "id": "4bb9fbc0",
   "metadata": {},
   "source": [
    "#### Using Risk Scores to predict health outcomes"
   ]
  },
  {
   "cell_type": "code",
   "execution_count": null,
   "id": "804aec79",
   "metadata": {},
   "outputs": [],
   "source": [
    "os. chdir()"
   ]
  },
  {
   "cell_type": "code",
   "execution_count": 2,
   "id": "05595f48",
   "metadata": {},
   "outputs": [],
   "source": [
    "# import packages\n",
    "import numpy as np\n",
    "import pandas as pd\n",
    "from sklearn import datasets\n",
    "from sklearn.model_selection import train_test_split    \n",
    "from sklearn.linear_model import LogisticRegression\n",
    "from sklearn.metrics import accuracy_score, mean_squared_error\n",
    "from sklearn.tree import DecisionTreeClassifier"
   ]
  },
  {
   "cell_type": "code",
   "execution_count": 3,
   "id": "5211a676",
   "metadata": {},
   "outputs": [],
   "source": [
    "# import data again\n",
    "NRI_county_health_data = pd.read_csv(\"NRI_county_health_data.csv\")\n",
    "#NRI_county_health_data.head()"
   ]
  },
  {
   "cell_type": "code",
   "execution_count": 4,
   "id": "ca22ea88",
   "metadata": {},
   "outputs": [],
   "source": [
    "# remove and replace hyphen in \"age adjusted death rate\" variable\n",
    "NRI_county_health_data = NRI_county_health_data.rename(columns={'Age-Adjusted_Death_Rate':'Age_Adjusted_Death_Rate'})\n",
    "\n",
    "# remove and replace hypthen in \"percent non hispanic white\" variable\n",
    "NRI_county_health_data = NRI_county_health_data.rename(columns={'Percent_Non-Hispanic_White':'Percent_Non_Hispanic_White'})"
   ]
  },
  {
   "cell_type": "markdown",
   "id": "4bab4869",
   "metadata": {},
   "source": [
    "### Age Adjusted Death Rate"
   ]
  },
  {
   "cell_type": "code",
   "execution_count": 5,
   "id": "6cf7df32",
   "metadata": {},
   "outputs": [
    {
     "data": {
      "text/html": [
       "<div>\n",
       "<style scoped>\n",
       "    .dataframe tbody tr th:only-of-type {\n",
       "        vertical-align: middle;\n",
       "    }\n",
       "\n",
       "    .dataframe tbody tr th {\n",
       "        vertical-align: top;\n",
       "    }\n",
       "\n",
       "    .dataframe thead th {\n",
       "        text-align: right;\n",
       "    }\n",
       "</style>\n",
       "<table border=\"1\" class=\"dataframe\">\n",
       "  <thead>\n",
       "    <tr style=\"text-align: right;\">\n",
       "      <th></th>\n",
       "      <th>FIPS</th>\n",
       "      <th>STATEABBRV</th>\n",
       "      <th>State</th>\n",
       "      <th>County</th>\n",
       "      <th>County_State</th>\n",
       "      <th>Community_Type</th>\n",
       "      <th>POPULATION</th>\n",
       "      <th>AREA</th>\n",
       "      <th>Population_Density</th>\n",
       "      <th>Percent_Rural</th>\n",
       "      <th>...</th>\n",
       "      <th>Life_Expectancy</th>\n",
       "      <th>Age_Adjusted_Death_Rate</th>\n",
       "      <th>Percent_Frequent_Physical_Distress</th>\n",
       "      <th>Percent_Frequent_Mental_Distress</th>\n",
       "      <th>Percent_Less_than_18_Years_of_Age</th>\n",
       "      <th>Percent_65_and_Over</th>\n",
       "      <th>Percent_Non_Hispanic_White</th>\n",
       "      <th>Percent_Female</th>\n",
       "      <th>Geolocation</th>\n",
       "      <th>Age_Adjusted_Death_Rate_mean_indicator</th>\n",
       "    </tr>\n",
       "  </thead>\n",
       "  <tbody>\n",
       "    <tr>\n",
       "      <th>0</th>\n",
       "      <td>1001.0</td>\n",
       "      <td>AL</td>\n",
       "      <td>Alabama</td>\n",
       "      <td>Autauga</td>\n",
       "      <td>Autauga, AL</td>\n",
       "      <td>Small Urban</td>\n",
       "      <td>58764.0</td>\n",
       "      <td>610.470508</td>\n",
       "      <td>96.260178</td>\n",
       "      <td>42.002162</td>\n",
       "      <td>...</td>\n",
       "      <td>76.585650</td>\n",
       "      <td>427.073326</td>\n",
       "      <td>10.7</td>\n",
       "      <td>16.2</td>\n",
       "      <td>23.406380</td>\n",
       "      <td>16.048735</td>\n",
       "      <td>72.454522</td>\n",
       "      <td>51.378289</td>\n",
       "      <td>POINT (-86.6464395 32.5322367)</td>\n",
       "      <td>0</td>\n",
       "    </tr>\n",
       "    <tr>\n",
       "      <th>1</th>\n",
       "      <td>1003.0</td>\n",
       "      <td>AL</td>\n",
       "      <td>Alabama</td>\n",
       "      <td>Baldwin</td>\n",
       "      <td>Baldwin, AL</td>\n",
       "      <td>Small Urban</td>\n",
       "      <td>231365.0</td>\n",
       "      <td>2047.738775</td>\n",
       "      <td>112.985603</td>\n",
       "      <td>42.279099</td>\n",
       "      <td>...</td>\n",
       "      <td>77.724729</td>\n",
       "      <td>381.702031</td>\n",
       "      <td>9.9</td>\n",
       "      <td>16.1</td>\n",
       "      <td>21.218250</td>\n",
       "      <td>21.469824</td>\n",
       "      <td>83.148763</td>\n",
       "      <td>51.347715</td>\n",
       "      <td>POINT (-87.7460666 30.6592183)</td>\n",
       "      <td>0</td>\n",
       "    </tr>\n",
       "    <tr>\n",
       "      <th>2</th>\n",
       "      <td>1005.0</td>\n",
       "      <td>AL</td>\n",
       "      <td>Alabama</td>\n",
       "      <td>Barbour</td>\n",
       "      <td>Barbour, AL</td>\n",
       "      <td>Rural</td>\n",
       "      <td>25160.0</td>\n",
       "      <td>913.646511</td>\n",
       "      <td>27.538003</td>\n",
       "      <td>67.789635</td>\n",
       "      <td>...</td>\n",
       "      <td>72.867210</td>\n",
       "      <td>589.566095</td>\n",
       "      <td>14.9</td>\n",
       "      <td>18.0</td>\n",
       "      <td>20.549591</td>\n",
       "      <td>19.976767</td>\n",
       "      <td>45.305240</td>\n",
       "      <td>46.703253</td>\n",
       "      <td>POINT (-85.4051035 31.8702531)</td>\n",
       "      <td>1</td>\n",
       "    </tr>\n",
       "    <tr>\n",
       "      <th>3</th>\n",
       "      <td>1007.0</td>\n",
       "      <td>AL</td>\n",
       "      <td>Alabama</td>\n",
       "      <td>Bibb</td>\n",
       "      <td>Bibb, AL</td>\n",
       "      <td>Rural</td>\n",
       "      <td>22239.0</td>\n",
       "      <td>632.486798</td>\n",
       "      <td>35.161208</td>\n",
       "      <td>68.352607</td>\n",
       "      <td>...</td>\n",
       "      <td>73.609363</td>\n",
       "      <td>567.508146</td>\n",
       "      <td>12.7</td>\n",
       "      <td>17.4</td>\n",
       "      <td>20.118343</td>\n",
       "      <td>16.737109</td>\n",
       "      <td>73.564088</td>\n",
       "      <td>46.015927</td>\n",
       "      <td>POINT (-87.1271475 33.0158929)</td>\n",
       "      <td>1</td>\n",
       "    </tr>\n",
       "    <tr>\n",
       "      <th>4</th>\n",
       "      <td>1009.0</td>\n",
       "      <td>AL</td>\n",
       "      <td>Alabama</td>\n",
       "      <td>Blount</td>\n",
       "      <td>Blount, AL</td>\n",
       "      <td>Small Urban</td>\n",
       "      <td>58992.0</td>\n",
       "      <td>657.196555</td>\n",
       "      <td>89.763100</td>\n",
       "      <td>89.951502</td>\n",
       "      <td>...</td>\n",
       "      <td>74.171463</td>\n",
       "      <td>532.836482</td>\n",
       "      <td>11.9</td>\n",
       "      <td>17.4</td>\n",
       "      <td>23.053471</td>\n",
       "      <td>18.725970</td>\n",
       "      <td>86.329839</td>\n",
       "      <td>50.192239</td>\n",
       "      <td>POINT (-86.56644 33.9773575)</td>\n",
       "      <td>1</td>\n",
       "    </tr>\n",
       "  </tbody>\n",
       "</table>\n",
       "<p>5 rows × 42 columns</p>\n",
       "</div>"
      ],
      "text/plain": [
       "     FIPS STATEABBRV    State   County County_State Community_Type  \\\n",
       "0  1001.0         AL  Alabama  Autauga  Autauga, AL    Small Urban   \n",
       "1  1003.0         AL  Alabama  Baldwin  Baldwin, AL    Small Urban   \n",
       "2  1005.0         AL  Alabama  Barbour  Barbour, AL          Rural   \n",
       "3  1007.0         AL  Alabama     Bibb     Bibb, AL          Rural   \n",
       "4  1009.0         AL  Alabama   Blount   Blount, AL    Small Urban   \n",
       "\n",
       "   POPULATION         AREA  Population_Density  Percent_Rural  ...  \\\n",
       "0     58764.0   610.470508           96.260178      42.002162  ...   \n",
       "1    231365.0  2047.738775          112.985603      42.279099  ...   \n",
       "2     25160.0   913.646511           27.538003      67.789635  ...   \n",
       "3     22239.0   632.486798           35.161208      68.352607  ...   \n",
       "4     58992.0   657.196555           89.763100      89.951502  ...   \n",
       "\n",
       "   Life_Expectancy Age_Adjusted_Death_Rate  \\\n",
       "0        76.585650              427.073326   \n",
       "1        77.724729              381.702031   \n",
       "2        72.867210              589.566095   \n",
       "3        73.609363              567.508146   \n",
       "4        74.171463              532.836482   \n",
       "\n",
       "   Percent_Frequent_Physical_Distress Percent_Frequent_Mental_Distress  \\\n",
       "0                                10.7                             16.2   \n",
       "1                                 9.9                             16.1   \n",
       "2                                14.9                             18.0   \n",
       "3                                12.7                             17.4   \n",
       "4                                11.9                             17.4   \n",
       "\n",
       "   Percent_Less_than_18_Years_of_Age Percent_65_and_Over  \\\n",
       "0                          23.406380           16.048735   \n",
       "1                          21.218250           21.469824   \n",
       "2                          20.549591           19.976767   \n",
       "3                          20.118343           16.737109   \n",
       "4                          23.053471           18.725970   \n",
       "\n",
       "   Percent_Non_Hispanic_White Percent_Female                     Geolocation  \\\n",
       "0                   72.454522      51.378289  POINT (-86.6464395 32.5322367)   \n",
       "1                   83.148763      51.347715  POINT (-87.7460666 30.6592183)   \n",
       "2                   45.305240      46.703253  POINT (-85.4051035 31.8702531)   \n",
       "3                   73.564088      46.015927  POINT (-87.1271475 33.0158929)   \n",
       "4                   86.329839      50.192239    POINT (-86.56644 33.9773575)   \n",
       "\n",
       "   Age_Adjusted_Death_Rate_mean_indicator  \n",
       "0                                       0  \n",
       "1                                       0  \n",
       "2                                       1  \n",
       "3                                       1  \n",
       "4                                       1  \n",
       "\n",
       "[5 rows x 42 columns]"
      ]
     },
     "execution_count": 5,
     "metadata": {},
     "output_type": "execute_result"
    }
   ],
   "source": [
    "# create binary column that indicates if states are above or below national average for Age Adjusted Death Rate\n",
    "\n",
    "# AADR national average\n",
    "AADR_mean = NRI_county_health_data['Age_Adjusted_Death_Rate'].mean()\n",
    "\n",
    "# create column\n",
    "NRI_county_health_data['Age_Adjusted_Death_Rate_mean_indicator'] = np.where(NRI_county_health_data['Age_Adjusted_Death_Rate'] > \n",
    "                                                                  AADR_mean, 1, 0)\n",
    "NRI_county_health_data.head()"
   ]
  },
  {
   "cell_type": "code",
   "execution_count": 6,
   "id": "94812344",
   "metadata": {},
   "outputs": [],
   "source": [
    "# features\n",
    "columns = [\"Community_Type\", \"RISK_SCORE\", \"Population_Density\"]\n",
    "X = NRI_county_health_data[columns]\n",
    "\n",
    "# target\n",
    "y = NRI_county_health_data[\"Age_Adjusted_Death_Rate_mean_indicator\"]"
   ]
  },
  {
   "cell_type": "code",
   "execution_count": 7,
   "id": "632ad164",
   "metadata": {},
   "outputs": [
    {
     "data": {
      "text/plain": [
       "Community_Type        0\n",
       "RISK_SCORE            0\n",
       "Population_Density    0\n",
       "dtype: int64"
      ]
     },
     "execution_count": 7,
     "metadata": {},
     "output_type": "execute_result"
    }
   ],
   "source": [
    "X.isna().sum()\n",
    "\n",
    "# no missing values"
   ]
  },
  {
   "cell_type": "code",
   "execution_count": 8,
   "id": "c070fb36",
   "metadata": {},
   "outputs": [
    {
     "data": {
      "text/plain": [
       "Community_Type         object\n",
       "RISK_SCORE            float64\n",
       "Population_Density    float64\n",
       "dtype: object"
      ]
     },
     "execution_count": 8,
     "metadata": {},
     "output_type": "execute_result"
    }
   ],
   "source": [
    "X.dtypes\n",
    "\n",
    "# Community_Type is an object - doesn't work"
   ]
  },
  {
   "cell_type": "code",
   "execution_count": 9,
   "id": "5dac3b31",
   "metadata": {},
   "outputs": [
    {
     "data": {
      "text/html": [
       "<div>\n",
       "<style scoped>\n",
       "    .dataframe tbody tr th:only-of-type {\n",
       "        vertical-align: middle;\n",
       "    }\n",
       "\n",
       "    .dataframe tbody tr th {\n",
       "        vertical-align: top;\n",
       "    }\n",
       "\n",
       "    .dataframe thead th {\n",
       "        text-align: right;\n",
       "    }\n",
       "</style>\n",
       "<table border=\"1\" class=\"dataframe\">\n",
       "  <thead>\n",
       "    <tr style=\"text-align: right;\">\n",
       "      <th></th>\n",
       "      <th>RISK_SCORE</th>\n",
       "      <th>Population_Density</th>\n",
       "      <th>Community_Type_Rural</th>\n",
       "      <th>Community_Type_Small Urban</th>\n",
       "      <th>Community_Type_Urban</th>\n",
       "    </tr>\n",
       "  </thead>\n",
       "  <tbody>\n",
       "    <tr>\n",
       "      <th>0</th>\n",
       "      <td>49.220490</td>\n",
       "      <td>96.260178</td>\n",
       "      <td>False</td>\n",
       "      <td>True</td>\n",
       "      <td>False</td>\n",
       "    </tr>\n",
       "    <tr>\n",
       "      <th>1</th>\n",
       "      <td>97.709195</td>\n",
       "      <td>112.985603</td>\n",
       "      <td>False</td>\n",
       "      <td>True</td>\n",
       "      <td>False</td>\n",
       "    </tr>\n",
       "    <tr>\n",
       "      <th>2</th>\n",
       "      <td>56.188355</td>\n",
       "      <td>27.538003</td>\n",
       "      <td>True</td>\n",
       "      <td>False</td>\n",
       "      <td>False</td>\n",
       "    </tr>\n",
       "    <tr>\n",
       "      <th>3</th>\n",
       "      <td>32.484887</td>\n",
       "      <td>35.161208</td>\n",
       "      <td>True</td>\n",
       "      <td>False</td>\n",
       "      <td>False</td>\n",
       "    </tr>\n",
       "    <tr>\n",
       "      <th>4</th>\n",
       "      <td>65.128858</td>\n",
       "      <td>89.763100</td>\n",
       "      <td>False</td>\n",
       "      <td>True</td>\n",
       "      <td>False</td>\n",
       "    </tr>\n",
       "    <tr>\n",
       "      <th>...</th>\n",
       "      <td>...</td>\n",
       "      <td>...</td>\n",
       "      <td>...</td>\n",
       "      <td>...</td>\n",
       "      <td>...</td>\n",
       "    </tr>\n",
       "    <tr>\n",
       "      <th>3138</th>\n",
       "      <td>6.617881</td>\n",
       "      <td>3.985817</td>\n",
       "      <td>True</td>\n",
       "      <td>False</td>\n",
       "      <td>False</td>\n",
       "    </tr>\n",
       "    <tr>\n",
       "      <th>3139</th>\n",
       "      <td>68.501432</td>\n",
       "      <td>5.457960</td>\n",
       "      <td>True</td>\n",
       "      <td>False</td>\n",
       "      <td>False</td>\n",
       "    </tr>\n",
       "    <tr>\n",
       "      <th>3140</th>\n",
       "      <td>21.699014</td>\n",
       "      <td>9.677509</td>\n",
       "      <td>True</td>\n",
       "      <td>False</td>\n",
       "      <td>False</td>\n",
       "    </tr>\n",
       "    <tr>\n",
       "      <th>3141</th>\n",
       "      <td>2.513522</td>\n",
       "      <td>3.382271</td>\n",
       "      <td>True</td>\n",
       "      <td>False</td>\n",
       "      <td>False</td>\n",
       "    </tr>\n",
       "    <tr>\n",
       "      <th>3142</th>\n",
       "      <td>16.640153</td>\n",
       "      <td>2.814064</td>\n",
       "      <td>True</td>\n",
       "      <td>False</td>\n",
       "      <td>False</td>\n",
       "    </tr>\n",
       "  </tbody>\n",
       "</table>\n",
       "<p>3143 rows × 5 columns</p>\n",
       "</div>"
      ],
      "text/plain": [
       "      RISK_SCORE  Population_Density  Community_Type_Rural  \\\n",
       "0      49.220490           96.260178                 False   \n",
       "1      97.709195          112.985603                 False   \n",
       "2      56.188355           27.538003                  True   \n",
       "3      32.484887           35.161208                  True   \n",
       "4      65.128858           89.763100                 False   \n",
       "...          ...                 ...                   ...   \n",
       "3138    6.617881            3.985817                  True   \n",
       "3139   68.501432            5.457960                  True   \n",
       "3140   21.699014            9.677509                  True   \n",
       "3141    2.513522            3.382271                  True   \n",
       "3142   16.640153            2.814064                  True   \n",
       "\n",
       "      Community_Type_Small Urban  Community_Type_Urban  \n",
       "0                           True                 False  \n",
       "1                           True                 False  \n",
       "2                          False                 False  \n",
       "3                          False                 False  \n",
       "4                           True                 False  \n",
       "...                          ...                   ...  \n",
       "3138                       False                 False  \n",
       "3139                       False                 False  \n",
       "3140                       False                 False  \n",
       "3141                       False                 False  \n",
       "3142                       False                 False  \n",
       "\n",
       "[3143 rows x 5 columns]"
      ]
     },
     "execution_count": 9,
     "metadata": {},
     "output_type": "execute_result"
    }
   ],
   "source": [
    "# convert Community_Type to dummy variables\n",
    "# method: one-hot coding (get dummies)\n",
    "# this converts categorical data into dummy variables (as many dummies as there are unique observations)\n",
    "# should create 3 dummy variables for 3 community types\n",
    "\n",
    "# Apply one-hot encoding for Community_Type nominal column\n",
    "X = pd.get_dummies(X, columns=['Community_Type'], prefix='Community_Type', drop_first=False)\n",
    "X\n",
    "\n",
    "# the true/false values are dummy variables in this model"
   ]
  },
  {
   "cell_type": "code",
   "execution_count": 10,
   "id": "5c5d751a",
   "metadata": {},
   "outputs": [
    {
     "data": {
      "text/plain": [
       "RISK_SCORE                    float64\n",
       "Population_Density            float64\n",
       "Community_Type_Rural             bool\n",
       "Community_Type_Small Urban       bool\n",
       "Community_Type_Urban             bool\n",
       "dtype: object"
      ]
     },
     "execution_count": 10,
     "metadata": {},
     "output_type": "execute_result"
    }
   ],
   "source": [
    "X.dtypes\n",
    "\n",
    "# that works"
   ]
  },
  {
   "cell_type": "code",
   "execution_count": 11,
   "id": "c3bdf5b8",
   "metadata": {},
   "outputs": [],
   "source": [
    "# split data into train and test\n",
    "\n",
    "X_train, X_test, y_train, y_test = train_test_split(X, y, \n",
    "                                                    test_size=0.15, # is 15% okay? Or should we do 20%\n",
    "                                                    random_state = 500) # I picked 500 because we have a larger datasset"
   ]
  },
  {
   "cell_type": "code",
   "execution_count": 12,
   "id": "772543ec",
   "metadata": {},
   "outputs": [
    {
     "data": {
      "text/html": [
       "<style>#sk-container-id-1 {color: black;}#sk-container-id-1 pre{padding: 0;}#sk-container-id-1 div.sk-toggleable {background-color: white;}#sk-container-id-1 label.sk-toggleable__label {cursor: pointer;display: block;width: 100%;margin-bottom: 0;padding: 0.3em;box-sizing: border-box;text-align: center;}#sk-container-id-1 label.sk-toggleable__label-arrow:before {content: \"▸\";float: left;margin-right: 0.25em;color: #696969;}#sk-container-id-1 label.sk-toggleable__label-arrow:hover:before {color: black;}#sk-container-id-1 div.sk-estimator:hover label.sk-toggleable__label-arrow:before {color: black;}#sk-container-id-1 div.sk-toggleable__content {max-height: 0;max-width: 0;overflow: hidden;text-align: left;background-color: #f0f8ff;}#sk-container-id-1 div.sk-toggleable__content pre {margin: 0.2em;color: black;border-radius: 0.25em;background-color: #f0f8ff;}#sk-container-id-1 input.sk-toggleable__control:checked~div.sk-toggleable__content {max-height: 200px;max-width: 100%;overflow: auto;}#sk-container-id-1 input.sk-toggleable__control:checked~label.sk-toggleable__label-arrow:before {content: \"▾\";}#sk-container-id-1 div.sk-estimator input.sk-toggleable__control:checked~label.sk-toggleable__label {background-color: #d4ebff;}#sk-container-id-1 div.sk-label input.sk-toggleable__control:checked~label.sk-toggleable__label {background-color: #d4ebff;}#sk-container-id-1 input.sk-hidden--visually {border: 0;clip: rect(1px 1px 1px 1px);clip: rect(1px, 1px, 1px, 1px);height: 1px;margin: -1px;overflow: hidden;padding: 0;position: absolute;width: 1px;}#sk-container-id-1 div.sk-estimator {font-family: monospace;background-color: #f0f8ff;border: 1px dotted black;border-radius: 0.25em;box-sizing: border-box;margin-bottom: 0.5em;}#sk-container-id-1 div.sk-estimator:hover {background-color: #d4ebff;}#sk-container-id-1 div.sk-parallel-item::after {content: \"\";width: 100%;border-bottom: 1px solid gray;flex-grow: 1;}#sk-container-id-1 div.sk-label:hover label.sk-toggleable__label {background-color: #d4ebff;}#sk-container-id-1 div.sk-serial::before {content: \"\";position: absolute;border-left: 1px solid gray;box-sizing: border-box;top: 0;bottom: 0;left: 50%;z-index: 0;}#sk-container-id-1 div.sk-serial {display: flex;flex-direction: column;align-items: center;background-color: white;padding-right: 0.2em;padding-left: 0.2em;position: relative;}#sk-container-id-1 div.sk-item {position: relative;z-index: 1;}#sk-container-id-1 div.sk-parallel {display: flex;align-items: stretch;justify-content: center;background-color: white;position: relative;}#sk-container-id-1 div.sk-item::before, #sk-container-id-1 div.sk-parallel-item::before {content: \"\";position: absolute;border-left: 1px solid gray;box-sizing: border-box;top: 0;bottom: 0;left: 50%;z-index: -1;}#sk-container-id-1 div.sk-parallel-item {display: flex;flex-direction: column;z-index: 1;position: relative;background-color: white;}#sk-container-id-1 div.sk-parallel-item:first-child::after {align-self: flex-end;width: 50%;}#sk-container-id-1 div.sk-parallel-item:last-child::after {align-self: flex-start;width: 50%;}#sk-container-id-1 div.sk-parallel-item:only-child::after {width: 0;}#sk-container-id-1 div.sk-dashed-wrapped {border: 1px dashed gray;margin: 0 0.4em 0.5em 0.4em;box-sizing: border-box;padding-bottom: 0.4em;background-color: white;}#sk-container-id-1 div.sk-label label {font-family: monospace;font-weight: bold;display: inline-block;line-height: 1.2em;}#sk-container-id-1 div.sk-label-container {text-align: center;}#sk-container-id-1 div.sk-container {/* jupyter's `normalize.less` sets `[hidden] { display: none; }` but bootstrap.min.css set `[hidden] { display: none !important; }` so we also need the `!important` here to be able to override the default hidden behavior on the sphinx rendered scikit-learn.org. See: https://github.com/scikit-learn/scikit-learn/issues/21755 */display: inline-block !important;position: relative;}#sk-container-id-1 div.sk-text-repr-fallback {display: none;}</style><div id=\"sk-container-id-1\" class=\"sk-top-container\"><div class=\"sk-text-repr-fallback\"><pre>LogisticRegression()</pre><b>In a Jupyter environment, please rerun this cell to show the HTML representation or trust the notebook. <br />On GitHub, the HTML representation is unable to render, please try loading this page with nbviewer.org.</b></div><div class=\"sk-container\" hidden><div class=\"sk-item\"><div class=\"sk-estimator sk-toggleable\"><input class=\"sk-toggleable__control sk-hidden--visually\" id=\"sk-estimator-id-1\" type=\"checkbox\" checked><label for=\"sk-estimator-id-1\" class=\"sk-toggleable__label sk-toggleable__label-arrow\">LogisticRegression</label><div class=\"sk-toggleable__content\"><pre>LogisticRegression()</pre></div></div></div></div></div>"
      ],
      "text/plain": [
       "LogisticRegression()"
      ]
     },
     "execution_count": 12,
     "metadata": {},
     "output_type": "execute_result"
    }
   ],
   "source": [
    "# create model\n",
    "\n",
    "# instantiate the modeling object\n",
    "# use logistic regression because we are predicting a dummy variable\n",
    "model = LogisticRegression()\n",
    "\n",
    "# Fit the model\n",
    "model.fit(X_train,y_train)"
   ]
  },
  {
   "cell_type": "code",
   "execution_count": 13,
   "id": "24650993",
   "metadata": {},
   "outputs": [
    {
     "data": {
      "text/plain": [
       "0.4152542372881356"
      ]
     },
     "execution_count": 13,
     "metadata": {},
     "output_type": "execute_result"
    }
   ],
   "source": [
    "# predict \n",
    "y_pred = model.predict(X_test)\n",
    "\n",
    "# calculate MSE in the test\n",
    "AADR_mse = mean_squared_error(y_test, y_pred)\n",
    "AADR_mse"
   ]
  },
  {
   "cell_type": "markdown",
   "id": "1e109807",
   "metadata": {},
   "source": [
    "## Life Exptectancy"
   ]
  },
  {
   "cell_type": "code",
   "execution_count": 14,
   "id": "504b3db2",
   "metadata": {},
   "outputs": [
    {
     "data": {
      "text/html": [
       "<div>\n",
       "<style scoped>\n",
       "    .dataframe tbody tr th:only-of-type {\n",
       "        vertical-align: middle;\n",
       "    }\n",
       "\n",
       "    .dataframe tbody tr th {\n",
       "        vertical-align: top;\n",
       "    }\n",
       "\n",
       "    .dataframe thead th {\n",
       "        text-align: right;\n",
       "    }\n",
       "</style>\n",
       "<table border=\"1\" class=\"dataframe\">\n",
       "  <thead>\n",
       "    <tr style=\"text-align: right;\">\n",
       "      <th></th>\n",
       "      <th>FIPS</th>\n",
       "      <th>STATEABBRV</th>\n",
       "      <th>State</th>\n",
       "      <th>County</th>\n",
       "      <th>County_State</th>\n",
       "      <th>Community_Type</th>\n",
       "      <th>POPULATION</th>\n",
       "      <th>AREA</th>\n",
       "      <th>Population_Density</th>\n",
       "      <th>Percent_Rural</th>\n",
       "      <th>...</th>\n",
       "      <th>Age_Adjusted_Death_Rate</th>\n",
       "      <th>Percent_Frequent_Physical_Distress</th>\n",
       "      <th>Percent_Frequent_Mental_Distress</th>\n",
       "      <th>Percent_Less_than_18_Years_of_Age</th>\n",
       "      <th>Percent_65_and_Over</th>\n",
       "      <th>Percent_Non_Hispanic_White</th>\n",
       "      <th>Percent_Female</th>\n",
       "      <th>Geolocation</th>\n",
       "      <th>Age_Adjusted_Death_Rate_mean_indicator</th>\n",
       "      <th>Life_Expectancy_mean_indicator</th>\n",
       "    </tr>\n",
       "  </thead>\n",
       "  <tbody>\n",
       "    <tr>\n",
       "      <th>0</th>\n",
       "      <td>1001.0</td>\n",
       "      <td>AL</td>\n",
       "      <td>Alabama</td>\n",
       "      <td>Autauga</td>\n",
       "      <td>Autauga, AL</td>\n",
       "      <td>Small Urban</td>\n",
       "      <td>58764.0</td>\n",
       "      <td>610.470508</td>\n",
       "      <td>96.260178</td>\n",
       "      <td>42.002162</td>\n",
       "      <td>...</td>\n",
       "      <td>427.073326</td>\n",
       "      <td>10.7</td>\n",
       "      <td>16.2</td>\n",
       "      <td>23.406380</td>\n",
       "      <td>16.048735</td>\n",
       "      <td>72.454522</td>\n",
       "      <td>51.378289</td>\n",
       "      <td>POINT (-86.6464395 32.5322367)</td>\n",
       "      <td>0</td>\n",
       "      <td>0</td>\n",
       "    </tr>\n",
       "    <tr>\n",
       "      <th>1</th>\n",
       "      <td>1003.0</td>\n",
       "      <td>AL</td>\n",
       "      <td>Alabama</td>\n",
       "      <td>Baldwin</td>\n",
       "      <td>Baldwin, AL</td>\n",
       "      <td>Small Urban</td>\n",
       "      <td>231365.0</td>\n",
       "      <td>2047.738775</td>\n",
       "      <td>112.985603</td>\n",
       "      <td>42.279099</td>\n",
       "      <td>...</td>\n",
       "      <td>381.702031</td>\n",
       "      <td>9.9</td>\n",
       "      <td>16.1</td>\n",
       "      <td>21.218250</td>\n",
       "      <td>21.469824</td>\n",
       "      <td>83.148763</td>\n",
       "      <td>51.347715</td>\n",
       "      <td>POINT (-87.7460666 30.6592183)</td>\n",
       "      <td>0</td>\n",
       "      <td>1</td>\n",
       "    </tr>\n",
       "    <tr>\n",
       "      <th>2</th>\n",
       "      <td>1005.0</td>\n",
       "      <td>AL</td>\n",
       "      <td>Alabama</td>\n",
       "      <td>Barbour</td>\n",
       "      <td>Barbour, AL</td>\n",
       "      <td>Rural</td>\n",
       "      <td>25160.0</td>\n",
       "      <td>913.646511</td>\n",
       "      <td>27.538003</td>\n",
       "      <td>67.789635</td>\n",
       "      <td>...</td>\n",
       "      <td>589.566095</td>\n",
       "      <td>14.9</td>\n",
       "      <td>18.0</td>\n",
       "      <td>20.549591</td>\n",
       "      <td>19.976767</td>\n",
       "      <td>45.305240</td>\n",
       "      <td>46.703253</td>\n",
       "      <td>POINT (-85.4051035 31.8702531)</td>\n",
       "      <td>1</td>\n",
       "      <td>0</td>\n",
       "    </tr>\n",
       "    <tr>\n",
       "      <th>3</th>\n",
       "      <td>1007.0</td>\n",
       "      <td>AL</td>\n",
       "      <td>Alabama</td>\n",
       "      <td>Bibb</td>\n",
       "      <td>Bibb, AL</td>\n",
       "      <td>Rural</td>\n",
       "      <td>22239.0</td>\n",
       "      <td>632.486798</td>\n",
       "      <td>35.161208</td>\n",
       "      <td>68.352607</td>\n",
       "      <td>...</td>\n",
       "      <td>567.508146</td>\n",
       "      <td>12.7</td>\n",
       "      <td>17.4</td>\n",
       "      <td>20.118343</td>\n",
       "      <td>16.737109</td>\n",
       "      <td>73.564088</td>\n",
       "      <td>46.015927</td>\n",
       "      <td>POINT (-87.1271475 33.0158929)</td>\n",
       "      <td>1</td>\n",
       "      <td>0</td>\n",
       "    </tr>\n",
       "    <tr>\n",
       "      <th>4</th>\n",
       "      <td>1009.0</td>\n",
       "      <td>AL</td>\n",
       "      <td>Alabama</td>\n",
       "      <td>Blount</td>\n",
       "      <td>Blount, AL</td>\n",
       "      <td>Small Urban</td>\n",
       "      <td>58992.0</td>\n",
       "      <td>657.196555</td>\n",
       "      <td>89.763100</td>\n",
       "      <td>89.951502</td>\n",
       "      <td>...</td>\n",
       "      <td>532.836482</td>\n",
       "      <td>11.9</td>\n",
       "      <td>17.4</td>\n",
       "      <td>23.053471</td>\n",
       "      <td>18.725970</td>\n",
       "      <td>86.329839</td>\n",
       "      <td>50.192239</td>\n",
       "      <td>POINT (-86.56644 33.9773575)</td>\n",
       "      <td>1</td>\n",
       "      <td>0</td>\n",
       "    </tr>\n",
       "  </tbody>\n",
       "</table>\n",
       "<p>5 rows × 43 columns</p>\n",
       "</div>"
      ],
      "text/plain": [
       "     FIPS STATEABBRV    State   County County_State Community_Type  \\\n",
       "0  1001.0         AL  Alabama  Autauga  Autauga, AL    Small Urban   \n",
       "1  1003.0         AL  Alabama  Baldwin  Baldwin, AL    Small Urban   \n",
       "2  1005.0         AL  Alabama  Barbour  Barbour, AL          Rural   \n",
       "3  1007.0         AL  Alabama     Bibb     Bibb, AL          Rural   \n",
       "4  1009.0         AL  Alabama   Blount   Blount, AL    Small Urban   \n",
       "\n",
       "   POPULATION         AREA  Population_Density  Percent_Rural  ...  \\\n",
       "0     58764.0   610.470508           96.260178      42.002162  ...   \n",
       "1    231365.0  2047.738775          112.985603      42.279099  ...   \n",
       "2     25160.0   913.646511           27.538003      67.789635  ...   \n",
       "3     22239.0   632.486798           35.161208      68.352607  ...   \n",
       "4     58992.0   657.196555           89.763100      89.951502  ...   \n",
       "\n",
       "   Age_Adjusted_Death_Rate Percent_Frequent_Physical_Distress  \\\n",
       "0               427.073326                               10.7   \n",
       "1               381.702031                                9.9   \n",
       "2               589.566095                               14.9   \n",
       "3               567.508146                               12.7   \n",
       "4               532.836482                               11.9   \n",
       "\n",
       "   Percent_Frequent_Mental_Distress Percent_Less_than_18_Years_of_Age  \\\n",
       "0                              16.2                         23.406380   \n",
       "1                              16.1                         21.218250   \n",
       "2                              18.0                         20.549591   \n",
       "3                              17.4                         20.118343   \n",
       "4                              17.4                         23.053471   \n",
       "\n",
       "   Percent_65_and_Over Percent_Non_Hispanic_White  Percent_Female  \\\n",
       "0            16.048735                  72.454522       51.378289   \n",
       "1            21.469824                  83.148763       51.347715   \n",
       "2            19.976767                  45.305240       46.703253   \n",
       "3            16.737109                  73.564088       46.015927   \n",
       "4            18.725970                  86.329839       50.192239   \n",
       "\n",
       "                      Geolocation  Age_Adjusted_Death_Rate_mean_indicator  \\\n",
       "0  POINT (-86.6464395 32.5322367)                                       0   \n",
       "1  POINT (-87.7460666 30.6592183)                                       0   \n",
       "2  POINT (-85.4051035 31.8702531)                                       1   \n",
       "3  POINT (-87.1271475 33.0158929)                                       1   \n",
       "4    POINT (-86.56644 33.9773575)                                       1   \n",
       "\n",
       "   Life_Expectancy_mean_indicator  \n",
       "0                               0  \n",
       "1                               1  \n",
       "2                               0  \n",
       "3                               0  \n",
       "4                               0  \n",
       "\n",
       "[5 rows x 43 columns]"
      ]
     },
     "execution_count": 14,
     "metadata": {},
     "output_type": "execute_result"
    }
   ],
   "source": [
    "# create binary column that indicates if states are above or below national average for Life Expectancy\n",
    "\n",
    "# Life Expectancy national average\n",
    "Life_Expectancy_mean = NRI_county_health_data['Life_Expectancy'].mean()\n",
    "\n",
    "# create column\n",
    "NRI_county_health_data['Life_Expectancy_mean_indicator'] = np.where(NRI_county_health_data['Life_Expectancy'] > \n",
    "                                                                  Life_Expectancy_mean, 1, 0)\n",
    "NRI_county_health_data.head()"
   ]
  },
  {
   "cell_type": "code",
   "execution_count": 15,
   "id": "3103f3bf",
   "metadata": {},
   "outputs": [
    {
     "data": {
      "text/html": [
       "<div>\n",
       "<style scoped>\n",
       "    .dataframe tbody tr th:only-of-type {\n",
       "        vertical-align: middle;\n",
       "    }\n",
       "\n",
       "    .dataframe tbody tr th {\n",
       "        vertical-align: top;\n",
       "    }\n",
       "\n",
       "    .dataframe thead th {\n",
       "        text-align: right;\n",
       "    }\n",
       "</style>\n",
       "<table border=\"1\" class=\"dataframe\">\n",
       "  <thead>\n",
       "    <tr style=\"text-align: right;\">\n",
       "      <th></th>\n",
       "      <th>RISK_SCORE</th>\n",
       "      <th>Population_Density</th>\n",
       "      <th>Community_Type_Rural</th>\n",
       "      <th>Community_Type_Small Urban</th>\n",
       "      <th>Community_Type_Urban</th>\n",
       "    </tr>\n",
       "  </thead>\n",
       "  <tbody>\n",
       "    <tr>\n",
       "      <th>0</th>\n",
       "      <td>49.220490</td>\n",
       "      <td>96.260178</td>\n",
       "      <td>False</td>\n",
       "      <td>True</td>\n",
       "      <td>False</td>\n",
       "    </tr>\n",
       "    <tr>\n",
       "      <th>1</th>\n",
       "      <td>97.709195</td>\n",
       "      <td>112.985603</td>\n",
       "      <td>False</td>\n",
       "      <td>True</td>\n",
       "      <td>False</td>\n",
       "    </tr>\n",
       "    <tr>\n",
       "      <th>2</th>\n",
       "      <td>56.188355</td>\n",
       "      <td>27.538003</td>\n",
       "      <td>True</td>\n",
       "      <td>False</td>\n",
       "      <td>False</td>\n",
       "    </tr>\n",
       "    <tr>\n",
       "      <th>3</th>\n",
       "      <td>32.484887</td>\n",
       "      <td>35.161208</td>\n",
       "      <td>True</td>\n",
       "      <td>False</td>\n",
       "      <td>False</td>\n",
       "    </tr>\n",
       "    <tr>\n",
       "      <th>4</th>\n",
       "      <td>65.128858</td>\n",
       "      <td>89.763100</td>\n",
       "      <td>False</td>\n",
       "      <td>True</td>\n",
       "      <td>False</td>\n",
       "    </tr>\n",
       "    <tr>\n",
       "      <th>...</th>\n",
       "      <td>...</td>\n",
       "      <td>...</td>\n",
       "      <td>...</td>\n",
       "      <td>...</td>\n",
       "      <td>...</td>\n",
       "    </tr>\n",
       "    <tr>\n",
       "      <th>3138</th>\n",
       "      <td>6.617881</td>\n",
       "      <td>3.985817</td>\n",
       "      <td>True</td>\n",
       "      <td>False</td>\n",
       "      <td>False</td>\n",
       "    </tr>\n",
       "    <tr>\n",
       "      <th>3139</th>\n",
       "      <td>68.501432</td>\n",
       "      <td>5.457960</td>\n",
       "      <td>True</td>\n",
       "      <td>False</td>\n",
       "      <td>False</td>\n",
       "    </tr>\n",
       "    <tr>\n",
       "      <th>3140</th>\n",
       "      <td>21.699014</td>\n",
       "      <td>9.677509</td>\n",
       "      <td>True</td>\n",
       "      <td>False</td>\n",
       "      <td>False</td>\n",
       "    </tr>\n",
       "    <tr>\n",
       "      <th>3141</th>\n",
       "      <td>2.513522</td>\n",
       "      <td>3.382271</td>\n",
       "      <td>True</td>\n",
       "      <td>False</td>\n",
       "      <td>False</td>\n",
       "    </tr>\n",
       "    <tr>\n",
       "      <th>3142</th>\n",
       "      <td>16.640153</td>\n",
       "      <td>2.814064</td>\n",
       "      <td>True</td>\n",
       "      <td>False</td>\n",
       "      <td>False</td>\n",
       "    </tr>\n",
       "  </tbody>\n",
       "</table>\n",
       "<p>3143 rows × 5 columns</p>\n",
       "</div>"
      ],
      "text/plain": [
       "      RISK_SCORE  Population_Density  Community_Type_Rural  \\\n",
       "0      49.220490           96.260178                 False   \n",
       "1      97.709195          112.985603                 False   \n",
       "2      56.188355           27.538003                  True   \n",
       "3      32.484887           35.161208                  True   \n",
       "4      65.128858           89.763100                 False   \n",
       "...          ...                 ...                   ...   \n",
       "3138    6.617881            3.985817                  True   \n",
       "3139   68.501432            5.457960                  True   \n",
       "3140   21.699014            9.677509                  True   \n",
       "3141    2.513522            3.382271                  True   \n",
       "3142   16.640153            2.814064                  True   \n",
       "\n",
       "      Community_Type_Small Urban  Community_Type_Urban  \n",
       "0                           True                 False  \n",
       "1                           True                 False  \n",
       "2                          False                 False  \n",
       "3                          False                 False  \n",
       "4                           True                 False  \n",
       "...                          ...                   ...  \n",
       "3138                       False                 False  \n",
       "3139                       False                 False  \n",
       "3140                       False                 False  \n",
       "3141                       False                 False  \n",
       "3142                       False                 False  \n",
       "\n",
       "[3143 rows x 5 columns]"
      ]
     },
     "execution_count": 15,
     "metadata": {},
     "output_type": "execute_result"
    }
   ],
   "source": [
    "# features\n",
    "columns = [\"Community_Type\", \"RISK_SCORE\", \"Population_Density\"]\n",
    "X = NRI_county_health_data[columns]\n",
    "\n",
    "# target\n",
    "y = NRI_county_health_data[\"Life_Expectancy_mean_indicator\"]\n",
    "\n",
    "# Apply one-hot encoding for Community_Type nominal column\n",
    "X = pd.get_dummies(X, columns=['Community_Type'], prefix='Community_Type', drop_first=False)\n",
    "X"
   ]
  },
  {
   "cell_type": "code",
   "execution_count": 16,
   "id": "b02bf22f",
   "metadata": {},
   "outputs": [],
   "source": [
    "# split data into train and test\n",
    "\n",
    "X_train, X_test, y_train, y_test = train_test_split(X, y, \n",
    "                                                    test_size=0.15, # is 15% okay? Or should we do 20%\n",
    "                                                    random_state = 500) # I picked 500 because we have a larger datasset"
   ]
  },
  {
   "cell_type": "code",
   "execution_count": 17,
   "id": "f6380987",
   "metadata": {},
   "outputs": [
    {
     "data": {
      "text/html": [
       "<style>#sk-container-id-2 {color: black;}#sk-container-id-2 pre{padding: 0;}#sk-container-id-2 div.sk-toggleable {background-color: white;}#sk-container-id-2 label.sk-toggleable__label {cursor: pointer;display: block;width: 100%;margin-bottom: 0;padding: 0.3em;box-sizing: border-box;text-align: center;}#sk-container-id-2 label.sk-toggleable__label-arrow:before {content: \"▸\";float: left;margin-right: 0.25em;color: #696969;}#sk-container-id-2 label.sk-toggleable__label-arrow:hover:before {color: black;}#sk-container-id-2 div.sk-estimator:hover label.sk-toggleable__label-arrow:before {color: black;}#sk-container-id-2 div.sk-toggleable__content {max-height: 0;max-width: 0;overflow: hidden;text-align: left;background-color: #f0f8ff;}#sk-container-id-2 div.sk-toggleable__content pre {margin: 0.2em;color: black;border-radius: 0.25em;background-color: #f0f8ff;}#sk-container-id-2 input.sk-toggleable__control:checked~div.sk-toggleable__content {max-height: 200px;max-width: 100%;overflow: auto;}#sk-container-id-2 input.sk-toggleable__control:checked~label.sk-toggleable__label-arrow:before {content: \"▾\";}#sk-container-id-2 div.sk-estimator input.sk-toggleable__control:checked~label.sk-toggleable__label {background-color: #d4ebff;}#sk-container-id-2 div.sk-label input.sk-toggleable__control:checked~label.sk-toggleable__label {background-color: #d4ebff;}#sk-container-id-2 input.sk-hidden--visually {border: 0;clip: rect(1px 1px 1px 1px);clip: rect(1px, 1px, 1px, 1px);height: 1px;margin: -1px;overflow: hidden;padding: 0;position: absolute;width: 1px;}#sk-container-id-2 div.sk-estimator {font-family: monospace;background-color: #f0f8ff;border: 1px dotted black;border-radius: 0.25em;box-sizing: border-box;margin-bottom: 0.5em;}#sk-container-id-2 div.sk-estimator:hover {background-color: #d4ebff;}#sk-container-id-2 div.sk-parallel-item::after {content: \"\";width: 100%;border-bottom: 1px solid gray;flex-grow: 1;}#sk-container-id-2 div.sk-label:hover label.sk-toggleable__label {background-color: #d4ebff;}#sk-container-id-2 div.sk-serial::before {content: \"\";position: absolute;border-left: 1px solid gray;box-sizing: border-box;top: 0;bottom: 0;left: 50%;z-index: 0;}#sk-container-id-2 div.sk-serial {display: flex;flex-direction: column;align-items: center;background-color: white;padding-right: 0.2em;padding-left: 0.2em;position: relative;}#sk-container-id-2 div.sk-item {position: relative;z-index: 1;}#sk-container-id-2 div.sk-parallel {display: flex;align-items: stretch;justify-content: center;background-color: white;position: relative;}#sk-container-id-2 div.sk-item::before, #sk-container-id-2 div.sk-parallel-item::before {content: \"\";position: absolute;border-left: 1px solid gray;box-sizing: border-box;top: 0;bottom: 0;left: 50%;z-index: -1;}#sk-container-id-2 div.sk-parallel-item {display: flex;flex-direction: column;z-index: 1;position: relative;background-color: white;}#sk-container-id-2 div.sk-parallel-item:first-child::after {align-self: flex-end;width: 50%;}#sk-container-id-2 div.sk-parallel-item:last-child::after {align-self: flex-start;width: 50%;}#sk-container-id-2 div.sk-parallel-item:only-child::after {width: 0;}#sk-container-id-2 div.sk-dashed-wrapped {border: 1px dashed gray;margin: 0 0.4em 0.5em 0.4em;box-sizing: border-box;padding-bottom: 0.4em;background-color: white;}#sk-container-id-2 div.sk-label label {font-family: monospace;font-weight: bold;display: inline-block;line-height: 1.2em;}#sk-container-id-2 div.sk-label-container {text-align: center;}#sk-container-id-2 div.sk-container {/* jupyter's `normalize.less` sets `[hidden] { display: none; }` but bootstrap.min.css set `[hidden] { display: none !important; }` so we also need the `!important` here to be able to override the default hidden behavior on the sphinx rendered scikit-learn.org. See: https://github.com/scikit-learn/scikit-learn/issues/21755 */display: inline-block !important;position: relative;}#sk-container-id-2 div.sk-text-repr-fallback {display: none;}</style><div id=\"sk-container-id-2\" class=\"sk-top-container\"><div class=\"sk-text-repr-fallback\"><pre>LogisticRegression()</pre><b>In a Jupyter environment, please rerun this cell to show the HTML representation or trust the notebook. <br />On GitHub, the HTML representation is unable to render, please try loading this page with nbviewer.org.</b></div><div class=\"sk-container\" hidden><div class=\"sk-item\"><div class=\"sk-estimator sk-toggleable\"><input class=\"sk-toggleable__control sk-hidden--visually\" id=\"sk-estimator-id-2\" type=\"checkbox\" checked><label for=\"sk-estimator-id-2\" class=\"sk-toggleable__label sk-toggleable__label-arrow\">LogisticRegression</label><div class=\"sk-toggleable__content\"><pre>LogisticRegression()</pre></div></div></div></div></div>"
      ],
      "text/plain": [
       "LogisticRegression()"
      ]
     },
     "execution_count": 17,
     "metadata": {},
     "output_type": "execute_result"
    }
   ],
   "source": [
    "# create model\n",
    "\n",
    "# instantiate the modeling object\n",
    "model = LogisticRegression()\n",
    "\n",
    "# Fit the model\n",
    "model.fit(X_train,y_train)"
   ]
  },
  {
   "cell_type": "code",
   "execution_count": 18,
   "id": "2720fbb1",
   "metadata": {},
   "outputs": [
    {
     "data": {
      "text/plain": [
       "0.4152542372881356"
      ]
     },
     "execution_count": 18,
     "metadata": {},
     "output_type": "execute_result"
    }
   ],
   "source": [
    "# predict \n",
    "y_pred = model.predict(X_test)\n",
    "\n",
    "# calculate MSE in the test\n",
    "life_expectancy_mse = mean_squared_error(y_test, y_pred)\n",
    "life_expectancy_mse\n",
    "\n",
    "# same MSE as the age adjusted death rate and I don't know why....I've tried different things and it's the same"
   ]
  },
  {
   "cell_type": "markdown",
   "id": "fc18312c",
   "metadata": {},
   "source": [
    "## Number of Physically Unhealthy Days"
   ]
  },
  {
   "cell_type": "code",
   "execution_count": 19,
   "id": "b6822fe6",
   "metadata": {},
   "outputs": [
    {
     "data": {
      "text/html": [
       "<div>\n",
       "<style scoped>\n",
       "    .dataframe tbody tr th:only-of-type {\n",
       "        vertical-align: middle;\n",
       "    }\n",
       "\n",
       "    .dataframe tbody tr th {\n",
       "        vertical-align: top;\n",
       "    }\n",
       "\n",
       "    .dataframe thead th {\n",
       "        text-align: right;\n",
       "    }\n",
       "</style>\n",
       "<table border=\"1\" class=\"dataframe\">\n",
       "  <thead>\n",
       "    <tr style=\"text-align: right;\">\n",
       "      <th></th>\n",
       "      <th>FIPS</th>\n",
       "      <th>STATEABBRV</th>\n",
       "      <th>State</th>\n",
       "      <th>County</th>\n",
       "      <th>County_State</th>\n",
       "      <th>Community_Type</th>\n",
       "      <th>POPULATION</th>\n",
       "      <th>AREA</th>\n",
       "      <th>Population_Density</th>\n",
       "      <th>Percent_Rural</th>\n",
       "      <th>...</th>\n",
       "      <th>Percent_Frequent_Physical_Distress</th>\n",
       "      <th>Percent_Frequent_Mental_Distress</th>\n",
       "      <th>Percent_Less_than_18_Years_of_Age</th>\n",
       "      <th>Percent_65_and_Over</th>\n",
       "      <th>Percent_Non_Hispanic_White</th>\n",
       "      <th>Percent_Female</th>\n",
       "      <th>Geolocation</th>\n",
       "      <th>Age_Adjusted_Death_Rate_mean_indicator</th>\n",
       "      <th>Life_Expectancy_mean_indicator</th>\n",
       "      <th>Physically_Unhealthy_Days_mean_indicator</th>\n",
       "    </tr>\n",
       "  </thead>\n",
       "  <tbody>\n",
       "    <tr>\n",
       "      <th>0</th>\n",
       "      <td>1001.0</td>\n",
       "      <td>AL</td>\n",
       "      <td>Alabama</td>\n",
       "      <td>Autauga</td>\n",
       "      <td>Autauga, AL</td>\n",
       "      <td>Small Urban</td>\n",
       "      <td>58764.0</td>\n",
       "      <td>610.470508</td>\n",
       "      <td>96.260178</td>\n",
       "      <td>42.002162</td>\n",
       "      <td>...</td>\n",
       "      <td>10.7</td>\n",
       "      <td>16.2</td>\n",
       "      <td>23.406380</td>\n",
       "      <td>16.048735</td>\n",
       "      <td>72.454522</td>\n",
       "      <td>51.378289</td>\n",
       "      <td>POINT (-86.6464395 32.5322367)</td>\n",
       "      <td>0</td>\n",
       "      <td>0</td>\n",
       "      <td>0</td>\n",
       "    </tr>\n",
       "    <tr>\n",
       "      <th>1</th>\n",
       "      <td>1003.0</td>\n",
       "      <td>AL</td>\n",
       "      <td>Alabama</td>\n",
       "      <td>Baldwin</td>\n",
       "      <td>Baldwin, AL</td>\n",
       "      <td>Small Urban</td>\n",
       "      <td>231365.0</td>\n",
       "      <td>2047.738775</td>\n",
       "      <td>112.985603</td>\n",
       "      <td>42.279099</td>\n",
       "      <td>...</td>\n",
       "      <td>9.9</td>\n",
       "      <td>16.1</td>\n",
       "      <td>21.218250</td>\n",
       "      <td>21.469824</td>\n",
       "      <td>83.148763</td>\n",
       "      <td>51.347715</td>\n",
       "      <td>POINT (-87.7460666 30.6592183)</td>\n",
       "      <td>0</td>\n",
       "      <td>1</td>\n",
       "      <td>0</td>\n",
       "    </tr>\n",
       "    <tr>\n",
       "      <th>2</th>\n",
       "      <td>1005.0</td>\n",
       "      <td>AL</td>\n",
       "      <td>Alabama</td>\n",
       "      <td>Barbour</td>\n",
       "      <td>Barbour, AL</td>\n",
       "      <td>Rural</td>\n",
       "      <td>25160.0</td>\n",
       "      <td>913.646511</td>\n",
       "      <td>27.538003</td>\n",
       "      <td>67.789635</td>\n",
       "      <td>...</td>\n",
       "      <td>14.9</td>\n",
       "      <td>18.0</td>\n",
       "      <td>20.549591</td>\n",
       "      <td>19.976767</td>\n",
       "      <td>45.305240</td>\n",
       "      <td>46.703253</td>\n",
       "      <td>POINT (-85.4051035 31.8702531)</td>\n",
       "      <td>1</td>\n",
       "      <td>0</td>\n",
       "      <td>1</td>\n",
       "    </tr>\n",
       "    <tr>\n",
       "      <th>3</th>\n",
       "      <td>1007.0</td>\n",
       "      <td>AL</td>\n",
       "      <td>Alabama</td>\n",
       "      <td>Bibb</td>\n",
       "      <td>Bibb, AL</td>\n",
       "      <td>Rural</td>\n",
       "      <td>22239.0</td>\n",
       "      <td>632.486798</td>\n",
       "      <td>35.161208</td>\n",
       "      <td>68.352607</td>\n",
       "      <td>...</td>\n",
       "      <td>12.7</td>\n",
       "      <td>17.4</td>\n",
       "      <td>20.118343</td>\n",
       "      <td>16.737109</td>\n",
       "      <td>73.564088</td>\n",
       "      <td>46.015927</td>\n",
       "      <td>POINT (-87.1271475 33.0158929)</td>\n",
       "      <td>1</td>\n",
       "      <td>0</td>\n",
       "      <td>1</td>\n",
       "    </tr>\n",
       "    <tr>\n",
       "      <th>4</th>\n",
       "      <td>1009.0</td>\n",
       "      <td>AL</td>\n",
       "      <td>Alabama</td>\n",
       "      <td>Blount</td>\n",
       "      <td>Blount, AL</td>\n",
       "      <td>Small Urban</td>\n",
       "      <td>58992.0</td>\n",
       "      <td>657.196555</td>\n",
       "      <td>89.763100</td>\n",
       "      <td>89.951502</td>\n",
       "      <td>...</td>\n",
       "      <td>11.9</td>\n",
       "      <td>17.4</td>\n",
       "      <td>23.053471</td>\n",
       "      <td>18.725970</td>\n",
       "      <td>86.329839</td>\n",
       "      <td>50.192239</td>\n",
       "      <td>POINT (-86.56644 33.9773575)</td>\n",
       "      <td>1</td>\n",
       "      <td>0</td>\n",
       "      <td>1</td>\n",
       "    </tr>\n",
       "  </tbody>\n",
       "</table>\n",
       "<p>5 rows × 44 columns</p>\n",
       "</div>"
      ],
      "text/plain": [
       "     FIPS STATEABBRV    State   County County_State Community_Type  \\\n",
       "0  1001.0         AL  Alabama  Autauga  Autauga, AL    Small Urban   \n",
       "1  1003.0         AL  Alabama  Baldwin  Baldwin, AL    Small Urban   \n",
       "2  1005.0         AL  Alabama  Barbour  Barbour, AL          Rural   \n",
       "3  1007.0         AL  Alabama     Bibb     Bibb, AL          Rural   \n",
       "4  1009.0         AL  Alabama   Blount   Blount, AL    Small Urban   \n",
       "\n",
       "   POPULATION         AREA  Population_Density  Percent_Rural  ...  \\\n",
       "0     58764.0   610.470508           96.260178      42.002162  ...   \n",
       "1    231365.0  2047.738775          112.985603      42.279099  ...   \n",
       "2     25160.0   913.646511           27.538003      67.789635  ...   \n",
       "3     22239.0   632.486798           35.161208      68.352607  ...   \n",
       "4     58992.0   657.196555           89.763100      89.951502  ...   \n",
       "\n",
       "   Percent_Frequent_Physical_Distress Percent_Frequent_Mental_Distress  \\\n",
       "0                                10.7                             16.2   \n",
       "1                                 9.9                             16.1   \n",
       "2                                14.9                             18.0   \n",
       "3                                12.7                             17.4   \n",
       "4                                11.9                             17.4   \n",
       "\n",
       "   Percent_Less_than_18_Years_of_Age Percent_65_and_Over  \\\n",
       "0                          23.406380           16.048735   \n",
       "1                          21.218250           21.469824   \n",
       "2                          20.549591           19.976767   \n",
       "3                          20.118343           16.737109   \n",
       "4                          23.053471           18.725970   \n",
       "\n",
       "   Percent_Non_Hispanic_White Percent_Female                     Geolocation  \\\n",
       "0                   72.454522      51.378289  POINT (-86.6464395 32.5322367)   \n",
       "1                   83.148763      51.347715  POINT (-87.7460666 30.6592183)   \n",
       "2                   45.305240      46.703253  POINT (-85.4051035 31.8702531)   \n",
       "3                   73.564088      46.015927  POINT (-87.1271475 33.0158929)   \n",
       "4                   86.329839      50.192239    POINT (-86.56644 33.9773575)   \n",
       "\n",
       "  Age_Adjusted_Death_Rate_mean_indicator  Life_Expectancy_mean_indicator  \\\n",
       "0                                      0                               0   \n",
       "1                                      0                               1   \n",
       "2                                      1                               0   \n",
       "3                                      1                               0   \n",
       "4                                      1                               0   \n",
       "\n",
       "   Physically_Unhealthy_Days_mean_indicator  \n",
       "0                                         0  \n",
       "1                                         0  \n",
       "2                                         1  \n",
       "3                                         1  \n",
       "4                                         1  \n",
       "\n",
       "[5 rows x 44 columns]"
      ]
     },
     "execution_count": 19,
     "metadata": {},
     "output_type": "execute_result"
    }
   ],
   "source": [
    "# create binary column that indicates if states are above or below national average for Average Number of Physically\n",
    "# Unhealthy Days\n",
    "\n",
    "# Physically Unhealthy Days national average\n",
    "Physically_Unhealthy_Days_mean = NRI_county_health_data['Average_Number_of_Physically_Unhealthy_Days'].mean()\n",
    "\n",
    "# create column\n",
    "NRI_county_health_data['Physically_Unhealthy_Days_mean_indicator'] = np.where(NRI_county_health_data['Average_Number_of_Physically_Unhealthy_Days'] > \n",
    "                                                                  Physically_Unhealthy_Days_mean, 1, 0)\n",
    "NRI_county_health_data.head()"
   ]
  },
  {
   "cell_type": "code",
   "execution_count": 20,
   "id": "13105f8f",
   "metadata": {},
   "outputs": [],
   "source": [
    "# features\n",
    "columns = [\"Community_Type\", \"RISK_SCORE\", \"Population_Density\"]\n",
    "X = NRI_county_health_data[columns]\n",
    "\n",
    "# target\n",
    "y = NRI_county_health_data[\"Physically_Unhealthy_Days_mean_indicator\"]"
   ]
  },
  {
   "cell_type": "code",
   "execution_count": 21,
   "id": "2d59dd5f",
   "metadata": {},
   "outputs": [],
   "source": [
    "# Apply one-hot encoding for Community_Type nominal column\n",
    "X = pd.get_dummies(X, columns=['Community_Type'], prefix='Community_Type', drop_first=False)"
   ]
  },
  {
   "cell_type": "code",
   "execution_count": 22,
   "id": "3a3cec19",
   "metadata": {},
   "outputs": [],
   "source": [
    "# split data into train and test\n",
    "\n",
    "X_train, X_test, y_train, y_test = train_test_split(X, y, \n",
    "                                                    test_size=0.15, # is 15% okay? Or should we do 20%\n",
    "                                                    random_state = 500) # I picked 500 because we have a larger datasset"
   ]
  },
  {
   "cell_type": "code",
   "execution_count": 23,
   "id": "a99046b4",
   "metadata": {},
   "outputs": [
    {
     "data": {
      "text/html": [
       "<style>#sk-container-id-3 {color: black;}#sk-container-id-3 pre{padding: 0;}#sk-container-id-3 div.sk-toggleable {background-color: white;}#sk-container-id-3 label.sk-toggleable__label {cursor: pointer;display: block;width: 100%;margin-bottom: 0;padding: 0.3em;box-sizing: border-box;text-align: center;}#sk-container-id-3 label.sk-toggleable__label-arrow:before {content: \"▸\";float: left;margin-right: 0.25em;color: #696969;}#sk-container-id-3 label.sk-toggleable__label-arrow:hover:before {color: black;}#sk-container-id-3 div.sk-estimator:hover label.sk-toggleable__label-arrow:before {color: black;}#sk-container-id-3 div.sk-toggleable__content {max-height: 0;max-width: 0;overflow: hidden;text-align: left;background-color: #f0f8ff;}#sk-container-id-3 div.sk-toggleable__content pre {margin: 0.2em;color: black;border-radius: 0.25em;background-color: #f0f8ff;}#sk-container-id-3 input.sk-toggleable__control:checked~div.sk-toggleable__content {max-height: 200px;max-width: 100%;overflow: auto;}#sk-container-id-3 input.sk-toggleable__control:checked~label.sk-toggleable__label-arrow:before {content: \"▾\";}#sk-container-id-3 div.sk-estimator input.sk-toggleable__control:checked~label.sk-toggleable__label {background-color: #d4ebff;}#sk-container-id-3 div.sk-label input.sk-toggleable__control:checked~label.sk-toggleable__label {background-color: #d4ebff;}#sk-container-id-3 input.sk-hidden--visually {border: 0;clip: rect(1px 1px 1px 1px);clip: rect(1px, 1px, 1px, 1px);height: 1px;margin: -1px;overflow: hidden;padding: 0;position: absolute;width: 1px;}#sk-container-id-3 div.sk-estimator {font-family: monospace;background-color: #f0f8ff;border: 1px dotted black;border-radius: 0.25em;box-sizing: border-box;margin-bottom: 0.5em;}#sk-container-id-3 div.sk-estimator:hover {background-color: #d4ebff;}#sk-container-id-3 div.sk-parallel-item::after {content: \"\";width: 100%;border-bottom: 1px solid gray;flex-grow: 1;}#sk-container-id-3 div.sk-label:hover label.sk-toggleable__label {background-color: #d4ebff;}#sk-container-id-3 div.sk-serial::before {content: \"\";position: absolute;border-left: 1px solid gray;box-sizing: border-box;top: 0;bottom: 0;left: 50%;z-index: 0;}#sk-container-id-3 div.sk-serial {display: flex;flex-direction: column;align-items: center;background-color: white;padding-right: 0.2em;padding-left: 0.2em;position: relative;}#sk-container-id-3 div.sk-item {position: relative;z-index: 1;}#sk-container-id-3 div.sk-parallel {display: flex;align-items: stretch;justify-content: center;background-color: white;position: relative;}#sk-container-id-3 div.sk-item::before, #sk-container-id-3 div.sk-parallel-item::before {content: \"\";position: absolute;border-left: 1px solid gray;box-sizing: border-box;top: 0;bottom: 0;left: 50%;z-index: -1;}#sk-container-id-3 div.sk-parallel-item {display: flex;flex-direction: column;z-index: 1;position: relative;background-color: white;}#sk-container-id-3 div.sk-parallel-item:first-child::after {align-self: flex-end;width: 50%;}#sk-container-id-3 div.sk-parallel-item:last-child::after {align-self: flex-start;width: 50%;}#sk-container-id-3 div.sk-parallel-item:only-child::after {width: 0;}#sk-container-id-3 div.sk-dashed-wrapped {border: 1px dashed gray;margin: 0 0.4em 0.5em 0.4em;box-sizing: border-box;padding-bottom: 0.4em;background-color: white;}#sk-container-id-3 div.sk-label label {font-family: monospace;font-weight: bold;display: inline-block;line-height: 1.2em;}#sk-container-id-3 div.sk-label-container {text-align: center;}#sk-container-id-3 div.sk-container {/* jupyter's `normalize.less` sets `[hidden] { display: none; }` but bootstrap.min.css set `[hidden] { display: none !important; }` so we also need the `!important` here to be able to override the default hidden behavior on the sphinx rendered scikit-learn.org. See: https://github.com/scikit-learn/scikit-learn/issues/21755 */display: inline-block !important;position: relative;}#sk-container-id-3 div.sk-text-repr-fallback {display: none;}</style><div id=\"sk-container-id-3\" class=\"sk-top-container\"><div class=\"sk-text-repr-fallback\"><pre>LogisticRegression()</pre><b>In a Jupyter environment, please rerun this cell to show the HTML representation or trust the notebook. <br />On GitHub, the HTML representation is unable to render, please try loading this page with nbviewer.org.</b></div><div class=\"sk-container\" hidden><div class=\"sk-item\"><div class=\"sk-estimator sk-toggleable\"><input class=\"sk-toggleable__control sk-hidden--visually\" id=\"sk-estimator-id-3\" type=\"checkbox\" checked><label for=\"sk-estimator-id-3\" class=\"sk-toggleable__label sk-toggleable__label-arrow\">LogisticRegression</label><div class=\"sk-toggleable__content\"><pre>LogisticRegression()</pre></div></div></div></div></div>"
      ],
      "text/plain": [
       "LogisticRegression()"
      ]
     },
     "execution_count": 23,
     "metadata": {},
     "output_type": "execute_result"
    }
   ],
   "source": [
    "# create model\n",
    "\n",
    "# instantiate the modeling object\n",
    "model_ols = LogisticRegression()\n",
    "\n",
    "# Fit the model\n",
    "model_ols.fit(X_train,y_train)"
   ]
  },
  {
   "cell_type": "code",
   "execution_count": 24,
   "id": "9ac7794b",
   "metadata": {},
   "outputs": [
    {
     "data": {
      "text/plain": [
       "0.5953389830508474"
      ]
     },
     "execution_count": 24,
     "metadata": {},
     "output_type": "execute_result"
    }
   ],
   "source": [
    "# predict \n",
    "y_pred = model.predict(X_test)\n",
    "\n",
    "# calculate MSE in the test\n",
    "physically_unhealthy_mse = mean_squared_error(y_test, y_pred)\n",
    "physically_unhealthy_mse"
   ]
  },
  {
   "cell_type": "markdown",
   "id": "060c189c",
   "metadata": {},
   "source": [
    "## Number of Mentally Unhealthy Days"
   ]
  },
  {
   "cell_type": "code",
   "execution_count": 25,
   "id": "3b9f868b",
   "metadata": {},
   "outputs": [],
   "source": [
    "# create binary column that indicates if states are above or below national average for Average Number of Mentally\n",
    "# Unhealthy Days\n",
    "\n",
    "# national average\n",
    "Mentally_Unhealthy_Days_mean = NRI_county_health_data['Average_Number_of_Mentally_Unhealthy_Days'].mean()\n",
    "\n",
    "# create column\n",
    "NRI_county_health_data['Mentally_Unhealthy_Days_mean_indicator'] = np.where(NRI_county_health_data['Average_Number_of_Mentally_Unhealthy_Days'] > \n",
    "                                                                  Mentally_Unhealthy_Days_mean, 1, 0)"
   ]
  },
  {
   "cell_type": "code",
   "execution_count": 26,
   "id": "d95d7102",
   "metadata": {},
   "outputs": [],
   "source": [
    "# features\n",
    "columns = [\"Community_Type\", \"RISK_SCORE\", \"Population_Density\"]\n",
    "X = NRI_county_health_data[columns]\n",
    "\n",
    "# target\n",
    "y = NRI_county_health_data[\"Mentally_Unhealthy_Days_mean_indicator\"]"
   ]
  },
  {
   "cell_type": "code",
   "execution_count": 27,
   "id": "3b2ccb1e",
   "metadata": {},
   "outputs": [],
   "source": [
    "# Apply one-hot encoding for Community_Type nominal column\n",
    "X = pd.get_dummies(X, columns=['Community_Type'], prefix='Community_Type', drop_first=False)"
   ]
  },
  {
   "cell_type": "code",
   "execution_count": 28,
   "id": "4beea55c",
   "metadata": {},
   "outputs": [],
   "source": [
    "# split data into train and test\n",
    "\n",
    "X_train, X_test, y_train, y_test = train_test_split(X, y, \n",
    "                                                    test_size=0.15, # is 15% okay? Or should we do 20%\n",
    "                                                    random_state = 500) # I picked 500 because we have a larger datasset"
   ]
  },
  {
   "cell_type": "code",
   "execution_count": 29,
   "id": "c5315903",
   "metadata": {},
   "outputs": [],
   "source": [
    "# create model\n",
    "\n",
    "# instantiate the modeling object\n",
    "model = LogisticRegression()\n",
    "\n",
    "# Fit the model\n",
    "mentally_unhealthy_model = model.fit(X_train,y_train)"
   ]
  },
  {
   "cell_type": "code",
   "execution_count": 30,
   "id": "db2ad850",
   "metadata": {},
   "outputs": [
    {
     "data": {
      "text/plain": [
       "0.4639830508474576"
      ]
     },
     "execution_count": 30,
     "metadata": {},
     "output_type": "execute_result"
    }
   ],
   "source": [
    "# predict \n",
    "y_pred = model.predict(X_test)\n",
    "\n",
    "# calculate MSE in the test\n",
    "mentally_unhealthy_mse = mean_squared_error(y_test, y_pred)\n",
    "mentally_unhealthy_mse"
   ]
  },
  {
   "cell_type": "markdown",
   "id": "7d6a0168",
   "metadata": {},
   "source": [
    "# Cross Validation Techniques"
   ]
  },
  {
   "cell_type": "markdown",
   "id": "73c7b0ab",
   "metadata": {},
   "source": [
    "Going to use k-folds because I think it makes the most sense for this project and analysis"
   ]
  },
  {
   "cell_type": "markdown",
   "id": "47c4d804",
   "metadata": {},
   "source": [
    "## Age Adjusted Death Rate"
   ]
  },
  {
   "cell_type": "code",
   "execution_count": 31,
   "id": "1cd25c9d",
   "metadata": {},
   "outputs": [],
   "source": [
    "from sklearn.model_selection import train_test_split # Train-test split\n",
    "from sklearn.model_selection import cross_val_score, KFold\n",
    "from sklearn.linear_model import ElasticNet\n",
    "from sklearn.model_selection import GridSearchCV\n",
    "from sklearn.preprocessing import StandardScaler"
   ]
  },
  {
   "cell_type": "markdown",
   "id": "b1e64cb0",
   "metadata": {},
   "source": [
    "### K-Fold"
   ]
  },
  {
   "cell_type": "code",
   "execution_count": 32,
   "id": "c3dc2ccc",
   "metadata": {},
   "outputs": [],
   "source": [
    "# features\n",
    "columns = [\"Community_Type\", \"RISK_SCORE\", \"Population_Density\"]\n",
    "X = NRI_county_health_data[columns]\n",
    "\n",
    "# target\n",
    "y = NRI_county_health_data[\"Age_Adjusted_Death_Rate_mean_indicator\"]"
   ]
  },
  {
   "cell_type": "code",
   "execution_count": 33,
   "id": "789c8baf",
   "metadata": {},
   "outputs": [],
   "source": [
    "# Apply one-hot encoding for Community_Type nominal column\n",
    "X = pd.get_dummies(X, columns=['Community_Type'], prefix='Community_Type', drop_first=False)"
   ]
  },
  {
   "cell_type": "code",
   "execution_count": 34,
   "id": "5f2643a8",
   "metadata": {},
   "outputs": [],
   "source": [
    "# scale the variables - may improve accuracy\n",
    "scaler = StandardScaler()\n",
    "X_scaled = scaler.fit_transform(X)"
   ]
  },
  {
   "cell_type": "code",
   "execution_count": 35,
   "id": "18f939e1",
   "metadata": {},
   "outputs": [],
   "source": [
    "# instantiate the modeling object\n",
    "model = LogisticRegression()"
   ]
  },
  {
   "cell_type": "code",
   "execution_count": 36,
   "id": "84b54734",
   "metadata": {},
   "outputs": [],
   "source": [
    "# number of folds\n",
    "k_folds = 10  \n",
    "\n",
    "# split the data into folds\n",
    "kf = KFold(n_splits=k_folds, shuffle=True, random_state=42)"
   ]
  },
  {
   "cell_type": "code",
   "execution_count": 37,
   "id": "8e508934",
   "metadata": {},
   "outputs": [],
   "source": [
    "# accuracy scores of each fold\n",
    "scores = cross_val_score(model, X_scaled, y, cv=kf, scoring='accuracy')\n"
   ]
  },
  {
   "cell_type": "code",
   "execution_count": 38,
   "id": "5ed1fbd1",
   "metadata": {},
   "outputs": [
    {
     "name": "stdout",
     "output_type": "stream",
     "text": [
      "Mean Accuracy: 0.6023\n",
      "Standard Deviation: 0.0192\n"
     ]
    }
   ],
   "source": [
    "print(f'Mean Accuracy: {np.mean(scores):.4f}')\n",
    "print(f'Standard Deviation: {np.std(scores):.4f}')"
   ]
  },
  {
   "cell_type": "markdown",
   "id": "89f9d069",
   "metadata": {},
   "source": [
    "## Life Expectancy"
   ]
  },
  {
   "cell_type": "markdown",
   "id": "4bb1bae5",
   "metadata": {},
   "source": [
    "### K-Fold"
   ]
  },
  {
   "cell_type": "code",
   "execution_count": 39,
   "id": "b86d3de7",
   "metadata": {},
   "outputs": [],
   "source": [
    "# features\n",
    "columns = [\"Community_Type\", \"RISK_SCORE\", \"Population_Density\"]\n",
    "X = NRI_county_health_data[columns]\n",
    "\n",
    "# target\n",
    "y = NRI_county_health_data[\"Life_Expectancy_mean_indicator\"]\n",
    "\n",
    "# Apply one-hot encoding for Community_Type nominal column\n",
    "X = pd.get_dummies(X, columns=['Community_Type'], prefix='Community_Type', drop_first=False)"
   ]
  },
  {
   "cell_type": "code",
   "execution_count": 40,
   "id": "56220272",
   "metadata": {},
   "outputs": [],
   "source": [
    "# scale the variables - may improve accuracy\n",
    "scaler = StandardScaler()\n",
    "X_scaled = scaler.fit_transform(X)"
   ]
  },
  {
   "cell_type": "code",
   "execution_count": 41,
   "id": "687a6ab6",
   "metadata": {},
   "outputs": [],
   "source": [
    "# instantiate the modeling object\n",
    "model = LogisticRegression()"
   ]
  },
  {
   "cell_type": "code",
   "execution_count": 42,
   "id": "04f5c09a",
   "metadata": {},
   "outputs": [],
   "source": [
    "# number of folds\n",
    "k_folds = 10  \n",
    "\n",
    "# split the data into folds\n",
    "kf = KFold(n_splits=k_folds, shuffle=True, random_state=42)"
   ]
  },
  {
   "cell_type": "code",
   "execution_count": 43,
   "id": "7d5e3375",
   "metadata": {},
   "outputs": [],
   "source": [
    "# accuracy scores of each fold\n",
    "scores = cross_val_score(model, X_scaled, y, cv=kf, scoring='accuracy')"
   ]
  },
  {
   "cell_type": "code",
   "execution_count": 44,
   "id": "1867c9f2",
   "metadata": {},
   "outputs": [
    {
     "name": "stdout",
     "output_type": "stream",
     "text": [
      "Mean Accuracy: 0.5756\n",
      "Standard Deviation: 0.0211\n"
     ]
    }
   ],
   "source": [
    "print(f'Mean Accuracy: {np.mean(scores):.4f}')\n",
    "print(f'Standard Deviation: {np.std(scores):.4f}')"
   ]
  },
  {
   "cell_type": "markdown",
   "id": "92490453",
   "metadata": {},
   "source": [
    "## Physically Unhealthy Days"
   ]
  },
  {
   "cell_type": "markdown",
   "id": "6e92c1b4",
   "metadata": {},
   "source": [
    "### K-Folds"
   ]
  },
  {
   "cell_type": "code",
   "execution_count": 45,
   "id": "ab5f87ef",
   "metadata": {},
   "outputs": [],
   "source": [
    "# features\n",
    "columns = [\"Community_Type\", \"RISK_SCORE\", \"Population_Density\"]\n",
    "X = NRI_county_health_data[columns]\n",
    "\n",
    "# target\n",
    "y = NRI_county_health_data[\"Physically_Unhealthy_Days_mean_indicator\"]\n",
    "\n",
    "# Apply one-hot encoding for Community_Type nominal column\n",
    "X = pd.get_dummies(X, columns=['Community_Type'], prefix='Community_Type', drop_first=False)"
   ]
  },
  {
   "cell_type": "code",
   "execution_count": 46,
   "id": "f5b2300e",
   "metadata": {},
   "outputs": [],
   "source": [
    "# scale the variables - may improve accuracy\n",
    "scaler = StandardScaler()\n",
    "X_scaled = scaler.fit_transform(X)"
   ]
  },
  {
   "cell_type": "code",
   "execution_count": 47,
   "id": "2cb599ce",
   "metadata": {},
   "outputs": [],
   "source": [
    "# instantiate the modeling object\n",
    "model = LogisticRegression()"
   ]
  },
  {
   "cell_type": "code",
   "execution_count": 48,
   "id": "1fb87528",
   "metadata": {},
   "outputs": [],
   "source": [
    "# number of folds\n",
    "k_folds = 10  \n",
    "\n",
    "# split the data into folds\n",
    "kf = KFold(n_splits=k_folds, shuffle=True, random_state=42)"
   ]
  },
  {
   "cell_type": "code",
   "execution_count": 49,
   "id": "947435c8",
   "metadata": {},
   "outputs": [],
   "source": [
    "# accuracy scores of each fold\n",
    "scores = cross_val_score(model, X_scaled, y, cv=kf, scoring='accuracy')"
   ]
  },
  {
   "cell_type": "code",
   "execution_count": 50,
   "id": "bbda216e",
   "metadata": {},
   "outputs": [
    {
     "name": "stdout",
     "output_type": "stream",
     "text": [
      "Mean Accuracy: 0.5937\n",
      "Standard Deviation: 0.0214\n"
     ]
    }
   ],
   "source": [
    "print(f'Mean Accuracy: {np.mean(scores):.4f}')\n",
    "print(f'Standard Deviation: {np.std(scores):.4f}')"
   ]
  },
  {
   "cell_type": "markdown",
   "id": "843cbee2",
   "metadata": {},
   "source": [
    "## Mentally Unhealthy Days"
   ]
  },
  {
   "cell_type": "markdown",
   "id": "11ea49ef",
   "metadata": {},
   "source": [
    "### K Folds"
   ]
  },
  {
   "cell_type": "code",
   "execution_count": 51,
   "id": "7f76abfd",
   "metadata": {},
   "outputs": [],
   "source": [
    "# features\n",
    "columns = [\"Community_Type\", \"RISK_SCORE\", \"Population_Density\"]\n",
    "X = NRI_county_health_data[columns]\n",
    "\n",
    "# target\n",
    "y = NRI_county_health_data[\"Mentally_Unhealthy_Days_mean_indicator\"]\n",
    "\n",
    "\n",
    "# Apply one-hot encoding for Community_Type nominal column\n",
    "X = pd.get_dummies(X, columns=['Community_Type'], prefix='Community_Type', drop_first=False)"
   ]
  },
  {
   "cell_type": "code",
   "execution_count": 52,
   "id": "4c7308ae",
   "metadata": {},
   "outputs": [],
   "source": [
    "# scale the variables - may improve accuracy\n",
    "scaler = StandardScaler()\n",
    "X_scaled = scaler.fit_transform(X)"
   ]
  },
  {
   "cell_type": "code",
   "execution_count": 53,
   "id": "f60ff953",
   "metadata": {},
   "outputs": [],
   "source": [
    "# instantiate the modeling object\n",
    "model = LogisticRegression()"
   ]
  },
  {
   "cell_type": "code",
   "execution_count": 54,
   "id": "729fdd2f",
   "metadata": {},
   "outputs": [],
   "source": [
    "# number of folds\n",
    "k_folds = 10  \n",
    "\n",
    "# split the data into folds\n",
    "kf = KFold(n_splits=k_folds, shuffle=True, random_state=42)"
   ]
  },
  {
   "cell_type": "code",
   "execution_count": 55,
   "id": "00211107",
   "metadata": {},
   "outputs": [],
   "source": [
    "# accuracy scores of each fold\n",
    "scores = cross_val_score(model, X_scaled, y, cv=kf, scoring='accuracy')"
   ]
  },
  {
   "cell_type": "code",
   "execution_count": 56,
   "id": "f65c1558",
   "metadata": {},
   "outputs": [
    {
     "name": "stdout",
     "output_type": "stream",
     "text": [
      "Mean Accuracy: 0.5403\n",
      "Standard Deviation: 0.0344\n"
     ]
    }
   ],
   "source": [
    "print(f'Mean Accuracy: {np.mean(scores):.4f}')\n",
    "print(f'Standard Deviation: {np.std(scores):.4f}')"
   ]
  },
  {
   "cell_type": "markdown",
   "id": "3994ef5e",
   "metadata": {},
   "source": [
    "### Analysis:"
   ]
  },
  {
   "cell_type": "markdown",
   "id": "76310881",
   "metadata": {},
   "source": [
    "Using k-fold cross validation improved the accuracy of the models by about 10%. Still not a great predictor, but it is a lot better and we should actually be able to use the models now."
   ]
  },
  {
   "cell_type": "markdown",
   "id": "cac236ff",
   "metadata": {},
   "source": [
    "# ML Prediction Models 2.0 - Decision Trees and Risk Score Squared"
   ]
  },
  {
   "cell_type": "code",
   "execution_count": 57,
   "id": "4ba7f463",
   "metadata": {},
   "outputs": [
    {
     "data": {
      "text/html": [
       "<div>\n",
       "<style scoped>\n",
       "    .dataframe tbody tr th:only-of-type {\n",
       "        vertical-align: middle;\n",
       "    }\n",
       "\n",
       "    .dataframe tbody tr th {\n",
       "        vertical-align: top;\n",
       "    }\n",
       "\n",
       "    .dataframe thead th {\n",
       "        text-align: right;\n",
       "    }\n",
       "</style>\n",
       "<table border=\"1\" class=\"dataframe\">\n",
       "  <thead>\n",
       "    <tr style=\"text-align: right;\">\n",
       "      <th></th>\n",
       "      <th>FIPS</th>\n",
       "      <th>STATEABBRV</th>\n",
       "      <th>State</th>\n",
       "      <th>County</th>\n",
       "      <th>County_State</th>\n",
       "      <th>Community_Type</th>\n",
       "      <th>POPULATION</th>\n",
       "      <th>AREA</th>\n",
       "      <th>Population_Density</th>\n",
       "      <th>Percent_Rural</th>\n",
       "      <th>...</th>\n",
       "      <th>Percent_Less_than_18_Years_of_Age</th>\n",
       "      <th>Percent_65_and_Over</th>\n",
       "      <th>Percent_Non_Hispanic_White</th>\n",
       "      <th>Percent_Female</th>\n",
       "      <th>Geolocation</th>\n",
       "      <th>Age_Adjusted_Death_Rate_mean_indicator</th>\n",
       "      <th>Life_Expectancy_mean_indicator</th>\n",
       "      <th>Physically_Unhealthy_Days_mean_indicator</th>\n",
       "      <th>Mentally_Unhealthy_Days_mean_indicator</th>\n",
       "      <th>risk_score_squared</th>\n",
       "    </tr>\n",
       "  </thead>\n",
       "  <tbody>\n",
       "    <tr>\n",
       "      <th>0</th>\n",
       "      <td>1001.0</td>\n",
       "      <td>AL</td>\n",
       "      <td>Alabama</td>\n",
       "      <td>Autauga</td>\n",
       "      <td>Autauga, AL</td>\n",
       "      <td>Small Urban</td>\n",
       "      <td>58764.0</td>\n",
       "      <td>610.470508</td>\n",
       "      <td>96.260178</td>\n",
       "      <td>42.002162</td>\n",
       "      <td>...</td>\n",
       "      <td>23.406380</td>\n",
       "      <td>16.048735</td>\n",
       "      <td>72.454522</td>\n",
       "      <td>51.378289</td>\n",
       "      <td>POINT (-86.6464395 32.5322367)</td>\n",
       "      <td>0</td>\n",
       "      <td>0</td>\n",
       "      <td>0</td>\n",
       "      <td>0</td>\n",
       "      <td>2422.656634</td>\n",
       "    </tr>\n",
       "    <tr>\n",
       "      <th>1</th>\n",
       "      <td>1003.0</td>\n",
       "      <td>AL</td>\n",
       "      <td>Alabama</td>\n",
       "      <td>Baldwin</td>\n",
       "      <td>Baldwin, AL</td>\n",
       "      <td>Small Urban</td>\n",
       "      <td>231365.0</td>\n",
       "      <td>2047.738775</td>\n",
       "      <td>112.985603</td>\n",
       "      <td>42.279099</td>\n",
       "      <td>...</td>\n",
       "      <td>21.218250</td>\n",
       "      <td>21.469824</td>\n",
       "      <td>83.148763</td>\n",
       "      <td>51.347715</td>\n",
       "      <td>POINT (-87.7460666 30.6592183)</td>\n",
       "      <td>0</td>\n",
       "      <td>1</td>\n",
       "      <td>0</td>\n",
       "      <td>0</td>\n",
       "      <td>9547.086795</td>\n",
       "    </tr>\n",
       "    <tr>\n",
       "      <th>2</th>\n",
       "      <td>1005.0</td>\n",
       "      <td>AL</td>\n",
       "      <td>Alabama</td>\n",
       "      <td>Barbour</td>\n",
       "      <td>Barbour, AL</td>\n",
       "      <td>Rural</td>\n",
       "      <td>25160.0</td>\n",
       "      <td>913.646511</td>\n",
       "      <td>27.538003</td>\n",
       "      <td>67.789635</td>\n",
       "      <td>...</td>\n",
       "      <td>20.549591</td>\n",
       "      <td>19.976767</td>\n",
       "      <td>45.305240</td>\n",
       "      <td>46.703253</td>\n",
       "      <td>POINT (-85.4051035 31.8702531)</td>\n",
       "      <td>1</td>\n",
       "      <td>0</td>\n",
       "      <td>1</td>\n",
       "      <td>1</td>\n",
       "      <td>3157.131246</td>\n",
       "    </tr>\n",
       "    <tr>\n",
       "      <th>3</th>\n",
       "      <td>1007.0</td>\n",
       "      <td>AL</td>\n",
       "      <td>Alabama</td>\n",
       "      <td>Bibb</td>\n",
       "      <td>Bibb, AL</td>\n",
       "      <td>Rural</td>\n",
       "      <td>22239.0</td>\n",
       "      <td>632.486798</td>\n",
       "      <td>35.161208</td>\n",
       "      <td>68.352607</td>\n",
       "      <td>...</td>\n",
       "      <td>20.118343</td>\n",
       "      <td>16.737109</td>\n",
       "      <td>73.564088</td>\n",
       "      <td>46.015927</td>\n",
       "      <td>POINT (-87.1271475 33.0158929)</td>\n",
       "      <td>1</td>\n",
       "      <td>0</td>\n",
       "      <td>1</td>\n",
       "      <td>1</td>\n",
       "      <td>1055.267887</td>\n",
       "    </tr>\n",
       "    <tr>\n",
       "      <th>4</th>\n",
       "      <td>1009.0</td>\n",
       "      <td>AL</td>\n",
       "      <td>Alabama</td>\n",
       "      <td>Blount</td>\n",
       "      <td>Blount, AL</td>\n",
       "      <td>Small Urban</td>\n",
       "      <td>58992.0</td>\n",
       "      <td>657.196555</td>\n",
       "      <td>89.763100</td>\n",
       "      <td>89.951502</td>\n",
       "      <td>...</td>\n",
       "      <td>23.053471</td>\n",
       "      <td>18.725970</td>\n",
       "      <td>86.329839</td>\n",
       "      <td>50.192239</td>\n",
       "      <td>POINT (-86.56644 33.9773575)</td>\n",
       "      <td>1</td>\n",
       "      <td>0</td>\n",
       "      <td>1</td>\n",
       "      <td>1</td>\n",
       "      <td>4241.768116</td>\n",
       "    </tr>\n",
       "  </tbody>\n",
       "</table>\n",
       "<p>5 rows × 46 columns</p>\n",
       "</div>"
      ],
      "text/plain": [
       "     FIPS STATEABBRV    State   County County_State Community_Type  \\\n",
       "0  1001.0         AL  Alabama  Autauga  Autauga, AL    Small Urban   \n",
       "1  1003.0         AL  Alabama  Baldwin  Baldwin, AL    Small Urban   \n",
       "2  1005.0         AL  Alabama  Barbour  Barbour, AL          Rural   \n",
       "3  1007.0         AL  Alabama     Bibb     Bibb, AL          Rural   \n",
       "4  1009.0         AL  Alabama   Blount   Blount, AL    Small Urban   \n",
       "\n",
       "   POPULATION         AREA  Population_Density  Percent_Rural  ...  \\\n",
       "0     58764.0   610.470508           96.260178      42.002162  ...   \n",
       "1    231365.0  2047.738775          112.985603      42.279099  ...   \n",
       "2     25160.0   913.646511           27.538003      67.789635  ...   \n",
       "3     22239.0   632.486798           35.161208      68.352607  ...   \n",
       "4     58992.0   657.196555           89.763100      89.951502  ...   \n",
       "\n",
       "   Percent_Less_than_18_Years_of_Age Percent_65_and_Over  \\\n",
       "0                          23.406380           16.048735   \n",
       "1                          21.218250           21.469824   \n",
       "2                          20.549591           19.976767   \n",
       "3                          20.118343           16.737109   \n",
       "4                          23.053471           18.725970   \n",
       "\n",
       "   Percent_Non_Hispanic_White Percent_Female                     Geolocation  \\\n",
       "0                   72.454522      51.378289  POINT (-86.6464395 32.5322367)   \n",
       "1                   83.148763      51.347715  POINT (-87.7460666 30.6592183)   \n",
       "2                   45.305240      46.703253  POINT (-85.4051035 31.8702531)   \n",
       "3                   73.564088      46.015927  POINT (-87.1271475 33.0158929)   \n",
       "4                   86.329839      50.192239    POINT (-86.56644 33.9773575)   \n",
       "\n",
       "  Age_Adjusted_Death_Rate_mean_indicator  Life_Expectancy_mean_indicator  \\\n",
       "0                                      0                               0   \n",
       "1                                      0                               1   \n",
       "2                                      1                               0   \n",
       "3                                      1                               0   \n",
       "4                                      1                               0   \n",
       "\n",
       "  Physically_Unhealthy_Days_mean_indicator  \\\n",
       "0                                        0   \n",
       "1                                        0   \n",
       "2                                        1   \n",
       "3                                        1   \n",
       "4                                        1   \n",
       "\n",
       "   Mentally_Unhealthy_Days_mean_indicator  risk_score_squared  \n",
       "0                                       0         2422.656634  \n",
       "1                                       0         9547.086795  \n",
       "2                                       1         3157.131246  \n",
       "3                                       1         1055.267887  \n",
       "4                                       1         4241.768116  \n",
       "\n",
       "[5 rows x 46 columns]"
      ]
     },
     "execution_count": 57,
     "metadata": {},
     "output_type": "execute_result"
    }
   ],
   "source": [
    "# create risk_score_squared column\n",
    "\n",
    "NRI_county_health_data['risk_score_squared'] = NRI_county_health_data['RISK_SCORE']**2\n",
    "NRI_county_health_data.head()"
   ]
  },
  {
   "cell_type": "markdown",
   "id": "61f9d065",
   "metadata": {},
   "source": [
    "### Age Adjusted Death Rate"
   ]
  },
  {
   "cell_type": "markdown",
   "id": "8178957c",
   "metadata": {},
   "source": [
    "#### Decision Tree"
   ]
  },
  {
   "cell_type": "code",
   "execution_count": 58,
   "id": "ce3cfb05",
   "metadata": {},
   "outputs": [
    {
     "data": {
      "text/html": [
       "<div>\n",
       "<style scoped>\n",
       "    .dataframe tbody tr th:only-of-type {\n",
       "        vertical-align: middle;\n",
       "    }\n",
       "\n",
       "    .dataframe tbody tr th {\n",
       "        vertical-align: top;\n",
       "    }\n",
       "\n",
       "    .dataframe thead th {\n",
       "        text-align: right;\n",
       "    }\n",
       "</style>\n",
       "<table border=\"1\" class=\"dataframe\">\n",
       "  <thead>\n",
       "    <tr style=\"text-align: right;\">\n",
       "      <th></th>\n",
       "      <th>RISK_SCORE</th>\n",
       "      <th>Population_Density</th>\n",
       "      <th>risk_score_squared</th>\n",
       "      <th>Community_Type_Rural</th>\n",
       "      <th>Community_Type_Small Urban</th>\n",
       "      <th>Community_Type_Urban</th>\n",
       "    </tr>\n",
       "  </thead>\n",
       "  <tbody>\n",
       "    <tr>\n",
       "      <th>0</th>\n",
       "      <td>49.220490</td>\n",
       "      <td>96.260178</td>\n",
       "      <td>2422.656634</td>\n",
       "      <td>False</td>\n",
       "      <td>True</td>\n",
       "      <td>False</td>\n",
       "    </tr>\n",
       "    <tr>\n",
       "      <th>1</th>\n",
       "      <td>97.709195</td>\n",
       "      <td>112.985603</td>\n",
       "      <td>9547.086795</td>\n",
       "      <td>False</td>\n",
       "      <td>True</td>\n",
       "      <td>False</td>\n",
       "    </tr>\n",
       "    <tr>\n",
       "      <th>2</th>\n",
       "      <td>56.188355</td>\n",
       "      <td>27.538003</td>\n",
       "      <td>3157.131246</td>\n",
       "      <td>True</td>\n",
       "      <td>False</td>\n",
       "      <td>False</td>\n",
       "    </tr>\n",
       "    <tr>\n",
       "      <th>3</th>\n",
       "      <td>32.484887</td>\n",
       "      <td>35.161208</td>\n",
       "      <td>1055.267887</td>\n",
       "      <td>True</td>\n",
       "      <td>False</td>\n",
       "      <td>False</td>\n",
       "    </tr>\n",
       "    <tr>\n",
       "      <th>4</th>\n",
       "      <td>65.128858</td>\n",
       "      <td>89.763100</td>\n",
       "      <td>4241.768116</td>\n",
       "      <td>False</td>\n",
       "      <td>True</td>\n",
       "      <td>False</td>\n",
       "    </tr>\n",
       "    <tr>\n",
       "      <th>...</th>\n",
       "      <td>...</td>\n",
       "      <td>...</td>\n",
       "      <td>...</td>\n",
       "      <td>...</td>\n",
       "      <td>...</td>\n",
       "      <td>...</td>\n",
       "    </tr>\n",
       "    <tr>\n",
       "      <th>3138</th>\n",
       "      <td>6.617881</td>\n",
       "      <td>3.985817</td>\n",
       "      <td>43.796349</td>\n",
       "      <td>True</td>\n",
       "      <td>False</td>\n",
       "      <td>False</td>\n",
       "    </tr>\n",
       "    <tr>\n",
       "      <th>3139</th>\n",
       "      <td>68.501432</td>\n",
       "      <td>5.457960</td>\n",
       "      <td>4692.446152</td>\n",
       "      <td>True</td>\n",
       "      <td>False</td>\n",
       "      <td>False</td>\n",
       "    </tr>\n",
       "    <tr>\n",
       "      <th>3140</th>\n",
       "      <td>21.699014</td>\n",
       "      <td>9.677509</td>\n",
       "      <td>470.847195</td>\n",
       "      <td>True</td>\n",
       "      <td>False</td>\n",
       "      <td>False</td>\n",
       "    </tr>\n",
       "    <tr>\n",
       "      <th>3141</th>\n",
       "      <td>2.513522</td>\n",
       "      <td>3.382271</td>\n",
       "      <td>6.317793</td>\n",
       "      <td>True</td>\n",
       "      <td>False</td>\n",
       "      <td>False</td>\n",
       "    </tr>\n",
       "    <tr>\n",
       "      <th>3142</th>\n",
       "      <td>16.640153</td>\n",
       "      <td>2.814064</td>\n",
       "      <td>276.894683</td>\n",
       "      <td>True</td>\n",
       "      <td>False</td>\n",
       "      <td>False</td>\n",
       "    </tr>\n",
       "  </tbody>\n",
       "</table>\n",
       "<p>3143 rows × 6 columns</p>\n",
       "</div>"
      ],
      "text/plain": [
       "      RISK_SCORE  Population_Density  risk_score_squared  \\\n",
       "0      49.220490           96.260178         2422.656634   \n",
       "1      97.709195          112.985603         9547.086795   \n",
       "2      56.188355           27.538003         3157.131246   \n",
       "3      32.484887           35.161208         1055.267887   \n",
       "4      65.128858           89.763100         4241.768116   \n",
       "...          ...                 ...                 ...   \n",
       "3138    6.617881            3.985817           43.796349   \n",
       "3139   68.501432            5.457960         4692.446152   \n",
       "3140   21.699014            9.677509          470.847195   \n",
       "3141    2.513522            3.382271            6.317793   \n",
       "3142   16.640153            2.814064          276.894683   \n",
       "\n",
       "      Community_Type_Rural  Community_Type_Small Urban  Community_Type_Urban  \n",
       "0                    False                        True                 False  \n",
       "1                    False                        True                 False  \n",
       "2                     True                       False                 False  \n",
       "3                     True                       False                 False  \n",
       "4                    False                        True                 False  \n",
       "...                    ...                         ...                   ...  \n",
       "3138                  True                       False                 False  \n",
       "3139                  True                       False                 False  \n",
       "3140                  True                       False                 False  \n",
       "3141                  True                       False                 False  \n",
       "3142                  True                       False                 False  \n",
       "\n",
       "[3143 rows x 6 columns]"
      ]
     },
     "execution_count": 58,
     "metadata": {},
     "output_type": "execute_result"
    }
   ],
   "source": [
    "# features\n",
    "columns = [\"Community_Type\", \"RISK_SCORE\", \"Population_Density\", \"risk_score_squared\"]\n",
    "X = NRI_county_health_data[columns]\n",
    "\n",
    "# target\n",
    "y = NRI_county_health_data[\"Age_Adjusted_Death_Rate_mean_indicator\"]\n",
    "\n",
    "# Apply one-hot encoding for Community_Type nominal column\n",
    "X = pd.get_dummies(X, columns=['Community_Type'], prefix='Community_Type', drop_first=False)\n",
    "X"
   ]
  },
  {
   "cell_type": "code",
   "execution_count": 59,
   "id": "c8d09c40",
   "metadata": {},
   "outputs": [],
   "source": [
    "# split the data\n",
    "from sklearn.model_selection import train_test_split\n",
    "\n",
    "X_train, X_test, y_train, y_test = train_test_split(X, y, test_size=0.2, random_state=42)\n",
    "\n",
    "# create splits\n",
    "kf = KFold(n_splits=5)\n",
    "\n",
    "# split data\n",
    "k_splits = kf.split(X_train)\n"
   ]
  },
  {
   "cell_type": "code",
   "execution_count": 60,
   "id": "c72bcbe4",
   "metadata": {},
   "outputs": [
    {
     "data": {
      "text/html": [
       "<style>#sk-container-id-4 {color: black;}#sk-container-id-4 pre{padding: 0;}#sk-container-id-4 div.sk-toggleable {background-color: white;}#sk-container-id-4 label.sk-toggleable__label {cursor: pointer;display: block;width: 100%;margin-bottom: 0;padding: 0.3em;box-sizing: border-box;text-align: center;}#sk-container-id-4 label.sk-toggleable__label-arrow:before {content: \"▸\";float: left;margin-right: 0.25em;color: #696969;}#sk-container-id-4 label.sk-toggleable__label-arrow:hover:before {color: black;}#sk-container-id-4 div.sk-estimator:hover label.sk-toggleable__label-arrow:before {color: black;}#sk-container-id-4 div.sk-toggleable__content {max-height: 0;max-width: 0;overflow: hidden;text-align: left;background-color: #f0f8ff;}#sk-container-id-4 div.sk-toggleable__content pre {margin: 0.2em;color: black;border-radius: 0.25em;background-color: #f0f8ff;}#sk-container-id-4 input.sk-toggleable__control:checked~div.sk-toggleable__content {max-height: 200px;max-width: 100%;overflow: auto;}#sk-container-id-4 input.sk-toggleable__control:checked~label.sk-toggleable__label-arrow:before {content: \"▾\";}#sk-container-id-4 div.sk-estimator input.sk-toggleable__control:checked~label.sk-toggleable__label {background-color: #d4ebff;}#sk-container-id-4 div.sk-label input.sk-toggleable__control:checked~label.sk-toggleable__label {background-color: #d4ebff;}#sk-container-id-4 input.sk-hidden--visually {border: 0;clip: rect(1px 1px 1px 1px);clip: rect(1px, 1px, 1px, 1px);height: 1px;margin: -1px;overflow: hidden;padding: 0;position: absolute;width: 1px;}#sk-container-id-4 div.sk-estimator {font-family: monospace;background-color: #f0f8ff;border: 1px dotted black;border-radius: 0.25em;box-sizing: border-box;margin-bottom: 0.5em;}#sk-container-id-4 div.sk-estimator:hover {background-color: #d4ebff;}#sk-container-id-4 div.sk-parallel-item::after {content: \"\";width: 100%;border-bottom: 1px solid gray;flex-grow: 1;}#sk-container-id-4 div.sk-label:hover label.sk-toggleable__label {background-color: #d4ebff;}#sk-container-id-4 div.sk-serial::before {content: \"\";position: absolute;border-left: 1px solid gray;box-sizing: border-box;top: 0;bottom: 0;left: 50%;z-index: 0;}#sk-container-id-4 div.sk-serial {display: flex;flex-direction: column;align-items: center;background-color: white;padding-right: 0.2em;padding-left: 0.2em;position: relative;}#sk-container-id-4 div.sk-item {position: relative;z-index: 1;}#sk-container-id-4 div.sk-parallel {display: flex;align-items: stretch;justify-content: center;background-color: white;position: relative;}#sk-container-id-4 div.sk-item::before, #sk-container-id-4 div.sk-parallel-item::before {content: \"\";position: absolute;border-left: 1px solid gray;box-sizing: border-box;top: 0;bottom: 0;left: 50%;z-index: -1;}#sk-container-id-4 div.sk-parallel-item {display: flex;flex-direction: column;z-index: 1;position: relative;background-color: white;}#sk-container-id-4 div.sk-parallel-item:first-child::after {align-self: flex-end;width: 50%;}#sk-container-id-4 div.sk-parallel-item:last-child::after {align-self: flex-start;width: 50%;}#sk-container-id-4 div.sk-parallel-item:only-child::after {width: 0;}#sk-container-id-4 div.sk-dashed-wrapped {border: 1px dashed gray;margin: 0 0.4em 0.5em 0.4em;box-sizing: border-box;padding-bottom: 0.4em;background-color: white;}#sk-container-id-4 div.sk-label label {font-family: monospace;font-weight: bold;display: inline-block;line-height: 1.2em;}#sk-container-id-4 div.sk-label-container {text-align: center;}#sk-container-id-4 div.sk-container {/* jupyter's `normalize.less` sets `[hidden] { display: none; }` but bootstrap.min.css set `[hidden] { display: none !important; }` so we also need the `!important` here to be able to override the default hidden behavior on the sphinx rendered scikit-learn.org. See: https://github.com/scikit-learn/scikit-learn/issues/21755 */display: inline-block !important;position: relative;}#sk-container-id-4 div.sk-text-repr-fallback {display: none;}</style><div id=\"sk-container-id-4\" class=\"sk-top-container\"><div class=\"sk-text-repr-fallback\"><pre>DecisionTreeClassifier(max_depth=3, min_samples_leaf=2, random_state=42)</pre><b>In a Jupyter environment, please rerun this cell to show the HTML representation or trust the notebook. <br />On GitHub, the HTML representation is unable to render, please try loading this page with nbviewer.org.</b></div><div class=\"sk-container\" hidden><div class=\"sk-item\"><div class=\"sk-estimator sk-toggleable\"><input class=\"sk-toggleable__control sk-hidden--visually\" id=\"sk-estimator-id-4\" type=\"checkbox\" checked><label for=\"sk-estimator-id-4\" class=\"sk-toggleable__label sk-toggleable__label-arrow\">DecisionTreeClassifier</label><div class=\"sk-toggleable__content\"><pre>DecisionTreeClassifier(max_depth=3, min_samples_leaf=2, random_state=42)</pre></div></div></div></div></div>"
      ],
      "text/plain": [
       "DecisionTreeClassifier(max_depth=3, min_samples_leaf=2, random_state=42)"
      ]
     },
     "execution_count": 60,
     "metadata": {},
     "output_type": "execute_result"
    }
   ],
   "source": [
    "# create binary decision tree model and train it on the training set\n",
    "# Create a decision tree model with limitations to avoid overfitting\n",
    "model = DecisionTreeClassifier(\n",
    "    max_depth=3,           # Limit the depth of the tree\n",
    "    min_samples_split=2,   # Require a minimum number of samples to split a node\n",
    "    min_samples_leaf=2,    # Require a minimum number of samples in a leaf node\n",
    "    max_features=None,     # Use all features for splitting\n",
    "    random_state=42\n",
    ")\n",
    "model.fit(X_train, y_train)"
   ]
  },
  {
   "cell_type": "code",
   "execution_count": 61,
   "id": "531c0d2e",
   "metadata": {},
   "outputs": [
    {
     "data": {
      "text/plain": [
       "0.3624801271860095"
      ]
     },
     "execution_count": 61,
     "metadata": {},
     "output_type": "execute_result"
    }
   ],
   "source": [
    "y_pred = model.predict(X_test)\n",
    "\n",
    "# Calculate the mean squared error\n",
    "mse = mean_squared_error(y_test, y_pred)\n",
    "mse"
   ]
  },
  {
   "cell_type": "code",
   "execution_count": 62,
   "id": "32a9862a",
   "metadata": {},
   "outputs": [],
   "source": [
    "# make predictions for the entire dataset\n",
    "y_pred_all = model.predict(X)\n",
    "\n",
    "# add predicted values column\n",
    "NRI_county_health_data['Natl_AADR_Predicted'] = y_pred_all"
   ]
  },
  {
   "cell_type": "markdown",
   "id": "8a777146",
   "metadata": {},
   "source": [
    "## Life Expectancy"
   ]
  },
  {
   "cell_type": "markdown",
   "id": "e6d276fa",
   "metadata": {},
   "source": [
    "### Decision Tree"
   ]
  },
  {
   "cell_type": "code",
   "execution_count": 63,
   "id": "3a4f95ec",
   "metadata": {},
   "outputs": [],
   "source": [
    "# features\n",
    "columns = [\"Community_Type\", \"RISK_SCORE\", \"Population_Density\", \"risk_score_squared\"]\n",
    "X = NRI_county_health_data[columns]\n",
    "\n",
    "# target\n",
    "y = NRI_county_health_data[\"Life_Expectancy_mean_indicator\"]\n",
    "\n",
    "# Apply one-hot encoding for Community_Type nominal column\n",
    "X = pd.get_dummies(X, columns=['Community_Type'], prefix='Community_Type', drop_first=False)"
   ]
  },
  {
   "cell_type": "code",
   "execution_count": 64,
   "id": "037b8f84",
   "metadata": {},
   "outputs": [],
   "source": [
    "# split the data\n",
    "from sklearn.model_selection import train_test_split\n",
    "\n",
    "X_train, X_test, y_train, y_test = train_test_split(X, y, test_size=0.2, random_state=42)\n",
    "\n",
    "# create splits\n",
    "kf = KFold(n_splits=5)\n",
    "\n",
    "# split data\n",
    "k_splits = kf.split(X_train)\n"
   ]
  },
  {
   "cell_type": "code",
   "execution_count": 65,
   "id": "16fa196f",
   "metadata": {},
   "outputs": [
    {
     "data": {
      "text/html": [
       "<style>#sk-container-id-5 {color: black;}#sk-container-id-5 pre{padding: 0;}#sk-container-id-5 div.sk-toggleable {background-color: white;}#sk-container-id-5 label.sk-toggleable__label {cursor: pointer;display: block;width: 100%;margin-bottom: 0;padding: 0.3em;box-sizing: border-box;text-align: center;}#sk-container-id-5 label.sk-toggleable__label-arrow:before {content: \"▸\";float: left;margin-right: 0.25em;color: #696969;}#sk-container-id-5 label.sk-toggleable__label-arrow:hover:before {color: black;}#sk-container-id-5 div.sk-estimator:hover label.sk-toggleable__label-arrow:before {color: black;}#sk-container-id-5 div.sk-toggleable__content {max-height: 0;max-width: 0;overflow: hidden;text-align: left;background-color: #f0f8ff;}#sk-container-id-5 div.sk-toggleable__content pre {margin: 0.2em;color: black;border-radius: 0.25em;background-color: #f0f8ff;}#sk-container-id-5 input.sk-toggleable__control:checked~div.sk-toggleable__content {max-height: 200px;max-width: 100%;overflow: auto;}#sk-container-id-5 input.sk-toggleable__control:checked~label.sk-toggleable__label-arrow:before {content: \"▾\";}#sk-container-id-5 div.sk-estimator input.sk-toggleable__control:checked~label.sk-toggleable__label {background-color: #d4ebff;}#sk-container-id-5 div.sk-label input.sk-toggleable__control:checked~label.sk-toggleable__label {background-color: #d4ebff;}#sk-container-id-5 input.sk-hidden--visually {border: 0;clip: rect(1px 1px 1px 1px);clip: rect(1px, 1px, 1px, 1px);height: 1px;margin: -1px;overflow: hidden;padding: 0;position: absolute;width: 1px;}#sk-container-id-5 div.sk-estimator {font-family: monospace;background-color: #f0f8ff;border: 1px dotted black;border-radius: 0.25em;box-sizing: border-box;margin-bottom: 0.5em;}#sk-container-id-5 div.sk-estimator:hover {background-color: #d4ebff;}#sk-container-id-5 div.sk-parallel-item::after {content: \"\";width: 100%;border-bottom: 1px solid gray;flex-grow: 1;}#sk-container-id-5 div.sk-label:hover label.sk-toggleable__label {background-color: #d4ebff;}#sk-container-id-5 div.sk-serial::before {content: \"\";position: absolute;border-left: 1px solid gray;box-sizing: border-box;top: 0;bottom: 0;left: 50%;z-index: 0;}#sk-container-id-5 div.sk-serial {display: flex;flex-direction: column;align-items: center;background-color: white;padding-right: 0.2em;padding-left: 0.2em;position: relative;}#sk-container-id-5 div.sk-item {position: relative;z-index: 1;}#sk-container-id-5 div.sk-parallel {display: flex;align-items: stretch;justify-content: center;background-color: white;position: relative;}#sk-container-id-5 div.sk-item::before, #sk-container-id-5 div.sk-parallel-item::before {content: \"\";position: absolute;border-left: 1px solid gray;box-sizing: border-box;top: 0;bottom: 0;left: 50%;z-index: -1;}#sk-container-id-5 div.sk-parallel-item {display: flex;flex-direction: column;z-index: 1;position: relative;background-color: white;}#sk-container-id-5 div.sk-parallel-item:first-child::after {align-self: flex-end;width: 50%;}#sk-container-id-5 div.sk-parallel-item:last-child::after {align-self: flex-start;width: 50%;}#sk-container-id-5 div.sk-parallel-item:only-child::after {width: 0;}#sk-container-id-5 div.sk-dashed-wrapped {border: 1px dashed gray;margin: 0 0.4em 0.5em 0.4em;box-sizing: border-box;padding-bottom: 0.4em;background-color: white;}#sk-container-id-5 div.sk-label label {font-family: monospace;font-weight: bold;display: inline-block;line-height: 1.2em;}#sk-container-id-5 div.sk-label-container {text-align: center;}#sk-container-id-5 div.sk-container {/* jupyter's `normalize.less` sets `[hidden] { display: none; }` but bootstrap.min.css set `[hidden] { display: none !important; }` so we also need the `!important` here to be able to override the default hidden behavior on the sphinx rendered scikit-learn.org. See: https://github.com/scikit-learn/scikit-learn/issues/21755 */display: inline-block !important;position: relative;}#sk-container-id-5 div.sk-text-repr-fallback {display: none;}</style><div id=\"sk-container-id-5\" class=\"sk-top-container\"><div class=\"sk-text-repr-fallback\"><pre>DecisionTreeClassifier(max_depth=3, min_samples_leaf=2, random_state=42)</pre><b>In a Jupyter environment, please rerun this cell to show the HTML representation or trust the notebook. <br />On GitHub, the HTML representation is unable to render, please try loading this page with nbviewer.org.</b></div><div class=\"sk-container\" hidden><div class=\"sk-item\"><div class=\"sk-estimator sk-toggleable\"><input class=\"sk-toggleable__control sk-hidden--visually\" id=\"sk-estimator-id-5\" type=\"checkbox\" checked><label for=\"sk-estimator-id-5\" class=\"sk-toggleable__label sk-toggleable__label-arrow\">DecisionTreeClassifier</label><div class=\"sk-toggleable__content\"><pre>DecisionTreeClassifier(max_depth=3, min_samples_leaf=2, random_state=42)</pre></div></div></div></div></div>"
      ],
      "text/plain": [
       "DecisionTreeClassifier(max_depth=3, min_samples_leaf=2, random_state=42)"
      ]
     },
     "execution_count": 65,
     "metadata": {},
     "output_type": "execute_result"
    }
   ],
   "source": [
    "# create binary decision tree model and train it on the training set\n",
    "# Create a decision tree model with limitations to avoid overfitting\n",
    "model = DecisionTreeClassifier(\n",
    "    max_depth=3,           # Limit the depth of the tree\n",
    "    min_samples_split=2,   # Require a minimum number of samples to split a node\n",
    "    min_samples_leaf=2,    # Require a minimum number of samples in a leaf node\n",
    "    max_features=None,     # Use all features for splitting\n",
    "    random_state=42\n",
    ")\n",
    "model.fit(X_train, y_train)"
   ]
  },
  {
   "cell_type": "code",
   "execution_count": 66,
   "id": "eb12f179",
   "metadata": {},
   "outputs": [
    {
     "data": {
      "text/plain": [
       "0.3799682034976153"
      ]
     },
     "execution_count": 66,
     "metadata": {},
     "output_type": "execute_result"
    }
   ],
   "source": [
    "y_pred = model.predict(X_test)\n",
    "\n",
    "# Calculate the mean squared error\n",
    "mse = mean_squared_error(y_test, y_pred)\n",
    "mse"
   ]
  },
  {
   "cell_type": "code",
   "execution_count": 67,
   "id": "48643875",
   "metadata": {},
   "outputs": [],
   "source": [
    "# make predictions for the entire dataset\n",
    "y_pred_all = model.predict(X)\n",
    "\n",
    "# add predicted values column\n",
    "NRI_county_health_data['Natl_Life_Expectancy_Predicted'] = y_pred_all"
   ]
  },
  {
   "cell_type": "code",
   "execution_count": 68,
   "id": "adc5839e",
   "metadata": {},
   "outputs": [],
   "source": [
    "#NRI_county_health_data.head()"
   ]
  },
  {
   "cell_type": "markdown",
   "id": "f6c5bb7b",
   "metadata": {},
   "source": [
    "## Physically Unhealthy Days"
   ]
  },
  {
   "cell_type": "markdown",
   "id": "68ec2727",
   "metadata": {},
   "source": [
    "### Decision Trees"
   ]
  },
  {
   "cell_type": "code",
   "execution_count": 69,
   "id": "524eb5d6",
   "metadata": {},
   "outputs": [],
   "source": [
    "# features\n",
    "columns = [\"Community_Type\", \"RISK_SCORE\", \"Population_Density\", \"risk_score_squared\"]\n",
    "X = NRI_county_health_data[columns]\n",
    "\n",
    "# target\n",
    "y = NRI_county_health_data[\"Physically_Unhealthy_Days_mean_indicator\"]\n",
    "\n",
    "# Apply one-hot encoding for Community_Type nominal column\n",
    "X = pd.get_dummies(X, columns=['Community_Type'], prefix='Community_Type', drop_first=False)"
   ]
  },
  {
   "cell_type": "code",
   "execution_count": 70,
   "id": "26188b56",
   "metadata": {},
   "outputs": [],
   "source": [
    "# split the data\n",
    "from sklearn.model_selection import train_test_split\n",
    "\n",
    "X_train, X_test, y_train, y_test = train_test_split(X, y, test_size=0.2, random_state=42)\n",
    "\n",
    "# create splits\n",
    "kf = KFold(n_splits=5)\n",
    "\n",
    "# split data\n",
    "k_splits = kf.split(X_train)\n"
   ]
  },
  {
   "cell_type": "code",
   "execution_count": 71,
   "id": "6a5c1cef",
   "metadata": {},
   "outputs": [
    {
     "data": {
      "text/html": [
       "<style>#sk-container-id-6 {color: black;}#sk-container-id-6 pre{padding: 0;}#sk-container-id-6 div.sk-toggleable {background-color: white;}#sk-container-id-6 label.sk-toggleable__label {cursor: pointer;display: block;width: 100%;margin-bottom: 0;padding: 0.3em;box-sizing: border-box;text-align: center;}#sk-container-id-6 label.sk-toggleable__label-arrow:before {content: \"▸\";float: left;margin-right: 0.25em;color: #696969;}#sk-container-id-6 label.sk-toggleable__label-arrow:hover:before {color: black;}#sk-container-id-6 div.sk-estimator:hover label.sk-toggleable__label-arrow:before {color: black;}#sk-container-id-6 div.sk-toggleable__content {max-height: 0;max-width: 0;overflow: hidden;text-align: left;background-color: #f0f8ff;}#sk-container-id-6 div.sk-toggleable__content pre {margin: 0.2em;color: black;border-radius: 0.25em;background-color: #f0f8ff;}#sk-container-id-6 input.sk-toggleable__control:checked~div.sk-toggleable__content {max-height: 200px;max-width: 100%;overflow: auto;}#sk-container-id-6 input.sk-toggleable__control:checked~label.sk-toggleable__label-arrow:before {content: \"▾\";}#sk-container-id-6 div.sk-estimator input.sk-toggleable__control:checked~label.sk-toggleable__label {background-color: #d4ebff;}#sk-container-id-6 div.sk-label input.sk-toggleable__control:checked~label.sk-toggleable__label {background-color: #d4ebff;}#sk-container-id-6 input.sk-hidden--visually {border: 0;clip: rect(1px 1px 1px 1px);clip: rect(1px, 1px, 1px, 1px);height: 1px;margin: -1px;overflow: hidden;padding: 0;position: absolute;width: 1px;}#sk-container-id-6 div.sk-estimator {font-family: monospace;background-color: #f0f8ff;border: 1px dotted black;border-radius: 0.25em;box-sizing: border-box;margin-bottom: 0.5em;}#sk-container-id-6 div.sk-estimator:hover {background-color: #d4ebff;}#sk-container-id-6 div.sk-parallel-item::after {content: \"\";width: 100%;border-bottom: 1px solid gray;flex-grow: 1;}#sk-container-id-6 div.sk-label:hover label.sk-toggleable__label {background-color: #d4ebff;}#sk-container-id-6 div.sk-serial::before {content: \"\";position: absolute;border-left: 1px solid gray;box-sizing: border-box;top: 0;bottom: 0;left: 50%;z-index: 0;}#sk-container-id-6 div.sk-serial {display: flex;flex-direction: column;align-items: center;background-color: white;padding-right: 0.2em;padding-left: 0.2em;position: relative;}#sk-container-id-6 div.sk-item {position: relative;z-index: 1;}#sk-container-id-6 div.sk-parallel {display: flex;align-items: stretch;justify-content: center;background-color: white;position: relative;}#sk-container-id-6 div.sk-item::before, #sk-container-id-6 div.sk-parallel-item::before {content: \"\";position: absolute;border-left: 1px solid gray;box-sizing: border-box;top: 0;bottom: 0;left: 50%;z-index: -1;}#sk-container-id-6 div.sk-parallel-item {display: flex;flex-direction: column;z-index: 1;position: relative;background-color: white;}#sk-container-id-6 div.sk-parallel-item:first-child::after {align-self: flex-end;width: 50%;}#sk-container-id-6 div.sk-parallel-item:last-child::after {align-self: flex-start;width: 50%;}#sk-container-id-6 div.sk-parallel-item:only-child::after {width: 0;}#sk-container-id-6 div.sk-dashed-wrapped {border: 1px dashed gray;margin: 0 0.4em 0.5em 0.4em;box-sizing: border-box;padding-bottom: 0.4em;background-color: white;}#sk-container-id-6 div.sk-label label {font-family: monospace;font-weight: bold;display: inline-block;line-height: 1.2em;}#sk-container-id-6 div.sk-label-container {text-align: center;}#sk-container-id-6 div.sk-container {/* jupyter's `normalize.less` sets `[hidden] { display: none; }` but bootstrap.min.css set `[hidden] { display: none !important; }` so we also need the `!important` here to be able to override the default hidden behavior on the sphinx rendered scikit-learn.org. See: https://github.com/scikit-learn/scikit-learn/issues/21755 */display: inline-block !important;position: relative;}#sk-container-id-6 div.sk-text-repr-fallback {display: none;}</style><div id=\"sk-container-id-6\" class=\"sk-top-container\"><div class=\"sk-text-repr-fallback\"><pre>DecisionTreeClassifier(max_depth=3, min_samples_leaf=2, random_state=42)</pre><b>In a Jupyter environment, please rerun this cell to show the HTML representation or trust the notebook. <br />On GitHub, the HTML representation is unable to render, please try loading this page with nbviewer.org.</b></div><div class=\"sk-container\" hidden><div class=\"sk-item\"><div class=\"sk-estimator sk-toggleable\"><input class=\"sk-toggleable__control sk-hidden--visually\" id=\"sk-estimator-id-6\" type=\"checkbox\" checked><label for=\"sk-estimator-id-6\" class=\"sk-toggleable__label sk-toggleable__label-arrow\">DecisionTreeClassifier</label><div class=\"sk-toggleable__content\"><pre>DecisionTreeClassifier(max_depth=3, min_samples_leaf=2, random_state=42)</pre></div></div></div></div></div>"
      ],
      "text/plain": [
       "DecisionTreeClassifier(max_depth=3, min_samples_leaf=2, random_state=42)"
      ]
     },
     "execution_count": 71,
     "metadata": {},
     "output_type": "execute_result"
    }
   ],
   "source": [
    "# create binary decision tree model and train it on the training set\n",
    "# Create a decision tree model with limitations to avoid overfitting\n",
    "model = DecisionTreeClassifier(\n",
    "    max_depth=3,           # Limit the depth of the tree\n",
    "    min_samples_split=2,   # Require a minimum number of samples to split a node\n",
    "    min_samples_leaf=2,    # Require a minimum number of samples in a leaf node\n",
    "    max_features=None,     # Use all features for splitting\n",
    "    random_state=42\n",
    ")\n",
    "model.fit(X_train, y_train)"
   ]
  },
  {
   "cell_type": "code",
   "execution_count": 72,
   "id": "88409199",
   "metadata": {},
   "outputs": [
    {
     "data": {
      "text/plain": [
       "0.39268680445151033"
      ]
     },
     "execution_count": 72,
     "metadata": {},
     "output_type": "execute_result"
    }
   ],
   "source": [
    "y_pred = model.predict(X_test)\n",
    "\n",
    "# Calculate the mean squared error\n",
    "mse = mean_squared_error(y_test, y_pred)\n",
    "mse"
   ]
  },
  {
   "cell_type": "code",
   "execution_count": 73,
   "id": "3e069312",
   "metadata": {},
   "outputs": [],
   "source": [
    "# create binary decision tree model and train it on the training set\n",
    "#model = DecisionTreeClassifier(random_state=42)\n",
    "#model.fit(X_train, y_train)\n",
    "\n",
    "# make predictions for the entire dataset\n",
    "y_pred_all = model.predict(X)\n",
    "\n",
    "# add predicted values column\n",
    "NRI_county_health_data['Natl_Physically_Unhealthy_Predicted'] = y_pred_all"
   ]
  },
  {
   "cell_type": "markdown",
   "id": "47cd5959",
   "metadata": {},
   "source": [
    "## Mentally Unhealthy Days"
   ]
  },
  {
   "cell_type": "markdown",
   "id": "1913346e",
   "metadata": {},
   "source": [
    "### Decision Trees"
   ]
  },
  {
   "cell_type": "code",
   "execution_count": 74,
   "id": "a9e989ca",
   "metadata": {},
   "outputs": [],
   "source": [
    "# features\n",
    "columns = [\"Community_Type\", \"RISK_SCORE\", \"Population_Density\", \"risk_score_squared\"]\n",
    "X = NRI_county_health_data[columns]\n",
    "\n",
    "# target\n",
    "y = NRI_county_health_data[\"Mentally_Unhealthy_Days_mean_indicator\"]\n",
    "\n",
    "# Apply one-hot encoding for Community_Type nominal column\n",
    "X = pd.get_dummies(X, columns=['Community_Type'], prefix='Community_Type', drop_first=False)"
   ]
  },
  {
   "cell_type": "code",
   "execution_count": 75,
   "id": "c6d5d8f7",
   "metadata": {},
   "outputs": [],
   "source": [
    "# split the data\n",
    "from sklearn.model_selection import train_test_split\n",
    "\n",
    "X_train, X_test, y_train, y_test = train_test_split(X, y, test_size=0.2, random_state=42)\n",
    "\n",
    "# create splits\n",
    "kf = KFold(n_splits=5)\n",
    "\n",
    "# split data\n",
    "k_splits = kf.split(X_train)"
   ]
  },
  {
   "cell_type": "code",
   "execution_count": 76,
   "id": "84b4fac5",
   "metadata": {},
   "outputs": [
    {
     "data": {
      "text/html": [
       "<style>#sk-container-id-7 {color: black;}#sk-container-id-7 pre{padding: 0;}#sk-container-id-7 div.sk-toggleable {background-color: white;}#sk-container-id-7 label.sk-toggleable__label {cursor: pointer;display: block;width: 100%;margin-bottom: 0;padding: 0.3em;box-sizing: border-box;text-align: center;}#sk-container-id-7 label.sk-toggleable__label-arrow:before {content: \"▸\";float: left;margin-right: 0.25em;color: #696969;}#sk-container-id-7 label.sk-toggleable__label-arrow:hover:before {color: black;}#sk-container-id-7 div.sk-estimator:hover label.sk-toggleable__label-arrow:before {color: black;}#sk-container-id-7 div.sk-toggleable__content {max-height: 0;max-width: 0;overflow: hidden;text-align: left;background-color: #f0f8ff;}#sk-container-id-7 div.sk-toggleable__content pre {margin: 0.2em;color: black;border-radius: 0.25em;background-color: #f0f8ff;}#sk-container-id-7 input.sk-toggleable__control:checked~div.sk-toggleable__content {max-height: 200px;max-width: 100%;overflow: auto;}#sk-container-id-7 input.sk-toggleable__control:checked~label.sk-toggleable__label-arrow:before {content: \"▾\";}#sk-container-id-7 div.sk-estimator input.sk-toggleable__control:checked~label.sk-toggleable__label {background-color: #d4ebff;}#sk-container-id-7 div.sk-label input.sk-toggleable__control:checked~label.sk-toggleable__label {background-color: #d4ebff;}#sk-container-id-7 input.sk-hidden--visually {border: 0;clip: rect(1px 1px 1px 1px);clip: rect(1px, 1px, 1px, 1px);height: 1px;margin: -1px;overflow: hidden;padding: 0;position: absolute;width: 1px;}#sk-container-id-7 div.sk-estimator {font-family: monospace;background-color: #f0f8ff;border: 1px dotted black;border-radius: 0.25em;box-sizing: border-box;margin-bottom: 0.5em;}#sk-container-id-7 div.sk-estimator:hover {background-color: #d4ebff;}#sk-container-id-7 div.sk-parallel-item::after {content: \"\";width: 100%;border-bottom: 1px solid gray;flex-grow: 1;}#sk-container-id-7 div.sk-label:hover label.sk-toggleable__label {background-color: #d4ebff;}#sk-container-id-7 div.sk-serial::before {content: \"\";position: absolute;border-left: 1px solid gray;box-sizing: border-box;top: 0;bottom: 0;left: 50%;z-index: 0;}#sk-container-id-7 div.sk-serial {display: flex;flex-direction: column;align-items: center;background-color: white;padding-right: 0.2em;padding-left: 0.2em;position: relative;}#sk-container-id-7 div.sk-item {position: relative;z-index: 1;}#sk-container-id-7 div.sk-parallel {display: flex;align-items: stretch;justify-content: center;background-color: white;position: relative;}#sk-container-id-7 div.sk-item::before, #sk-container-id-7 div.sk-parallel-item::before {content: \"\";position: absolute;border-left: 1px solid gray;box-sizing: border-box;top: 0;bottom: 0;left: 50%;z-index: -1;}#sk-container-id-7 div.sk-parallel-item {display: flex;flex-direction: column;z-index: 1;position: relative;background-color: white;}#sk-container-id-7 div.sk-parallel-item:first-child::after {align-self: flex-end;width: 50%;}#sk-container-id-7 div.sk-parallel-item:last-child::after {align-self: flex-start;width: 50%;}#sk-container-id-7 div.sk-parallel-item:only-child::after {width: 0;}#sk-container-id-7 div.sk-dashed-wrapped {border: 1px dashed gray;margin: 0 0.4em 0.5em 0.4em;box-sizing: border-box;padding-bottom: 0.4em;background-color: white;}#sk-container-id-7 div.sk-label label {font-family: monospace;font-weight: bold;display: inline-block;line-height: 1.2em;}#sk-container-id-7 div.sk-label-container {text-align: center;}#sk-container-id-7 div.sk-container {/* jupyter's `normalize.less` sets `[hidden] { display: none; }` but bootstrap.min.css set `[hidden] { display: none !important; }` so we also need the `!important` here to be able to override the default hidden behavior on the sphinx rendered scikit-learn.org. See: https://github.com/scikit-learn/scikit-learn/issues/21755 */display: inline-block !important;position: relative;}#sk-container-id-7 div.sk-text-repr-fallback {display: none;}</style><div id=\"sk-container-id-7\" class=\"sk-top-container\"><div class=\"sk-text-repr-fallback\"><pre>DecisionTreeClassifier(max_depth=3, min_samples_leaf=2, random_state=42)</pre><b>In a Jupyter environment, please rerun this cell to show the HTML representation or trust the notebook. <br />On GitHub, the HTML representation is unable to render, please try loading this page with nbviewer.org.</b></div><div class=\"sk-container\" hidden><div class=\"sk-item\"><div class=\"sk-estimator sk-toggleable\"><input class=\"sk-toggleable__control sk-hidden--visually\" id=\"sk-estimator-id-7\" type=\"checkbox\" checked><label for=\"sk-estimator-id-7\" class=\"sk-toggleable__label sk-toggleable__label-arrow\">DecisionTreeClassifier</label><div class=\"sk-toggleable__content\"><pre>DecisionTreeClassifier(max_depth=3, min_samples_leaf=2, random_state=42)</pre></div></div></div></div></div>"
      ],
      "text/plain": [
       "DecisionTreeClassifier(max_depth=3, min_samples_leaf=2, random_state=42)"
      ]
     },
     "execution_count": 76,
     "metadata": {},
     "output_type": "execute_result"
    }
   ],
   "source": [
    "# create binary decision tree model and train it on the training set\n",
    "# Create a decision tree model with limitations to avoid overfitting\n",
    "model = DecisionTreeClassifier(\n",
    "    max_depth=3,           # Limit the depth of the tree\n",
    "    min_samples_split=2,   # Require a minimum number of samples to split a node\n",
    "    min_samples_leaf=2,    # Require a minimum number of samples in a leaf node\n",
    "    max_features=None,     # Use all features for splitting\n",
    "    random_state=42\n",
    ")\n",
    "model.fit(X_train, y_train)"
   ]
  },
  {
   "cell_type": "code",
   "execution_count": 77,
   "id": "e411ac29",
   "metadata": {},
   "outputs": [
    {
     "data": {
      "text/plain": [
       "0.3958664546899841"
      ]
     },
     "execution_count": 77,
     "metadata": {},
     "output_type": "execute_result"
    }
   ],
   "source": [
    "y_pred = model.predict(X_test)\n",
    "\n",
    "# Calculate the mean squared error\n",
    "mse = mean_squared_error(y_test, y_pred)\n",
    "mse"
   ]
  },
  {
   "cell_type": "code",
   "execution_count": 78,
   "id": "c8248661",
   "metadata": {},
   "outputs": [],
   "source": [
    "# make predictions for the entire dataset\n",
    "y_pred_all = model.predict(X)\n",
    "\n",
    "# add predicted values column\n",
    "NRI_county_health_data['Natl_Mentally_Unhealthy_Predicted'] = y_pred_all"
   ]
  },
  {
   "cell_type": "code",
   "execution_count": 79,
   "id": "c3dd0543",
   "metadata": {},
   "outputs": [
    {
     "data": {
      "text/html": [
       "<div>\n",
       "<style scoped>\n",
       "    .dataframe tbody tr th:only-of-type {\n",
       "        vertical-align: middle;\n",
       "    }\n",
       "\n",
       "    .dataframe tbody tr th {\n",
       "        vertical-align: top;\n",
       "    }\n",
       "\n",
       "    .dataframe thead th {\n",
       "        text-align: right;\n",
       "    }\n",
       "</style>\n",
       "<table border=\"1\" class=\"dataframe\">\n",
       "  <thead>\n",
       "    <tr style=\"text-align: right;\">\n",
       "      <th></th>\n",
       "      <th>FIPS</th>\n",
       "      <th>STATEABBRV</th>\n",
       "      <th>State</th>\n",
       "      <th>County</th>\n",
       "      <th>County_State</th>\n",
       "      <th>Community_Type</th>\n",
       "      <th>POPULATION</th>\n",
       "      <th>AREA</th>\n",
       "      <th>Population_Density</th>\n",
       "      <th>Percent_Rural</th>\n",
       "      <th>...</th>\n",
       "      <th>Geolocation</th>\n",
       "      <th>Age_Adjusted_Death_Rate_mean_indicator</th>\n",
       "      <th>Life_Expectancy_mean_indicator</th>\n",
       "      <th>Physically_Unhealthy_Days_mean_indicator</th>\n",
       "      <th>Mentally_Unhealthy_Days_mean_indicator</th>\n",
       "      <th>risk_score_squared</th>\n",
       "      <th>Natl_AADR_Predicted</th>\n",
       "      <th>Natl_Life_Expectancy_Predicted</th>\n",
       "      <th>Natl_Physically_Unhealthy_Predicted</th>\n",
       "      <th>Natl_Mentally_Unhealthy_Predicted</th>\n",
       "    </tr>\n",
       "  </thead>\n",
       "  <tbody>\n",
       "    <tr>\n",
       "      <th>0</th>\n",
       "      <td>1001.0</td>\n",
       "      <td>AL</td>\n",
       "      <td>Alabama</td>\n",
       "      <td>Autauga</td>\n",
       "      <td>Autauga, AL</td>\n",
       "      <td>Small Urban</td>\n",
       "      <td>58764.0</td>\n",
       "      <td>610.470508</td>\n",
       "      <td>96.260178</td>\n",
       "      <td>42.002162</td>\n",
       "      <td>...</td>\n",
       "      <td>POINT (-86.6464395 32.5322367)</td>\n",
       "      <td>0</td>\n",
       "      <td>0</td>\n",
       "      <td>0</td>\n",
       "      <td>0</td>\n",
       "      <td>2422.656634</td>\n",
       "      <td>0</td>\n",
       "      <td>1</td>\n",
       "      <td>0</td>\n",
       "      <td>1</td>\n",
       "    </tr>\n",
       "    <tr>\n",
       "      <th>1</th>\n",
       "      <td>1003.0</td>\n",
       "      <td>AL</td>\n",
       "      <td>Alabama</td>\n",
       "      <td>Baldwin</td>\n",
       "      <td>Baldwin, AL</td>\n",
       "      <td>Small Urban</td>\n",
       "      <td>231365.0</td>\n",
       "      <td>2047.738775</td>\n",
       "      <td>112.985603</td>\n",
       "      <td>42.279099</td>\n",
       "      <td>...</td>\n",
       "      <td>POINT (-87.7460666 30.6592183)</td>\n",
       "      <td>0</td>\n",
       "      <td>1</td>\n",
       "      <td>0</td>\n",
       "      <td>0</td>\n",
       "      <td>9547.086795</td>\n",
       "      <td>0</td>\n",
       "      <td>1</td>\n",
       "      <td>0</td>\n",
       "      <td>1</td>\n",
       "    </tr>\n",
       "    <tr>\n",
       "      <th>2</th>\n",
       "      <td>1005.0</td>\n",
       "      <td>AL</td>\n",
       "      <td>Alabama</td>\n",
       "      <td>Barbour</td>\n",
       "      <td>Barbour, AL</td>\n",
       "      <td>Rural</td>\n",
       "      <td>25160.0</td>\n",
       "      <td>913.646511</td>\n",
       "      <td>27.538003</td>\n",
       "      <td>67.789635</td>\n",
       "      <td>...</td>\n",
       "      <td>POINT (-85.4051035 31.8702531)</td>\n",
       "      <td>1</td>\n",
       "      <td>0</td>\n",
       "      <td>1</td>\n",
       "      <td>1</td>\n",
       "      <td>3157.131246</td>\n",
       "      <td>1</td>\n",
       "      <td>0</td>\n",
       "      <td>1</td>\n",
       "      <td>1</td>\n",
       "    </tr>\n",
       "    <tr>\n",
       "      <th>3</th>\n",
       "      <td>1007.0</td>\n",
       "      <td>AL</td>\n",
       "      <td>Alabama</td>\n",
       "      <td>Bibb</td>\n",
       "      <td>Bibb, AL</td>\n",
       "      <td>Rural</td>\n",
       "      <td>22239.0</td>\n",
       "      <td>632.486798</td>\n",
       "      <td>35.161208</td>\n",
       "      <td>68.352607</td>\n",
       "      <td>...</td>\n",
       "      <td>POINT (-87.1271475 33.0158929)</td>\n",
       "      <td>1</td>\n",
       "      <td>0</td>\n",
       "      <td>1</td>\n",
       "      <td>1</td>\n",
       "      <td>1055.267887</td>\n",
       "      <td>1</td>\n",
       "      <td>0</td>\n",
       "      <td>1</td>\n",
       "      <td>1</td>\n",
       "    </tr>\n",
       "    <tr>\n",
       "      <th>4</th>\n",
       "      <td>1009.0</td>\n",
       "      <td>AL</td>\n",
       "      <td>Alabama</td>\n",
       "      <td>Blount</td>\n",
       "      <td>Blount, AL</td>\n",
       "      <td>Small Urban</td>\n",
       "      <td>58992.0</td>\n",
       "      <td>657.196555</td>\n",
       "      <td>89.763100</td>\n",
       "      <td>89.951502</td>\n",
       "      <td>...</td>\n",
       "      <td>POINT (-86.56644 33.9773575)</td>\n",
       "      <td>1</td>\n",
       "      <td>0</td>\n",
       "      <td>1</td>\n",
       "      <td>1</td>\n",
       "      <td>4241.768116</td>\n",
       "      <td>0</td>\n",
       "      <td>1</td>\n",
       "      <td>0</td>\n",
       "      <td>1</td>\n",
       "    </tr>\n",
       "    <tr>\n",
       "      <th>5</th>\n",
       "      <td>1011.0</td>\n",
       "      <td>AL</td>\n",
       "      <td>Alabama</td>\n",
       "      <td>Bullock</td>\n",
       "      <td>Bullock, AL</td>\n",
       "      <td>Rural</td>\n",
       "      <td>10326.0</td>\n",
       "      <td>631.454512</td>\n",
       "      <td>16.352722</td>\n",
       "      <td>51.374382</td>\n",
       "      <td>...</td>\n",
       "      <td>POINT (-85.7172613 32.1017589)</td>\n",
       "      <td>1</td>\n",
       "      <td>0</td>\n",
       "      <td>1</td>\n",
       "      <td>1</td>\n",
       "      <td>1053.201773</td>\n",
       "      <td>1</td>\n",
       "      <td>0</td>\n",
       "      <td>1</td>\n",
       "      <td>1</td>\n",
       "    </tr>\n",
       "    <tr>\n",
       "      <th>6</th>\n",
       "      <td>1013.0</td>\n",
       "      <td>AL</td>\n",
       "      <td>Alabama</td>\n",
       "      <td>Butler</td>\n",
       "      <td>Butler, AL</td>\n",
       "      <td>Rural</td>\n",
       "      <td>19015.0</td>\n",
       "      <td>785.734461</td>\n",
       "      <td>24.200288</td>\n",
       "      <td>71.232157</td>\n",
       "      <td>...</td>\n",
       "      <td>POINT (-86.6819689 31.751667)</td>\n",
       "      <td>1</td>\n",
       "      <td>0</td>\n",
       "      <td>1</td>\n",
       "      <td>1</td>\n",
       "      <td>2922.119657</td>\n",
       "      <td>1</td>\n",
       "      <td>0</td>\n",
       "      <td>1</td>\n",
       "      <td>1</td>\n",
       "    </tr>\n",
       "    <tr>\n",
       "      <th>7</th>\n",
       "      <td>1015.0</td>\n",
       "      <td>AL</td>\n",
       "      <td>Alabama</td>\n",
       "      <td>Calhoun</td>\n",
       "      <td>Calhoun, AL</td>\n",
       "      <td>Small Urban</td>\n",
       "      <td>116250.0</td>\n",
       "      <td>618.455143</td>\n",
       "      <td>187.968362</td>\n",
       "      <td>33.696826</td>\n",
       "      <td>...</td>\n",
       "      <td>POINT (-85.8279089 33.7705162)</td>\n",
       "      <td>1</td>\n",
       "      <td>0</td>\n",
       "      <td>1</td>\n",
       "      <td>1</td>\n",
       "      <td>7119.643985</td>\n",
       "      <td>0</td>\n",
       "      <td>1</td>\n",
       "      <td>0</td>\n",
       "      <td>1</td>\n",
       "    </tr>\n",
       "    <tr>\n",
       "      <th>8</th>\n",
       "      <td>1017.0</td>\n",
       "      <td>AL</td>\n",
       "      <td>Alabama</td>\n",
       "      <td>Chambers</td>\n",
       "      <td>Chambers, AL</td>\n",
       "      <td>Rural</td>\n",
       "      <td>34738.0</td>\n",
       "      <td>609.202347</td>\n",
       "      <td>57.022105</td>\n",
       "      <td>49.148034</td>\n",
       "      <td>...</td>\n",
       "      <td>POINT (-85.3940321 32.9155039)</td>\n",
       "      <td>1</td>\n",
       "      <td>0</td>\n",
       "      <td>1</td>\n",
       "      <td>1</td>\n",
       "      <td>1793.359464</td>\n",
       "      <td>1</td>\n",
       "      <td>0</td>\n",
       "      <td>1</td>\n",
       "      <td>1</td>\n",
       "    </tr>\n",
       "    <tr>\n",
       "      <th>9</th>\n",
       "      <td>1019.0</td>\n",
       "      <td>AL</td>\n",
       "      <td>Alabama</td>\n",
       "      <td>Cherokee</td>\n",
       "      <td>Cherokee, AL</td>\n",
       "      <td>Rural</td>\n",
       "      <td>24933.0</td>\n",
       "      <td>606.033346</td>\n",
       "      <td>41.141300</td>\n",
       "      <td>85.736273</td>\n",
       "      <td>...</td>\n",
       "      <td>POINT (-85.6542417 34.0695153)</td>\n",
       "      <td>1</td>\n",
       "      <td>0</td>\n",
       "      <td>1</td>\n",
       "      <td>1</td>\n",
       "      <td>1769.188665</td>\n",
       "      <td>1</td>\n",
       "      <td>0</td>\n",
       "      <td>1</td>\n",
       "      <td>1</td>\n",
       "    </tr>\n",
       "  </tbody>\n",
       "</table>\n",
       "<p>10 rows × 50 columns</p>\n",
       "</div>"
      ],
      "text/plain": [
       "     FIPS STATEABBRV    State    County  County_State Community_Type  \\\n",
       "0  1001.0         AL  Alabama   Autauga   Autauga, AL    Small Urban   \n",
       "1  1003.0         AL  Alabama   Baldwin   Baldwin, AL    Small Urban   \n",
       "2  1005.0         AL  Alabama   Barbour   Barbour, AL          Rural   \n",
       "3  1007.0         AL  Alabama      Bibb      Bibb, AL          Rural   \n",
       "4  1009.0         AL  Alabama    Blount    Blount, AL    Small Urban   \n",
       "5  1011.0         AL  Alabama   Bullock   Bullock, AL          Rural   \n",
       "6  1013.0         AL  Alabama    Butler    Butler, AL          Rural   \n",
       "7  1015.0         AL  Alabama   Calhoun   Calhoun, AL    Small Urban   \n",
       "8  1017.0         AL  Alabama  Chambers  Chambers, AL          Rural   \n",
       "9  1019.0         AL  Alabama  Cherokee  Cherokee, AL          Rural   \n",
       "\n",
       "   POPULATION         AREA  Population_Density  Percent_Rural  ...  \\\n",
       "0     58764.0   610.470508           96.260178      42.002162  ...   \n",
       "1    231365.0  2047.738775          112.985603      42.279099  ...   \n",
       "2     25160.0   913.646511           27.538003      67.789635  ...   \n",
       "3     22239.0   632.486798           35.161208      68.352607  ...   \n",
       "4     58992.0   657.196555           89.763100      89.951502  ...   \n",
       "5     10326.0   631.454512           16.352722      51.374382  ...   \n",
       "6     19015.0   785.734461           24.200288      71.232157  ...   \n",
       "7    116250.0   618.455143          187.968362      33.696826  ...   \n",
       "8     34738.0   609.202347           57.022105      49.148034  ...   \n",
       "9     24933.0   606.033346           41.141300      85.736273  ...   \n",
       "\n",
       "                      Geolocation Age_Adjusted_Death_Rate_mean_indicator  \\\n",
       "0  POINT (-86.6464395 32.5322367)                                      0   \n",
       "1  POINT (-87.7460666 30.6592183)                                      0   \n",
       "2  POINT (-85.4051035 31.8702531)                                      1   \n",
       "3  POINT (-87.1271475 33.0158929)                                      1   \n",
       "4    POINT (-86.56644 33.9773575)                                      1   \n",
       "5  POINT (-85.7172613 32.1017589)                                      1   \n",
       "6   POINT (-86.6819689 31.751667)                                      1   \n",
       "7  POINT (-85.8279089 33.7705162)                                      1   \n",
       "8  POINT (-85.3940321 32.9155039)                                      1   \n",
       "9  POINT (-85.6542417 34.0695153)                                      1   \n",
       "\n",
       "   Life_Expectancy_mean_indicator Physically_Unhealthy_Days_mean_indicator  \\\n",
       "0                               0                                        0   \n",
       "1                               1                                        0   \n",
       "2                               0                                        1   \n",
       "3                               0                                        1   \n",
       "4                               0                                        1   \n",
       "5                               0                                        1   \n",
       "6                               0                                        1   \n",
       "7                               0                                        1   \n",
       "8                               0                                        1   \n",
       "9                               0                                        1   \n",
       "\n",
       "   Mentally_Unhealthy_Days_mean_indicator risk_score_squared  \\\n",
       "0                                       0        2422.656634   \n",
       "1                                       0        9547.086795   \n",
       "2                                       1        3157.131246   \n",
       "3                                       1        1055.267887   \n",
       "4                                       1        4241.768116   \n",
       "5                                       1        1053.201773   \n",
       "6                                       1        2922.119657   \n",
       "7                                       1        7119.643985   \n",
       "8                                       1        1793.359464   \n",
       "9                                       1        1769.188665   \n",
       "\n",
       "   Natl_AADR_Predicted Natl_Life_Expectancy_Predicted  \\\n",
       "0                    0                              1   \n",
       "1                    0                              1   \n",
       "2                    1                              0   \n",
       "3                    1                              0   \n",
       "4                    0                              1   \n",
       "5                    1                              0   \n",
       "6                    1                              0   \n",
       "7                    0                              1   \n",
       "8                    1                              0   \n",
       "9                    1                              0   \n",
       "\n",
       "   Natl_Physically_Unhealthy_Predicted  Natl_Mentally_Unhealthy_Predicted  \n",
       "0                                    0                                  1  \n",
       "1                                    0                                  1  \n",
       "2                                    1                                  1  \n",
       "3                                    1                                  1  \n",
       "4                                    0                                  1  \n",
       "5                                    1                                  1  \n",
       "6                                    1                                  1  \n",
       "7                                    0                                  1  \n",
       "8                                    1                                  1  \n",
       "9                                    1                                  1  \n",
       "\n",
       "[10 rows x 50 columns]"
      ]
     },
     "execution_count": 79,
     "metadata": {},
     "output_type": "execute_result"
    }
   ],
   "source": [
    "NRI_county_health_data.head(10)"
   ]
  },
  {
   "cell_type": "code",
   "execution_count": 80,
   "id": "e1a755b0",
   "metadata": {},
   "outputs": [],
   "source": [
    "# save updated dataset\n",
    "NRI_county_health_data.to_csv(\"NRI_county_health_data_predictions.csv\", sep=',', index=False, encoding='utf-8')"
   ]
  },
  {
   "cell_type": "markdown",
   "id": "cbec6f46",
   "metadata": {},
   "source": [
    "## Southeast Predictions"
   ]
  },
  {
   "cell_type": "code",
   "execution_count": 81,
   "id": "59921441",
   "metadata": {},
   "outputs": [],
   "source": [
    "NRI_county_health_data_predictions = pd.read_csv(\"NRI_county_health_data_predictions.csv\")\n",
    "#NRI_county_health_data_predictions.head()"
   ]
  },
  {
   "cell_type": "code",
   "execution_count": 82,
   "id": "b14b8d91",
   "metadata": {},
   "outputs": [
    {
     "data": {
      "text/html": [
       "<div>\n",
       "<style scoped>\n",
       "    .dataframe tbody tr th:only-of-type {\n",
       "        vertical-align: middle;\n",
       "    }\n",
       "\n",
       "    .dataframe tbody tr th {\n",
       "        vertical-align: top;\n",
       "    }\n",
       "\n",
       "    .dataframe thead th {\n",
       "        text-align: right;\n",
       "    }\n",
       "</style>\n",
       "<table border=\"1\" class=\"dataframe\">\n",
       "  <thead>\n",
       "    <tr style=\"text-align: right;\">\n",
       "      <th></th>\n",
       "      <th>FIPS</th>\n",
       "      <th>STATEABBRV</th>\n",
       "      <th>State</th>\n",
       "      <th>County</th>\n",
       "      <th>County_State</th>\n",
       "      <th>Community_Type</th>\n",
       "      <th>POPULATION</th>\n",
       "      <th>AREA</th>\n",
       "      <th>Population_Density</th>\n",
       "      <th>Percent_Rural</th>\n",
       "      <th>...</th>\n",
       "      <th>Geolocation</th>\n",
       "      <th>Age_Adjusted_Death_Rate_mean_indicator</th>\n",
       "      <th>Life_Expectancy_mean_indicator</th>\n",
       "      <th>Physically_Unhealthy_Days_mean_indicator</th>\n",
       "      <th>Mentally_Unhealthy_Days_mean_indicator</th>\n",
       "      <th>risk_score_squared</th>\n",
       "      <th>Natl_AADR_Predicted</th>\n",
       "      <th>Natl_Life_Expectancy_Predicted</th>\n",
       "      <th>Natl_Physically_Unhealthy_Predicted</th>\n",
       "      <th>Natl_Mentally_Unhealthy_Predicted</th>\n",
       "    </tr>\n",
       "  </thead>\n",
       "  <tbody>\n",
       "    <tr>\n",
       "      <th>0</th>\n",
       "      <td>1001.0</td>\n",
       "      <td>AL</td>\n",
       "      <td>Alabama</td>\n",
       "      <td>Autauga</td>\n",
       "      <td>Autauga, AL</td>\n",
       "      <td>Small Urban</td>\n",
       "      <td>58764.0</td>\n",
       "      <td>610.470508</td>\n",
       "      <td>96.260178</td>\n",
       "      <td>42.002162</td>\n",
       "      <td>...</td>\n",
       "      <td>POINT (-86.6464395 32.5322367)</td>\n",
       "      <td>0</td>\n",
       "      <td>0</td>\n",
       "      <td>0</td>\n",
       "      <td>0</td>\n",
       "      <td>2422.656634</td>\n",
       "      <td>0</td>\n",
       "      <td>1</td>\n",
       "      <td>0</td>\n",
       "      <td>1</td>\n",
       "    </tr>\n",
       "    <tr>\n",
       "      <th>1</th>\n",
       "      <td>1003.0</td>\n",
       "      <td>AL</td>\n",
       "      <td>Alabama</td>\n",
       "      <td>Baldwin</td>\n",
       "      <td>Baldwin, AL</td>\n",
       "      <td>Small Urban</td>\n",
       "      <td>231365.0</td>\n",
       "      <td>2047.738775</td>\n",
       "      <td>112.985603</td>\n",
       "      <td>42.279099</td>\n",
       "      <td>...</td>\n",
       "      <td>POINT (-87.7460666 30.6592183)</td>\n",
       "      <td>0</td>\n",
       "      <td>1</td>\n",
       "      <td>0</td>\n",
       "      <td>0</td>\n",
       "      <td>9547.086795</td>\n",
       "      <td>0</td>\n",
       "      <td>1</td>\n",
       "      <td>0</td>\n",
       "      <td>1</td>\n",
       "    </tr>\n",
       "    <tr>\n",
       "      <th>2</th>\n",
       "      <td>1005.0</td>\n",
       "      <td>AL</td>\n",
       "      <td>Alabama</td>\n",
       "      <td>Barbour</td>\n",
       "      <td>Barbour, AL</td>\n",
       "      <td>Rural</td>\n",
       "      <td>25160.0</td>\n",
       "      <td>913.646511</td>\n",
       "      <td>27.538003</td>\n",
       "      <td>67.789635</td>\n",
       "      <td>...</td>\n",
       "      <td>POINT (-85.4051035 31.8702531)</td>\n",
       "      <td>1</td>\n",
       "      <td>0</td>\n",
       "      <td>1</td>\n",
       "      <td>1</td>\n",
       "      <td>3157.131246</td>\n",
       "      <td>1</td>\n",
       "      <td>0</td>\n",
       "      <td>1</td>\n",
       "      <td>1</td>\n",
       "    </tr>\n",
       "    <tr>\n",
       "      <th>3</th>\n",
       "      <td>1007.0</td>\n",
       "      <td>AL</td>\n",
       "      <td>Alabama</td>\n",
       "      <td>Bibb</td>\n",
       "      <td>Bibb, AL</td>\n",
       "      <td>Rural</td>\n",
       "      <td>22239.0</td>\n",
       "      <td>632.486798</td>\n",
       "      <td>35.161208</td>\n",
       "      <td>68.352607</td>\n",
       "      <td>...</td>\n",
       "      <td>POINT (-87.1271475 33.0158929)</td>\n",
       "      <td>1</td>\n",
       "      <td>0</td>\n",
       "      <td>1</td>\n",
       "      <td>1</td>\n",
       "      <td>1055.267887</td>\n",
       "      <td>1</td>\n",
       "      <td>0</td>\n",
       "      <td>1</td>\n",
       "      <td>1</td>\n",
       "    </tr>\n",
       "    <tr>\n",
       "      <th>4</th>\n",
       "      <td>1009.0</td>\n",
       "      <td>AL</td>\n",
       "      <td>Alabama</td>\n",
       "      <td>Blount</td>\n",
       "      <td>Blount, AL</td>\n",
       "      <td>Small Urban</td>\n",
       "      <td>58992.0</td>\n",
       "      <td>657.196555</td>\n",
       "      <td>89.763100</td>\n",
       "      <td>89.951502</td>\n",
       "      <td>...</td>\n",
       "      <td>POINT (-86.56644 33.9773575)</td>\n",
       "      <td>1</td>\n",
       "      <td>0</td>\n",
       "      <td>1</td>\n",
       "      <td>1</td>\n",
       "      <td>4241.768116</td>\n",
       "      <td>0</td>\n",
       "      <td>1</td>\n",
       "      <td>0</td>\n",
       "      <td>1</td>\n",
       "    </tr>\n",
       "    <tr>\n",
       "      <th>...</th>\n",
       "      <td>...</td>\n",
       "      <td>...</td>\n",
       "      <td>...</td>\n",
       "      <td>...</td>\n",
       "      <td>...</td>\n",
       "      <td>...</td>\n",
       "      <td>...</td>\n",
       "      <td>...</td>\n",
       "      <td>...</td>\n",
       "      <td>...</td>\n",
       "      <td>...</td>\n",
       "      <td>...</td>\n",
       "      <td>...</td>\n",
       "      <td>...</td>\n",
       "      <td>...</td>\n",
       "      <td>...</td>\n",
       "      <td>...</td>\n",
       "      <td>...</td>\n",
       "      <td>...</td>\n",
       "      <td>...</td>\n",
       "      <td>...</td>\n",
       "    </tr>\n",
       "    <tr>\n",
       "      <th>3043</th>\n",
       "      <td>54101.0</td>\n",
       "      <td>WV</td>\n",
       "      <td>West Virginia</td>\n",
       "      <td>Webster</td>\n",
       "      <td>Webster, WV</td>\n",
       "      <td>Rural</td>\n",
       "      <td>8359.0</td>\n",
       "      <td>561.844152</td>\n",
       "      <td>14.877791</td>\n",
       "      <td>100.000000</td>\n",
       "      <td>...</td>\n",
       "      <td>POINT (-80.4490515 38.483459)</td>\n",
       "      <td>1</td>\n",
       "      <td>0</td>\n",
       "      <td>1</td>\n",
       "      <td>1</td>\n",
       "      <td>81.648445</td>\n",
       "      <td>1</td>\n",
       "      <td>0</td>\n",
       "      <td>1</td>\n",
       "      <td>1</td>\n",
       "    </tr>\n",
       "    <tr>\n",
       "      <th>3044</th>\n",
       "      <td>54103.0</td>\n",
       "      <td>WV</td>\n",
       "      <td>West Virginia</td>\n",
       "      <td>Wetzel</td>\n",
       "      <td>Wetzel, WV</td>\n",
       "      <td>Rural</td>\n",
       "      <td>14420.0</td>\n",
       "      <td>364.977209</td>\n",
       "      <td>39.509316</td>\n",
       "      <td>53.856359</td>\n",
       "      <td>...</td>\n",
       "      <td>POINT (-80.6353994 39.59818)</td>\n",
       "      <td>1</td>\n",
       "      <td>0</td>\n",
       "      <td>1</td>\n",
       "      <td>1</td>\n",
       "      <td>606.447429</td>\n",
       "      <td>1</td>\n",
       "      <td>0</td>\n",
       "      <td>1</td>\n",
       "      <td>1</td>\n",
       "    </tr>\n",
       "    <tr>\n",
       "      <th>3045</th>\n",
       "      <td>54105.0</td>\n",
       "      <td>WV</td>\n",
       "      <td>West Virginia</td>\n",
       "      <td>Wirt</td>\n",
       "      <td>Wirt, WV</td>\n",
       "      <td>Rural</td>\n",
       "      <td>5184.0</td>\n",
       "      <td>237.135907</td>\n",
       "      <td>21.860882</td>\n",
       "      <td>100.000000</td>\n",
       "      <td>...</td>\n",
       "      <td>POINT (-81.3829749 39.0200337)</td>\n",
       "      <td>1</td>\n",
       "      <td>0</td>\n",
       "      <td>1</td>\n",
       "      <td>1</td>\n",
       "      <td>4.409599</td>\n",
       "      <td>1</td>\n",
       "      <td>0</td>\n",
       "      <td>1</td>\n",
       "      <td>1</td>\n",
       "    </tr>\n",
       "    <tr>\n",
       "      <th>3046</th>\n",
       "      <td>54107.0</td>\n",
       "      <td>WV</td>\n",
       "      <td>West Virginia</td>\n",
       "      <td>Wood</td>\n",
       "      <td>Wood, WV</td>\n",
       "      <td>Small Urban</td>\n",
       "      <td>84238.0</td>\n",
       "      <td>380.570013</td>\n",
       "      <td>221.346919</td>\n",
       "      <td>26.774461</td>\n",
       "      <td>...</td>\n",
       "      <td>POINT (-81.516234 39.2116023)</td>\n",
       "      <td>1</td>\n",
       "      <td>0</td>\n",
       "      <td>1</td>\n",
       "      <td>1</td>\n",
       "      <td>760.938281</td>\n",
       "      <td>0</td>\n",
       "      <td>1</td>\n",
       "      <td>1</td>\n",
       "      <td>1</td>\n",
       "    </tr>\n",
       "    <tr>\n",
       "      <th>3047</th>\n",
       "      <td>54109.0</td>\n",
       "      <td>WV</td>\n",
       "      <td>West Virginia</td>\n",
       "      <td>Wyoming</td>\n",
       "      <td>Wyoming, WV</td>\n",
       "      <td>Rural</td>\n",
       "      <td>21372.0</td>\n",
       "      <td>506.884651</td>\n",
       "      <td>42.163439</td>\n",
       "      <td>88.884687</td>\n",
       "      <td>...</td>\n",
       "      <td>POINT (-81.5490317 37.6036601)</td>\n",
       "      <td>1</td>\n",
       "      <td>0</td>\n",
       "      <td>1</td>\n",
       "      <td>1</td>\n",
       "      <td>956.409250</td>\n",
       "      <td>1</td>\n",
       "      <td>0</td>\n",
       "      <td>1</td>\n",
       "      <td>1</td>\n",
       "    </tr>\n",
       "  </tbody>\n",
       "</table>\n",
       "<p>924 rows × 50 columns</p>\n",
       "</div>"
      ],
      "text/plain": [
       "         FIPS STATEABBRV          State   County County_State Community_Type  \\\n",
       "0      1001.0         AL        Alabama  Autauga  Autauga, AL    Small Urban   \n",
       "1      1003.0         AL        Alabama  Baldwin  Baldwin, AL    Small Urban   \n",
       "2      1005.0         AL        Alabama  Barbour  Barbour, AL          Rural   \n",
       "3      1007.0         AL        Alabama     Bibb     Bibb, AL          Rural   \n",
       "4      1009.0         AL        Alabama   Blount   Blount, AL    Small Urban   \n",
       "...       ...        ...            ...      ...          ...            ...   \n",
       "3043  54101.0         WV  West Virginia  Webster  Webster, WV          Rural   \n",
       "3044  54103.0         WV  West Virginia   Wetzel   Wetzel, WV          Rural   \n",
       "3045  54105.0         WV  West Virginia     Wirt     Wirt, WV          Rural   \n",
       "3046  54107.0         WV  West Virginia     Wood     Wood, WV    Small Urban   \n",
       "3047  54109.0         WV  West Virginia  Wyoming  Wyoming, WV          Rural   \n",
       "\n",
       "      POPULATION         AREA  Population_Density  Percent_Rural  ...  \\\n",
       "0        58764.0   610.470508           96.260178      42.002162  ...   \n",
       "1       231365.0  2047.738775          112.985603      42.279099  ...   \n",
       "2        25160.0   913.646511           27.538003      67.789635  ...   \n",
       "3        22239.0   632.486798           35.161208      68.352607  ...   \n",
       "4        58992.0   657.196555           89.763100      89.951502  ...   \n",
       "...          ...          ...                 ...            ...  ...   \n",
       "3043      8359.0   561.844152           14.877791     100.000000  ...   \n",
       "3044     14420.0   364.977209           39.509316      53.856359  ...   \n",
       "3045      5184.0   237.135907           21.860882     100.000000  ...   \n",
       "3046     84238.0   380.570013          221.346919      26.774461  ...   \n",
       "3047     21372.0   506.884651           42.163439      88.884687  ...   \n",
       "\n",
       "                         Geolocation Age_Adjusted_Death_Rate_mean_indicator  \\\n",
       "0     POINT (-86.6464395 32.5322367)                                      0   \n",
       "1     POINT (-87.7460666 30.6592183)                                      0   \n",
       "2     POINT (-85.4051035 31.8702531)                                      1   \n",
       "3     POINT (-87.1271475 33.0158929)                                      1   \n",
       "4       POINT (-86.56644 33.9773575)                                      1   \n",
       "...                              ...                                    ...   \n",
       "3043   POINT (-80.4490515 38.483459)                                      1   \n",
       "3044    POINT (-80.6353994 39.59818)                                      1   \n",
       "3045  POINT (-81.3829749 39.0200337)                                      1   \n",
       "3046   POINT (-81.516234 39.2116023)                                      1   \n",
       "3047  POINT (-81.5490317 37.6036601)                                      1   \n",
       "\n",
       "      Life_Expectancy_mean_indicator Physically_Unhealthy_Days_mean_indicator  \\\n",
       "0                                  0                                        0   \n",
       "1                                  1                                        0   \n",
       "2                                  0                                        1   \n",
       "3                                  0                                        1   \n",
       "4                                  0                                        1   \n",
       "...                              ...                                      ...   \n",
       "3043                               0                                        1   \n",
       "3044                               0                                        1   \n",
       "3045                               0                                        1   \n",
       "3046                               0                                        1   \n",
       "3047                               0                                        1   \n",
       "\n",
       "      Mentally_Unhealthy_Days_mean_indicator risk_score_squared  \\\n",
       "0                                          0        2422.656634   \n",
       "1                                          0        9547.086795   \n",
       "2                                          1        3157.131246   \n",
       "3                                          1        1055.267887   \n",
       "4                                          1        4241.768116   \n",
       "...                                      ...                ...   \n",
       "3043                                       1          81.648445   \n",
       "3044                                       1         606.447429   \n",
       "3045                                       1           4.409599   \n",
       "3046                                       1         760.938281   \n",
       "3047                                       1         956.409250   \n",
       "\n",
       "      Natl_AADR_Predicted Natl_Life_Expectancy_Predicted  \\\n",
       "0                       0                              1   \n",
       "1                       0                              1   \n",
       "2                       1                              0   \n",
       "3                       1                              0   \n",
       "4                       0                              1   \n",
       "...                   ...                            ...   \n",
       "3043                    1                              0   \n",
       "3044                    1                              0   \n",
       "3045                    1                              0   \n",
       "3046                    0                              1   \n",
       "3047                    1                              0   \n",
       "\n",
       "      Natl_Physically_Unhealthy_Predicted  Natl_Mentally_Unhealthy_Predicted  \n",
       "0                                       0                                  1  \n",
       "1                                       0                                  1  \n",
       "2                                       1                                  1  \n",
       "3                                       1                                  1  \n",
       "4                                       0                                  1  \n",
       "...                                   ...                                ...  \n",
       "3043                                    1                                  1  \n",
       "3044                                    1                                  1  \n",
       "3045                                    1                                  1  \n",
       "3046                                    1                                  1  \n",
       "3047                                    1                                  1  \n",
       "\n",
       "[924 rows x 50 columns]"
      ]
     },
     "execution_count": 82,
     "metadata": {},
     "output_type": "execute_result"
    }
   ],
   "source": [
    "# define southeast states\n",
    "southeast_states = [\"FL\", \"GA\", \"TN\", \"NC\", \"SC\", \"AL\", \"MS\", \"KY\", \"WV\", \"VA\"]\n",
    "\n",
    "# filter dataframe to only include southeast states\n",
    "NRI_county_health_data_southeast = NRI_county_health_data_predictions[NRI_county_health_data_predictions['STATEABBRV'].isin(southeast_states)]\n",
    "NRI_county_health_data_southeast\n"
   ]
  },
  {
   "cell_type": "markdown",
   "id": "4b61e0e5",
   "metadata": {},
   "source": [
    "#### Age Adjusted Death Rate"
   ]
  },
  {
   "cell_type": "code",
   "execution_count": 83,
   "id": "23246956",
   "metadata": {},
   "outputs": [
    {
     "data": {
      "text/html": [
       "<div>\n",
       "<style scoped>\n",
       "    .dataframe tbody tr th:only-of-type {\n",
       "        vertical-align: middle;\n",
       "    }\n",
       "\n",
       "    .dataframe tbody tr th {\n",
       "        vertical-align: top;\n",
       "    }\n",
       "\n",
       "    .dataframe thead th {\n",
       "        text-align: right;\n",
       "    }\n",
       "</style>\n",
       "<table border=\"1\" class=\"dataframe\">\n",
       "  <thead>\n",
       "    <tr style=\"text-align: right;\">\n",
       "      <th></th>\n",
       "      <th>RISK_SCORE</th>\n",
       "      <th>Population_Density</th>\n",
       "      <th>risk_score_squared</th>\n",
       "      <th>Community_Type_Small Urban</th>\n",
       "      <th>Community_Type_Urban</th>\n",
       "    </tr>\n",
       "  </thead>\n",
       "  <tbody>\n",
       "    <tr>\n",
       "      <th>0</th>\n",
       "      <td>49.220490</td>\n",
       "      <td>96.260178</td>\n",
       "      <td>2422.656634</td>\n",
       "      <td>True</td>\n",
       "      <td>False</td>\n",
       "    </tr>\n",
       "    <tr>\n",
       "      <th>1</th>\n",
       "      <td>97.709195</td>\n",
       "      <td>112.985603</td>\n",
       "      <td>9547.086795</td>\n",
       "      <td>True</td>\n",
       "      <td>False</td>\n",
       "    </tr>\n",
       "    <tr>\n",
       "      <th>2</th>\n",
       "      <td>56.188355</td>\n",
       "      <td>27.538003</td>\n",
       "      <td>3157.131246</td>\n",
       "      <td>False</td>\n",
       "      <td>False</td>\n",
       "    </tr>\n",
       "    <tr>\n",
       "      <th>3</th>\n",
       "      <td>32.484887</td>\n",
       "      <td>35.161208</td>\n",
       "      <td>1055.267887</td>\n",
       "      <td>False</td>\n",
       "      <td>False</td>\n",
       "    </tr>\n",
       "    <tr>\n",
       "      <th>4</th>\n",
       "      <td>65.128858</td>\n",
       "      <td>89.763100</td>\n",
       "      <td>4241.768116</td>\n",
       "      <td>True</td>\n",
       "      <td>False</td>\n",
       "    </tr>\n",
       "    <tr>\n",
       "      <th>...</th>\n",
       "      <td>...</td>\n",
       "      <td>...</td>\n",
       "      <td>...</td>\n",
       "      <td>...</td>\n",
       "      <td>...</td>\n",
       "    </tr>\n",
       "    <tr>\n",
       "      <th>3043</th>\n",
       "      <td>9.035953</td>\n",
       "      <td>14.877791</td>\n",
       "      <td>81.648445</td>\n",
       "      <td>False</td>\n",
       "      <td>False</td>\n",
       "    </tr>\n",
       "    <tr>\n",
       "      <th>3044</th>\n",
       "      <td>24.626153</td>\n",
       "      <td>39.509316</td>\n",
       "      <td>606.447429</td>\n",
       "      <td>False</td>\n",
       "      <td>False</td>\n",
       "    </tr>\n",
       "    <tr>\n",
       "      <th>3045</th>\n",
       "      <td>2.099905</td>\n",
       "      <td>21.860882</td>\n",
       "      <td>4.409599</td>\n",
       "      <td>False</td>\n",
       "      <td>False</td>\n",
       "    </tr>\n",
       "    <tr>\n",
       "      <th>3046</th>\n",
       "      <td>27.585110</td>\n",
       "      <td>221.346919</td>\n",
       "      <td>760.938281</td>\n",
       "      <td>True</td>\n",
       "      <td>False</td>\n",
       "    </tr>\n",
       "    <tr>\n",
       "      <th>3047</th>\n",
       "      <td>30.925867</td>\n",
       "      <td>42.163439</td>\n",
       "      <td>956.409250</td>\n",
       "      <td>False</td>\n",
       "      <td>False</td>\n",
       "    </tr>\n",
       "  </tbody>\n",
       "</table>\n",
       "<p>924 rows × 5 columns</p>\n",
       "</div>"
      ],
      "text/plain": [
       "      RISK_SCORE  Population_Density  risk_score_squared  \\\n",
       "0      49.220490           96.260178         2422.656634   \n",
       "1      97.709195          112.985603         9547.086795   \n",
       "2      56.188355           27.538003         3157.131246   \n",
       "3      32.484887           35.161208         1055.267887   \n",
       "4      65.128858           89.763100         4241.768116   \n",
       "...          ...                 ...                 ...   \n",
       "3043    9.035953           14.877791           81.648445   \n",
       "3044   24.626153           39.509316          606.447429   \n",
       "3045    2.099905           21.860882            4.409599   \n",
       "3046   27.585110          221.346919          760.938281   \n",
       "3047   30.925867           42.163439          956.409250   \n",
       "\n",
       "      Community_Type_Small Urban  Community_Type_Urban  \n",
       "0                           True                 False  \n",
       "1                           True                 False  \n",
       "2                          False                 False  \n",
       "3                          False                 False  \n",
       "4                           True                 False  \n",
       "...                          ...                   ...  \n",
       "3043                       False                 False  \n",
       "3044                       False                 False  \n",
       "3045                       False                 False  \n",
       "3046                        True                 False  \n",
       "3047                       False                 False  \n",
       "\n",
       "[924 rows x 5 columns]"
      ]
     },
     "execution_count": 83,
     "metadata": {},
     "output_type": "execute_result"
    }
   ],
   "source": [
    "# features\n",
    "columns = [\"Community_Type\", \"RISK_SCORE\", \"Population_Density\", \"risk_score_squared\"]\n",
    "X = NRI_county_health_data_southeast[columns]\n",
    "\n",
    "# target\n",
    "y = NRI_county_health_data_southeast[\"Age_Adjusted_Death_Rate_mean_indicator\"]\n",
    "\n",
    "# Apply one-hot encoding for Community_Type nominal column\n",
    "X = pd.get_dummies(X, columns=['Community_Type'], prefix='Community_Type', drop_first=True)\n",
    "X"
   ]
  },
  {
   "cell_type": "code",
   "execution_count": 84,
   "id": "fa51f771",
   "metadata": {},
   "outputs": [
    {
     "data": {
      "text/html": [
       "<style>#sk-container-id-8 {color: black;}#sk-container-id-8 pre{padding: 0;}#sk-container-id-8 div.sk-toggleable {background-color: white;}#sk-container-id-8 label.sk-toggleable__label {cursor: pointer;display: block;width: 100%;margin-bottom: 0;padding: 0.3em;box-sizing: border-box;text-align: center;}#sk-container-id-8 label.sk-toggleable__label-arrow:before {content: \"▸\";float: left;margin-right: 0.25em;color: #696969;}#sk-container-id-8 label.sk-toggleable__label-arrow:hover:before {color: black;}#sk-container-id-8 div.sk-estimator:hover label.sk-toggleable__label-arrow:before {color: black;}#sk-container-id-8 div.sk-toggleable__content {max-height: 0;max-width: 0;overflow: hidden;text-align: left;background-color: #f0f8ff;}#sk-container-id-8 div.sk-toggleable__content pre {margin: 0.2em;color: black;border-radius: 0.25em;background-color: #f0f8ff;}#sk-container-id-8 input.sk-toggleable__control:checked~div.sk-toggleable__content {max-height: 200px;max-width: 100%;overflow: auto;}#sk-container-id-8 input.sk-toggleable__control:checked~label.sk-toggleable__label-arrow:before {content: \"▾\";}#sk-container-id-8 div.sk-estimator input.sk-toggleable__control:checked~label.sk-toggleable__label {background-color: #d4ebff;}#sk-container-id-8 div.sk-label input.sk-toggleable__control:checked~label.sk-toggleable__label {background-color: #d4ebff;}#sk-container-id-8 input.sk-hidden--visually {border: 0;clip: rect(1px 1px 1px 1px);clip: rect(1px, 1px, 1px, 1px);height: 1px;margin: -1px;overflow: hidden;padding: 0;position: absolute;width: 1px;}#sk-container-id-8 div.sk-estimator {font-family: monospace;background-color: #f0f8ff;border: 1px dotted black;border-radius: 0.25em;box-sizing: border-box;margin-bottom: 0.5em;}#sk-container-id-8 div.sk-estimator:hover {background-color: #d4ebff;}#sk-container-id-8 div.sk-parallel-item::after {content: \"\";width: 100%;border-bottom: 1px solid gray;flex-grow: 1;}#sk-container-id-8 div.sk-label:hover label.sk-toggleable__label {background-color: #d4ebff;}#sk-container-id-8 div.sk-serial::before {content: \"\";position: absolute;border-left: 1px solid gray;box-sizing: border-box;top: 0;bottom: 0;left: 50%;z-index: 0;}#sk-container-id-8 div.sk-serial {display: flex;flex-direction: column;align-items: center;background-color: white;padding-right: 0.2em;padding-left: 0.2em;position: relative;}#sk-container-id-8 div.sk-item {position: relative;z-index: 1;}#sk-container-id-8 div.sk-parallel {display: flex;align-items: stretch;justify-content: center;background-color: white;position: relative;}#sk-container-id-8 div.sk-item::before, #sk-container-id-8 div.sk-parallel-item::before {content: \"\";position: absolute;border-left: 1px solid gray;box-sizing: border-box;top: 0;bottom: 0;left: 50%;z-index: -1;}#sk-container-id-8 div.sk-parallel-item {display: flex;flex-direction: column;z-index: 1;position: relative;background-color: white;}#sk-container-id-8 div.sk-parallel-item:first-child::after {align-self: flex-end;width: 50%;}#sk-container-id-8 div.sk-parallel-item:last-child::after {align-self: flex-start;width: 50%;}#sk-container-id-8 div.sk-parallel-item:only-child::after {width: 0;}#sk-container-id-8 div.sk-dashed-wrapped {border: 1px dashed gray;margin: 0 0.4em 0.5em 0.4em;box-sizing: border-box;padding-bottom: 0.4em;background-color: white;}#sk-container-id-8 div.sk-label label {font-family: monospace;font-weight: bold;display: inline-block;line-height: 1.2em;}#sk-container-id-8 div.sk-label-container {text-align: center;}#sk-container-id-8 div.sk-container {/* jupyter's `normalize.less` sets `[hidden] { display: none; }` but bootstrap.min.css set `[hidden] { display: none !important; }` so we also need the `!important` here to be able to override the default hidden behavior on the sphinx rendered scikit-learn.org. See: https://github.com/scikit-learn/scikit-learn/issues/21755 */display: inline-block !important;position: relative;}#sk-container-id-8 div.sk-text-repr-fallback {display: none;}</style><div id=\"sk-container-id-8\" class=\"sk-top-container\"><div class=\"sk-text-repr-fallback\"><pre>DecisionTreeClassifier(max_depth=3, min_samples_leaf=2, random_state=42)</pre><b>In a Jupyter environment, please rerun this cell to show the HTML representation or trust the notebook. <br />On GitHub, the HTML representation is unable to render, please try loading this page with nbviewer.org.</b></div><div class=\"sk-container\" hidden><div class=\"sk-item\"><div class=\"sk-estimator sk-toggleable\"><input class=\"sk-toggleable__control sk-hidden--visually\" id=\"sk-estimator-id-8\" type=\"checkbox\" checked><label for=\"sk-estimator-id-8\" class=\"sk-toggleable__label sk-toggleable__label-arrow\">DecisionTreeClassifier</label><div class=\"sk-toggleable__content\"><pre>DecisionTreeClassifier(max_depth=3, min_samples_leaf=2, random_state=42)</pre></div></div></div></div></div>"
      ],
      "text/plain": [
       "DecisionTreeClassifier(max_depth=3, min_samples_leaf=2, random_state=42)"
      ]
     },
     "execution_count": 84,
     "metadata": {},
     "output_type": "execute_result"
    }
   ],
   "source": [
    "# train\n",
    "X_train, X_test, y_train, y_test = train_test_split(X, y, test_size=0.2, random_state=42)\n",
    "\n",
    "# create splits\n",
    "kf = KFold(n_splits=5)\n",
    "\n",
    "# split data\n",
    "k_splits = kf.split(X_train)\n",
    "\n",
    "# create binary decision tree model and train it on the training set\n",
    "# Create a decision tree model with limitations to avoid overfitting\n",
    "model = DecisionTreeClassifier(\n",
    "    max_depth=3,           # Limit the depth of the tree\n",
    "    min_samples_split=2,   # Require a minimum number of samples to split a node\n",
    "    min_samples_leaf=2,    # Require a minimum number of samples in a leaf node\n",
    "    max_features=None,     # Use all features for splitting\n",
    "    random_state=42\n",
    ")\n",
    "model.fit(X_train, y_train)"
   ]
  },
  {
   "cell_type": "code",
   "execution_count": 85,
   "id": "5ff62697",
   "metadata": {},
   "outputs": [
    {
     "data": {
      "text/plain": [
       "0.25405405405405407"
      ]
     },
     "execution_count": 85,
     "metadata": {},
     "output_type": "execute_result"
    }
   ],
   "source": [
    "y_pred = model.predict(X_test)\n",
    "\n",
    "# Calculate the mean squared error\n",
    "mse = mean_squared_error(y_test, y_pred)\n",
    "mse"
   ]
  },
  {
   "cell_type": "code",
   "execution_count": 86,
   "id": "9c1812b2",
   "metadata": {},
   "outputs": [
    {
     "data": {
      "text/plain": [
       "0.745945945945946"
      ]
     },
     "execution_count": 86,
     "metadata": {},
     "output_type": "execute_result"
    }
   ],
   "source": [
    "accuracy = accuracy_score(y_test, y_pred)\n",
    "accuracy"
   ]
  },
  {
   "cell_type": "code",
   "execution_count": 87,
   "id": "dbd09ed6",
   "metadata": {},
   "outputs": [
    {
     "name": "stderr",
     "output_type": "stream",
     "text": [
      "/var/folders/yd/j7sjh_9n0l7b3715t4x1f8yh0000gn/T/ipykernel_29724/390932203.py:5: SettingWithCopyWarning: \n",
      "A value is trying to be set on a copy of a slice from a DataFrame.\n",
      "Try using .loc[row_indexer,col_indexer] = value instead\n",
      "\n",
      "See the caveats in the documentation: https://pandas.pydata.org/pandas-docs/stable/user_guide/indexing.html#returning-a-view-versus-a-copy\n",
      "  NRI_county_health_data_southeast['SE_AADR_Predicted'] = y_pred_all\n"
     ]
    }
   ],
   "source": [
    "# make predictions for the entire dataset\n",
    "y_pred_all = model.predict(X)\n",
    "\n",
    "# add predicted values column\n",
    "NRI_county_health_data_southeast['SE_AADR_Predicted'] = y_pred_all"
   ]
  },
  {
   "cell_type": "markdown",
   "id": "f9a1d0c0",
   "metadata": {},
   "source": [
    "#### Life Expectancy"
   ]
  },
  {
   "cell_type": "code",
   "execution_count": 88,
   "id": "b84269c5",
   "metadata": {},
   "outputs": [
    {
     "data": {
      "text/html": [
       "<style>#sk-container-id-9 {color: black;}#sk-container-id-9 pre{padding: 0;}#sk-container-id-9 div.sk-toggleable {background-color: white;}#sk-container-id-9 label.sk-toggleable__label {cursor: pointer;display: block;width: 100%;margin-bottom: 0;padding: 0.3em;box-sizing: border-box;text-align: center;}#sk-container-id-9 label.sk-toggleable__label-arrow:before {content: \"▸\";float: left;margin-right: 0.25em;color: #696969;}#sk-container-id-9 label.sk-toggleable__label-arrow:hover:before {color: black;}#sk-container-id-9 div.sk-estimator:hover label.sk-toggleable__label-arrow:before {color: black;}#sk-container-id-9 div.sk-toggleable__content {max-height: 0;max-width: 0;overflow: hidden;text-align: left;background-color: #f0f8ff;}#sk-container-id-9 div.sk-toggleable__content pre {margin: 0.2em;color: black;border-radius: 0.25em;background-color: #f0f8ff;}#sk-container-id-9 input.sk-toggleable__control:checked~div.sk-toggleable__content {max-height: 200px;max-width: 100%;overflow: auto;}#sk-container-id-9 input.sk-toggleable__control:checked~label.sk-toggleable__label-arrow:before {content: \"▾\";}#sk-container-id-9 div.sk-estimator input.sk-toggleable__control:checked~label.sk-toggleable__label {background-color: #d4ebff;}#sk-container-id-9 div.sk-label input.sk-toggleable__control:checked~label.sk-toggleable__label {background-color: #d4ebff;}#sk-container-id-9 input.sk-hidden--visually {border: 0;clip: rect(1px 1px 1px 1px);clip: rect(1px, 1px, 1px, 1px);height: 1px;margin: -1px;overflow: hidden;padding: 0;position: absolute;width: 1px;}#sk-container-id-9 div.sk-estimator {font-family: monospace;background-color: #f0f8ff;border: 1px dotted black;border-radius: 0.25em;box-sizing: border-box;margin-bottom: 0.5em;}#sk-container-id-9 div.sk-estimator:hover {background-color: #d4ebff;}#sk-container-id-9 div.sk-parallel-item::after {content: \"\";width: 100%;border-bottom: 1px solid gray;flex-grow: 1;}#sk-container-id-9 div.sk-label:hover label.sk-toggleable__label {background-color: #d4ebff;}#sk-container-id-9 div.sk-serial::before {content: \"\";position: absolute;border-left: 1px solid gray;box-sizing: border-box;top: 0;bottom: 0;left: 50%;z-index: 0;}#sk-container-id-9 div.sk-serial {display: flex;flex-direction: column;align-items: center;background-color: white;padding-right: 0.2em;padding-left: 0.2em;position: relative;}#sk-container-id-9 div.sk-item {position: relative;z-index: 1;}#sk-container-id-9 div.sk-parallel {display: flex;align-items: stretch;justify-content: center;background-color: white;position: relative;}#sk-container-id-9 div.sk-item::before, #sk-container-id-9 div.sk-parallel-item::before {content: \"\";position: absolute;border-left: 1px solid gray;box-sizing: border-box;top: 0;bottom: 0;left: 50%;z-index: -1;}#sk-container-id-9 div.sk-parallel-item {display: flex;flex-direction: column;z-index: 1;position: relative;background-color: white;}#sk-container-id-9 div.sk-parallel-item:first-child::after {align-self: flex-end;width: 50%;}#sk-container-id-9 div.sk-parallel-item:last-child::after {align-self: flex-start;width: 50%;}#sk-container-id-9 div.sk-parallel-item:only-child::after {width: 0;}#sk-container-id-9 div.sk-dashed-wrapped {border: 1px dashed gray;margin: 0 0.4em 0.5em 0.4em;box-sizing: border-box;padding-bottom: 0.4em;background-color: white;}#sk-container-id-9 div.sk-label label {font-family: monospace;font-weight: bold;display: inline-block;line-height: 1.2em;}#sk-container-id-9 div.sk-label-container {text-align: center;}#sk-container-id-9 div.sk-container {/* jupyter's `normalize.less` sets `[hidden] { display: none; }` but bootstrap.min.css set `[hidden] { display: none !important; }` so we also need the `!important` here to be able to override the default hidden behavior on the sphinx rendered scikit-learn.org. See: https://github.com/scikit-learn/scikit-learn/issues/21755 */display: inline-block !important;position: relative;}#sk-container-id-9 div.sk-text-repr-fallback {display: none;}</style><div id=\"sk-container-id-9\" class=\"sk-top-container\"><div class=\"sk-text-repr-fallback\"><pre>DecisionTreeClassifier(max_depth=3, min_samples_leaf=2, random_state=42)</pre><b>In a Jupyter environment, please rerun this cell to show the HTML representation or trust the notebook. <br />On GitHub, the HTML representation is unable to render, please try loading this page with nbviewer.org.</b></div><div class=\"sk-container\" hidden><div class=\"sk-item\"><div class=\"sk-estimator sk-toggleable\"><input class=\"sk-toggleable__control sk-hidden--visually\" id=\"sk-estimator-id-9\" type=\"checkbox\" checked><label for=\"sk-estimator-id-9\" class=\"sk-toggleable__label sk-toggleable__label-arrow\">DecisionTreeClassifier</label><div class=\"sk-toggleable__content\"><pre>DecisionTreeClassifier(max_depth=3, min_samples_leaf=2, random_state=42)</pre></div></div></div></div></div>"
      ],
      "text/plain": [
       "DecisionTreeClassifier(max_depth=3, min_samples_leaf=2, random_state=42)"
      ]
     },
     "execution_count": 88,
     "metadata": {},
     "output_type": "execute_result"
    }
   ],
   "source": [
    "# features\n",
    "columns = [\"Community_Type\", \"RISK_SCORE\", \"Population_Density\", \"risk_score_squared\"]\n",
    "X = NRI_county_health_data_southeast[columns]\n",
    "\n",
    "# target\n",
    "y = NRI_county_health_data_southeast[\"Life_Expectancy_mean_indicator\"]\n",
    "\n",
    "# Apply one-hot encoding for Community_Type nominal column\n",
    "X = pd.get_dummies(X, columns=['Community_Type'], prefix='Community_Type', drop_first=True)\n",
    "\n",
    "# train\n",
    "X_train, X_test, y_train, y_test = train_test_split(X, y, test_size=0.2, random_state=42)\n",
    "\n",
    "# create splits\n",
    "kf = KFold(n_splits=5)\n",
    "\n",
    "# split data\n",
    "k_splits = kf.split(X_train)\n",
    "\n",
    "# create binary decision tree model and train it on the training set\n",
    "# Create a decision tree model with limitations to avoid overfitting\n",
    "model = DecisionTreeClassifier(\n",
    "    max_depth=3,           # Limit the depth of the tree\n",
    "    min_samples_split=2,   # Require a minimum number of samples to split a node\n",
    "    min_samples_leaf=2,    # Require a minimum number of samples in a leaf node\n",
    "    max_features=None,     # Use all features for splitting\n",
    "    random_state=42\n",
    ")\n",
    "model.fit(X_train, y_train)"
   ]
  },
  {
   "cell_type": "code",
   "execution_count": 89,
   "id": "4ec06ac8",
   "metadata": {},
   "outputs": [
    {
     "data": {
      "text/plain": [
       "0.20540540540540542"
      ]
     },
     "execution_count": 89,
     "metadata": {},
     "output_type": "execute_result"
    }
   ],
   "source": [
    "y_pred = model.predict(X_test)\n",
    "\n",
    "# Calculate the mean squared error\n",
    "mse = mean_squared_error(y_test, y_pred)\n",
    "mse"
   ]
  },
  {
   "cell_type": "code",
   "execution_count": 90,
   "id": "b5f7525d",
   "metadata": {},
   "outputs": [
    {
     "data": {
      "text/plain": [
       "0.7945945945945946"
      ]
     },
     "execution_count": 90,
     "metadata": {},
     "output_type": "execute_result"
    }
   ],
   "source": [
    "accuracy = accuracy_score(y_test, y_pred)\n",
    "accuracy"
   ]
  },
  {
   "cell_type": "code",
   "execution_count": 91,
   "id": "21b3a743",
   "metadata": {},
   "outputs": [
    {
     "name": "stderr",
     "output_type": "stream",
     "text": [
      "/var/folders/yd/j7sjh_9n0l7b3715t4x1f8yh0000gn/T/ipykernel_29724/2484472971.py:5: SettingWithCopyWarning: \n",
      "A value is trying to be set on a copy of a slice from a DataFrame.\n",
      "Try using .loc[row_indexer,col_indexer] = value instead\n",
      "\n",
      "See the caveats in the documentation: https://pandas.pydata.org/pandas-docs/stable/user_guide/indexing.html#returning-a-view-versus-a-copy\n",
      "  NRI_county_health_data_southeast['SE_Life_Expectancy_Predicted'] = y_pred_all\n"
     ]
    }
   ],
   "source": [
    "# make predictions for the entire dataset\n",
    "y_pred_all = model.predict(X)\n",
    "\n",
    "# add predicted values column\n",
    "NRI_county_health_data_southeast['SE_Life_Expectancy_Predicted'] = y_pred_all"
   ]
  },
  {
   "cell_type": "markdown",
   "id": "ad1a6f1b",
   "metadata": {},
   "source": [
    "#### Physically Unhealthy Days"
   ]
  },
  {
   "cell_type": "code",
   "execution_count": 92,
   "id": "4bbffb6e",
   "metadata": {},
   "outputs": [
    {
     "data": {
      "text/html": [
       "<style>#sk-container-id-10 {color: black;}#sk-container-id-10 pre{padding: 0;}#sk-container-id-10 div.sk-toggleable {background-color: white;}#sk-container-id-10 label.sk-toggleable__label {cursor: pointer;display: block;width: 100%;margin-bottom: 0;padding: 0.3em;box-sizing: border-box;text-align: center;}#sk-container-id-10 label.sk-toggleable__label-arrow:before {content: \"▸\";float: left;margin-right: 0.25em;color: #696969;}#sk-container-id-10 label.sk-toggleable__label-arrow:hover:before {color: black;}#sk-container-id-10 div.sk-estimator:hover label.sk-toggleable__label-arrow:before {color: black;}#sk-container-id-10 div.sk-toggleable__content {max-height: 0;max-width: 0;overflow: hidden;text-align: left;background-color: #f0f8ff;}#sk-container-id-10 div.sk-toggleable__content pre {margin: 0.2em;color: black;border-radius: 0.25em;background-color: #f0f8ff;}#sk-container-id-10 input.sk-toggleable__control:checked~div.sk-toggleable__content {max-height: 200px;max-width: 100%;overflow: auto;}#sk-container-id-10 input.sk-toggleable__control:checked~label.sk-toggleable__label-arrow:before {content: \"▾\";}#sk-container-id-10 div.sk-estimator input.sk-toggleable__control:checked~label.sk-toggleable__label {background-color: #d4ebff;}#sk-container-id-10 div.sk-label input.sk-toggleable__control:checked~label.sk-toggleable__label {background-color: #d4ebff;}#sk-container-id-10 input.sk-hidden--visually {border: 0;clip: rect(1px 1px 1px 1px);clip: rect(1px, 1px, 1px, 1px);height: 1px;margin: -1px;overflow: hidden;padding: 0;position: absolute;width: 1px;}#sk-container-id-10 div.sk-estimator {font-family: monospace;background-color: #f0f8ff;border: 1px dotted black;border-radius: 0.25em;box-sizing: border-box;margin-bottom: 0.5em;}#sk-container-id-10 div.sk-estimator:hover {background-color: #d4ebff;}#sk-container-id-10 div.sk-parallel-item::after {content: \"\";width: 100%;border-bottom: 1px solid gray;flex-grow: 1;}#sk-container-id-10 div.sk-label:hover label.sk-toggleable__label {background-color: #d4ebff;}#sk-container-id-10 div.sk-serial::before {content: \"\";position: absolute;border-left: 1px solid gray;box-sizing: border-box;top: 0;bottom: 0;left: 50%;z-index: 0;}#sk-container-id-10 div.sk-serial {display: flex;flex-direction: column;align-items: center;background-color: white;padding-right: 0.2em;padding-left: 0.2em;position: relative;}#sk-container-id-10 div.sk-item {position: relative;z-index: 1;}#sk-container-id-10 div.sk-parallel {display: flex;align-items: stretch;justify-content: center;background-color: white;position: relative;}#sk-container-id-10 div.sk-item::before, #sk-container-id-10 div.sk-parallel-item::before {content: \"\";position: absolute;border-left: 1px solid gray;box-sizing: border-box;top: 0;bottom: 0;left: 50%;z-index: -1;}#sk-container-id-10 div.sk-parallel-item {display: flex;flex-direction: column;z-index: 1;position: relative;background-color: white;}#sk-container-id-10 div.sk-parallel-item:first-child::after {align-self: flex-end;width: 50%;}#sk-container-id-10 div.sk-parallel-item:last-child::after {align-self: flex-start;width: 50%;}#sk-container-id-10 div.sk-parallel-item:only-child::after {width: 0;}#sk-container-id-10 div.sk-dashed-wrapped {border: 1px dashed gray;margin: 0 0.4em 0.5em 0.4em;box-sizing: border-box;padding-bottom: 0.4em;background-color: white;}#sk-container-id-10 div.sk-label label {font-family: monospace;font-weight: bold;display: inline-block;line-height: 1.2em;}#sk-container-id-10 div.sk-label-container {text-align: center;}#sk-container-id-10 div.sk-container {/* jupyter's `normalize.less` sets `[hidden] { display: none; }` but bootstrap.min.css set `[hidden] { display: none !important; }` so we also need the `!important` here to be able to override the default hidden behavior on the sphinx rendered scikit-learn.org. See: https://github.com/scikit-learn/scikit-learn/issues/21755 */display: inline-block !important;position: relative;}#sk-container-id-10 div.sk-text-repr-fallback {display: none;}</style><div id=\"sk-container-id-10\" class=\"sk-top-container\"><div class=\"sk-text-repr-fallback\"><pre>DecisionTreeClassifier(max_depth=3, min_samples_leaf=2, random_state=42)</pre><b>In a Jupyter environment, please rerun this cell to show the HTML representation or trust the notebook. <br />On GitHub, the HTML representation is unable to render, please try loading this page with nbviewer.org.</b></div><div class=\"sk-container\" hidden><div class=\"sk-item\"><div class=\"sk-estimator sk-toggleable\"><input class=\"sk-toggleable__control sk-hidden--visually\" id=\"sk-estimator-id-10\" type=\"checkbox\" checked><label for=\"sk-estimator-id-10\" class=\"sk-toggleable__label sk-toggleable__label-arrow\">DecisionTreeClassifier</label><div class=\"sk-toggleable__content\"><pre>DecisionTreeClassifier(max_depth=3, min_samples_leaf=2, random_state=42)</pre></div></div></div></div></div>"
      ],
      "text/plain": [
       "DecisionTreeClassifier(max_depth=3, min_samples_leaf=2, random_state=42)"
      ]
     },
     "execution_count": 92,
     "metadata": {},
     "output_type": "execute_result"
    }
   ],
   "source": [
    "# features\n",
    "columns = [\"Community_Type\", \"RISK_SCORE\", \"Population_Density\", \"risk_score_squared\"]\n",
    "X = NRI_county_health_data_southeast[columns]\n",
    "\n",
    "# target\n",
    "y = NRI_county_health_data_southeast[\"Physically_Unhealthy_Days_mean_indicator\"]\n",
    "\n",
    "# Apply one-hot encoding for Community_Type nominal column\n",
    "X = pd.get_dummies(X, columns=['Community_Type'], prefix='Community_Type', drop_first=True)\n",
    "\n",
    "# train\n",
    "X_train, X_test, y_train, y_test = train_test_split(X, y, test_size=0.2, random_state=42)\n",
    "\n",
    "# create splits\n",
    "kf = KFold(n_splits=5)\n",
    "\n",
    "# split data\n",
    "k_splits = kf.split(X_train)\n",
    "\n",
    "# create binary decision tree model and train it on the training set\n",
    "# Create a decision tree model with limitations to avoid overfitting\n",
    "model = DecisionTreeClassifier(\n",
    "    max_depth=3,           # Limit the depth of the tree\n",
    "    min_samples_split=2,   # Require a minimum number of samples to split a node\n",
    "    min_samples_leaf=2,    # Require a minimum number of samples in a leaf node\n",
    "    max_features=None,     # Use all features for splitting\n",
    "    random_state=42\n",
    ")\n",
    "model.fit(X_train, y_train)"
   ]
  },
  {
   "cell_type": "code",
   "execution_count": 93,
   "id": "c8d36218",
   "metadata": {},
   "outputs": [
    {
     "data": {
      "text/plain": [
       "0.2702702702702703"
      ]
     },
     "execution_count": 93,
     "metadata": {},
     "output_type": "execute_result"
    }
   ],
   "source": [
    "y_pred = model.predict(X_test)\n",
    "\n",
    "# Calculate the mean squared error\n",
    "mse = mean_squared_error(y_test, y_pred)\n",
    "mse"
   ]
  },
  {
   "cell_type": "code",
   "execution_count": 94,
   "id": "ddbc81a0",
   "metadata": {},
   "outputs": [
    {
     "data": {
      "text/plain": [
       "0.7297297297297297"
      ]
     },
     "execution_count": 94,
     "metadata": {},
     "output_type": "execute_result"
    }
   ],
   "source": [
    "accuracy = accuracy_score(y_test, y_pred)\n",
    "accuracy"
   ]
  },
  {
   "cell_type": "code",
   "execution_count": 95,
   "id": "3064311d",
   "metadata": {},
   "outputs": [
    {
     "name": "stderr",
     "output_type": "stream",
     "text": [
      "/var/folders/yd/j7sjh_9n0l7b3715t4x1f8yh0000gn/T/ipykernel_29724/2546578367.py:5: SettingWithCopyWarning: \n",
      "A value is trying to be set on a copy of a slice from a DataFrame.\n",
      "Try using .loc[row_indexer,col_indexer] = value instead\n",
      "\n",
      "See the caveats in the documentation: https://pandas.pydata.org/pandas-docs/stable/user_guide/indexing.html#returning-a-view-versus-a-copy\n",
      "  NRI_county_health_data_southeast['SE_Physically_Unhealthy_Predicted'] = y_pred_all\n"
     ]
    }
   ],
   "source": [
    "# make predictions for the entire dataset\n",
    "y_pred_all = model.predict(X)\n",
    "\n",
    "# add predicted values column\n",
    "NRI_county_health_data_southeast['SE_Physically_Unhealthy_Predicted'] = y_pred_all"
   ]
  },
  {
   "cell_type": "markdown",
   "id": "a26f4cb5",
   "metadata": {},
   "source": [
    "#### Mentally Unhealthy Days"
   ]
  },
  {
   "cell_type": "code",
   "execution_count": 96,
   "id": "e060e281",
   "metadata": {},
   "outputs": [
    {
     "data": {
      "text/html": [
       "<style>#sk-container-id-11 {color: black;}#sk-container-id-11 pre{padding: 0;}#sk-container-id-11 div.sk-toggleable {background-color: white;}#sk-container-id-11 label.sk-toggleable__label {cursor: pointer;display: block;width: 100%;margin-bottom: 0;padding: 0.3em;box-sizing: border-box;text-align: center;}#sk-container-id-11 label.sk-toggleable__label-arrow:before {content: \"▸\";float: left;margin-right: 0.25em;color: #696969;}#sk-container-id-11 label.sk-toggleable__label-arrow:hover:before {color: black;}#sk-container-id-11 div.sk-estimator:hover label.sk-toggleable__label-arrow:before {color: black;}#sk-container-id-11 div.sk-toggleable__content {max-height: 0;max-width: 0;overflow: hidden;text-align: left;background-color: #f0f8ff;}#sk-container-id-11 div.sk-toggleable__content pre {margin: 0.2em;color: black;border-radius: 0.25em;background-color: #f0f8ff;}#sk-container-id-11 input.sk-toggleable__control:checked~div.sk-toggleable__content {max-height: 200px;max-width: 100%;overflow: auto;}#sk-container-id-11 input.sk-toggleable__control:checked~label.sk-toggleable__label-arrow:before {content: \"▾\";}#sk-container-id-11 div.sk-estimator input.sk-toggleable__control:checked~label.sk-toggleable__label {background-color: #d4ebff;}#sk-container-id-11 div.sk-label input.sk-toggleable__control:checked~label.sk-toggleable__label {background-color: #d4ebff;}#sk-container-id-11 input.sk-hidden--visually {border: 0;clip: rect(1px 1px 1px 1px);clip: rect(1px, 1px, 1px, 1px);height: 1px;margin: -1px;overflow: hidden;padding: 0;position: absolute;width: 1px;}#sk-container-id-11 div.sk-estimator {font-family: monospace;background-color: #f0f8ff;border: 1px dotted black;border-radius: 0.25em;box-sizing: border-box;margin-bottom: 0.5em;}#sk-container-id-11 div.sk-estimator:hover {background-color: #d4ebff;}#sk-container-id-11 div.sk-parallel-item::after {content: \"\";width: 100%;border-bottom: 1px solid gray;flex-grow: 1;}#sk-container-id-11 div.sk-label:hover label.sk-toggleable__label {background-color: #d4ebff;}#sk-container-id-11 div.sk-serial::before {content: \"\";position: absolute;border-left: 1px solid gray;box-sizing: border-box;top: 0;bottom: 0;left: 50%;z-index: 0;}#sk-container-id-11 div.sk-serial {display: flex;flex-direction: column;align-items: center;background-color: white;padding-right: 0.2em;padding-left: 0.2em;position: relative;}#sk-container-id-11 div.sk-item {position: relative;z-index: 1;}#sk-container-id-11 div.sk-parallel {display: flex;align-items: stretch;justify-content: center;background-color: white;position: relative;}#sk-container-id-11 div.sk-item::before, #sk-container-id-11 div.sk-parallel-item::before {content: \"\";position: absolute;border-left: 1px solid gray;box-sizing: border-box;top: 0;bottom: 0;left: 50%;z-index: -1;}#sk-container-id-11 div.sk-parallel-item {display: flex;flex-direction: column;z-index: 1;position: relative;background-color: white;}#sk-container-id-11 div.sk-parallel-item:first-child::after {align-self: flex-end;width: 50%;}#sk-container-id-11 div.sk-parallel-item:last-child::after {align-self: flex-start;width: 50%;}#sk-container-id-11 div.sk-parallel-item:only-child::after {width: 0;}#sk-container-id-11 div.sk-dashed-wrapped {border: 1px dashed gray;margin: 0 0.4em 0.5em 0.4em;box-sizing: border-box;padding-bottom: 0.4em;background-color: white;}#sk-container-id-11 div.sk-label label {font-family: monospace;font-weight: bold;display: inline-block;line-height: 1.2em;}#sk-container-id-11 div.sk-label-container {text-align: center;}#sk-container-id-11 div.sk-container {/* jupyter's `normalize.less` sets `[hidden] { display: none; }` but bootstrap.min.css set `[hidden] { display: none !important; }` so we also need the `!important` here to be able to override the default hidden behavior on the sphinx rendered scikit-learn.org. See: https://github.com/scikit-learn/scikit-learn/issues/21755 */display: inline-block !important;position: relative;}#sk-container-id-11 div.sk-text-repr-fallback {display: none;}</style><div id=\"sk-container-id-11\" class=\"sk-top-container\"><div class=\"sk-text-repr-fallback\"><pre>DecisionTreeClassifier(max_depth=3, min_samples_leaf=2, random_state=42)</pre><b>In a Jupyter environment, please rerun this cell to show the HTML representation or trust the notebook. <br />On GitHub, the HTML representation is unable to render, please try loading this page with nbviewer.org.</b></div><div class=\"sk-container\" hidden><div class=\"sk-item\"><div class=\"sk-estimator sk-toggleable\"><input class=\"sk-toggleable__control sk-hidden--visually\" id=\"sk-estimator-id-11\" type=\"checkbox\" checked><label for=\"sk-estimator-id-11\" class=\"sk-toggleable__label sk-toggleable__label-arrow\">DecisionTreeClassifier</label><div class=\"sk-toggleable__content\"><pre>DecisionTreeClassifier(max_depth=3, min_samples_leaf=2, random_state=42)</pre></div></div></div></div></div>"
      ],
      "text/plain": [
       "DecisionTreeClassifier(max_depth=3, min_samples_leaf=2, random_state=42)"
      ]
     },
     "execution_count": 96,
     "metadata": {},
     "output_type": "execute_result"
    }
   ],
   "source": [
    "# features\n",
    "columns = [\"Community_Type\", \"RISK_SCORE\", \"Population_Density\", \"risk_score_squared\"]\n",
    "X = NRI_county_health_data_southeast[columns]\n",
    "\n",
    "# target\n",
    "y = NRI_county_health_data_southeast[\"Mentally_Unhealthy_Days_mean_indicator\"]\n",
    "\n",
    "# Apply one-hot encoding for Community_Type nominal column\n",
    "X = pd.get_dummies(X, columns=['Community_Type'], prefix='Community_Type', drop_first=True)\n",
    "\n",
    "# train\n",
    "X_train, X_test, y_train, y_test = train_test_split(X, y, test_size=0.2, random_state=42)\n",
    "\n",
    "# create splits\n",
    "kf = KFold(n_splits=5)\n",
    "\n",
    "# split data\n",
    "k_splits = kf.split(X_train)\n",
    "\n",
    "# create binary decision tree model and train it on the training set\n",
    "# Create a decision tree model with limitations to avoid overfitting\n",
    "model = DecisionTreeClassifier(\n",
    "    max_depth=3,           # Limit the depth of the tree\n",
    "    min_samples_split=2,   # Require a minimum number of samples to split a node\n",
    "    min_samples_leaf=2,    # Require a minimum number of samples in a leaf node\n",
    "    max_features=None,     # Use all features for splitting\n",
    "    random_state=42\n",
    ")\n",
    "model.fit(X_train, y_train)"
   ]
  },
  {
   "cell_type": "code",
   "execution_count": 97,
   "id": "e491113f",
   "metadata": {},
   "outputs": [
    {
     "data": {
      "text/plain": [
       "0.32972972972972975"
      ]
     },
     "execution_count": 97,
     "metadata": {},
     "output_type": "execute_result"
    }
   ],
   "source": [
    "y_pred = model.predict(X_test)\n",
    "\n",
    "# Calculate the mean squared error\n",
    "mse = mean_squared_error(y_test, y_pred)\n",
    "mse"
   ]
  },
  {
   "cell_type": "code",
   "execution_count": 98,
   "id": "6b423c5a",
   "metadata": {},
   "outputs": [
    {
     "data": {
      "text/plain": [
       "0.6702702702702703"
      ]
     },
     "execution_count": 98,
     "metadata": {},
     "output_type": "execute_result"
    }
   ],
   "source": [
    "accuracy = accuracy_score(y_test, y_pred)\n",
    "accuracy"
   ]
  },
  {
   "cell_type": "code",
   "execution_count": 99,
   "id": "6ef4b2e3",
   "metadata": {},
   "outputs": [
    {
     "name": "stderr",
     "output_type": "stream",
     "text": [
      "/var/folders/yd/j7sjh_9n0l7b3715t4x1f8yh0000gn/T/ipykernel_29724/2177961310.py:5: SettingWithCopyWarning: \n",
      "A value is trying to be set on a copy of a slice from a DataFrame.\n",
      "Try using .loc[row_indexer,col_indexer] = value instead\n",
      "\n",
      "See the caveats in the documentation: https://pandas.pydata.org/pandas-docs/stable/user_guide/indexing.html#returning-a-view-versus-a-copy\n",
      "  NRI_county_health_data_southeast['SE_Mentally_Unhealthy_Predicted'] = y_pred_all\n"
     ]
    }
   ],
   "source": [
    "# make predictions for the entire dataset\n",
    "y_pred_all = model.predict(X)\n",
    "\n",
    "# add predicted values column\n",
    "NRI_county_health_data_southeast['SE_Mentally_Unhealthy_Predicted'] = y_pred_all"
   ]
  },
  {
   "cell_type": "code",
   "execution_count": 100,
   "id": "4dc70d26",
   "metadata": {},
   "outputs": [
    {
     "name": "stdout",
     "output_type": "stream",
     "text": [
      "                      Feature  Importance\n",
      "0                  RISK_SCORE    0.431935\n",
      "1          Population_Density    0.215860\n",
      "2          risk_score_squared    0.325873\n",
      "3  Community_Type_Small Urban    0.000000\n",
      "4        Community_Type_Urban    0.026332\n"
     ]
    }
   ],
   "source": [
    "importance_values = model.feature_importances_\n",
    "\n",
    "feature_importance_df = pd.DataFrame({'Feature': X.columns, 'Importance': importance_values})\n",
    "\n",
    "# variable feature importance in model\n",
    "print(feature_importance_df)"
   ]
  },
  {
   "cell_type": "code",
   "execution_count": 101,
   "id": "987f767e",
   "metadata": {},
   "outputs": [
    {
     "data": {
      "text/html": [
       "<div>\n",
       "<style scoped>\n",
       "    .dataframe tbody tr th:only-of-type {\n",
       "        vertical-align: middle;\n",
       "    }\n",
       "\n",
       "    .dataframe tbody tr th {\n",
       "        vertical-align: top;\n",
       "    }\n",
       "\n",
       "    .dataframe thead th {\n",
       "        text-align: right;\n",
       "    }\n",
       "</style>\n",
       "<table border=\"1\" class=\"dataframe\">\n",
       "  <thead>\n",
       "    <tr style=\"text-align: right;\">\n",
       "      <th></th>\n",
       "      <th>FIPS</th>\n",
       "      <th>STATEABBRV</th>\n",
       "      <th>State</th>\n",
       "      <th>County</th>\n",
       "      <th>County_State</th>\n",
       "      <th>Community_Type</th>\n",
       "      <th>POPULATION</th>\n",
       "      <th>AREA</th>\n",
       "      <th>Population_Density</th>\n",
       "      <th>Percent_Rural</th>\n",
       "      <th>...</th>\n",
       "      <th>Mentally_Unhealthy_Days_mean_indicator</th>\n",
       "      <th>risk_score_squared</th>\n",
       "      <th>Natl_AADR_Predicted</th>\n",
       "      <th>Natl_Life_Expectancy_Predicted</th>\n",
       "      <th>Natl_Physically_Unhealthy_Predicted</th>\n",
       "      <th>Natl_Mentally_Unhealthy_Predicted</th>\n",
       "      <th>SE_AADR_Predicted</th>\n",
       "      <th>SE_Life_Expectancy_Predicted</th>\n",
       "      <th>SE_Physically_Unhealthy_Predicted</th>\n",
       "      <th>SE_Mentally_Unhealthy_Predicted</th>\n",
       "    </tr>\n",
       "  </thead>\n",
       "  <tbody>\n",
       "    <tr>\n",
       "      <th>0</th>\n",
       "      <td>1001.0</td>\n",
       "      <td>AL</td>\n",
       "      <td>Alabama</td>\n",
       "      <td>Autauga</td>\n",
       "      <td>Autauga, AL</td>\n",
       "      <td>Small Urban</td>\n",
       "      <td>58764.0</td>\n",
       "      <td>610.470508</td>\n",
       "      <td>96.260178</td>\n",
       "      <td>42.002162</td>\n",
       "      <td>...</td>\n",
       "      <td>0</td>\n",
       "      <td>2422.656634</td>\n",
       "      <td>0</td>\n",
       "      <td>1</td>\n",
       "      <td>0</td>\n",
       "      <td>1</td>\n",
       "      <td>1</td>\n",
       "      <td>0</td>\n",
       "      <td>0</td>\n",
       "      <td>1</td>\n",
       "    </tr>\n",
       "    <tr>\n",
       "      <th>1</th>\n",
       "      <td>1003.0</td>\n",
       "      <td>AL</td>\n",
       "      <td>Alabama</td>\n",
       "      <td>Baldwin</td>\n",
       "      <td>Baldwin, AL</td>\n",
       "      <td>Small Urban</td>\n",
       "      <td>231365.0</td>\n",
       "      <td>2047.738775</td>\n",
       "      <td>112.985603</td>\n",
       "      <td>42.279099</td>\n",
       "      <td>...</td>\n",
       "      <td>0</td>\n",
       "      <td>9547.086795</td>\n",
       "      <td>0</td>\n",
       "      <td>1</td>\n",
       "      <td>0</td>\n",
       "      <td>1</td>\n",
       "      <td>1</td>\n",
       "      <td>0</td>\n",
       "      <td>1</td>\n",
       "      <td>1</td>\n",
       "    </tr>\n",
       "    <tr>\n",
       "      <th>2</th>\n",
       "      <td>1005.0</td>\n",
       "      <td>AL</td>\n",
       "      <td>Alabama</td>\n",
       "      <td>Barbour</td>\n",
       "      <td>Barbour, AL</td>\n",
       "      <td>Rural</td>\n",
       "      <td>25160.0</td>\n",
       "      <td>913.646511</td>\n",
       "      <td>27.538003</td>\n",
       "      <td>67.789635</td>\n",
       "      <td>...</td>\n",
       "      <td>1</td>\n",
       "      <td>3157.131246</td>\n",
       "      <td>1</td>\n",
       "      <td>0</td>\n",
       "      <td>1</td>\n",
       "      <td>1</td>\n",
       "      <td>1</td>\n",
       "      <td>0</td>\n",
       "      <td>1</td>\n",
       "      <td>1</td>\n",
       "    </tr>\n",
       "    <tr>\n",
       "      <th>3</th>\n",
       "      <td>1007.0</td>\n",
       "      <td>AL</td>\n",
       "      <td>Alabama</td>\n",
       "      <td>Bibb</td>\n",
       "      <td>Bibb, AL</td>\n",
       "      <td>Rural</td>\n",
       "      <td>22239.0</td>\n",
       "      <td>632.486798</td>\n",
       "      <td>35.161208</td>\n",
       "      <td>68.352607</td>\n",
       "      <td>...</td>\n",
       "      <td>1</td>\n",
       "      <td>1055.267887</td>\n",
       "      <td>1</td>\n",
       "      <td>0</td>\n",
       "      <td>1</td>\n",
       "      <td>1</td>\n",
       "      <td>1</td>\n",
       "      <td>0</td>\n",
       "      <td>1</td>\n",
       "      <td>1</td>\n",
       "    </tr>\n",
       "    <tr>\n",
       "      <th>4</th>\n",
       "      <td>1009.0</td>\n",
       "      <td>AL</td>\n",
       "      <td>Alabama</td>\n",
       "      <td>Blount</td>\n",
       "      <td>Blount, AL</td>\n",
       "      <td>Small Urban</td>\n",
       "      <td>58992.0</td>\n",
       "      <td>657.196555</td>\n",
       "      <td>89.763100</td>\n",
       "      <td>89.951502</td>\n",
       "      <td>...</td>\n",
       "      <td>1</td>\n",
       "      <td>4241.768116</td>\n",
       "      <td>0</td>\n",
       "      <td>1</td>\n",
       "      <td>0</td>\n",
       "      <td>1</td>\n",
       "      <td>1</td>\n",
       "      <td>0</td>\n",
       "      <td>1</td>\n",
       "      <td>1</td>\n",
       "    </tr>\n",
       "  </tbody>\n",
       "</table>\n",
       "<p>5 rows × 54 columns</p>\n",
       "</div>"
      ],
      "text/plain": [
       "     FIPS STATEABBRV    State   County County_State Community_Type  \\\n",
       "0  1001.0         AL  Alabama  Autauga  Autauga, AL    Small Urban   \n",
       "1  1003.0         AL  Alabama  Baldwin  Baldwin, AL    Small Urban   \n",
       "2  1005.0         AL  Alabama  Barbour  Barbour, AL          Rural   \n",
       "3  1007.0         AL  Alabama     Bibb     Bibb, AL          Rural   \n",
       "4  1009.0         AL  Alabama   Blount   Blount, AL    Small Urban   \n",
       "\n",
       "   POPULATION         AREA  Population_Density  Percent_Rural  ...  \\\n",
       "0     58764.0   610.470508           96.260178      42.002162  ...   \n",
       "1    231365.0  2047.738775          112.985603      42.279099  ...   \n",
       "2     25160.0   913.646511           27.538003      67.789635  ...   \n",
       "3     22239.0   632.486798           35.161208      68.352607  ...   \n",
       "4     58992.0   657.196555           89.763100      89.951502  ...   \n",
       "\n",
       "   Mentally_Unhealthy_Days_mean_indicator risk_score_squared  \\\n",
       "0                                       0        2422.656634   \n",
       "1                                       0        9547.086795   \n",
       "2                                       1        3157.131246   \n",
       "3                                       1        1055.267887   \n",
       "4                                       1        4241.768116   \n",
       "\n",
       "   Natl_AADR_Predicted Natl_Life_Expectancy_Predicted  \\\n",
       "0                    0                              1   \n",
       "1                    0                              1   \n",
       "2                    1                              0   \n",
       "3                    1                              0   \n",
       "4                    0                              1   \n",
       "\n",
       "   Natl_Physically_Unhealthy_Predicted Natl_Mentally_Unhealthy_Predicted  \\\n",
       "0                                    0                                 1   \n",
       "1                                    0                                 1   \n",
       "2                                    1                                 1   \n",
       "3                                    1                                 1   \n",
       "4                                    0                                 1   \n",
       "\n",
       "   SE_AADR_Predicted SE_Life_Expectancy_Predicted  \\\n",
       "0                  1                            0   \n",
       "1                  1                            0   \n",
       "2                  1                            0   \n",
       "3                  1                            0   \n",
       "4                  1                            0   \n",
       "\n",
       "   SE_Physically_Unhealthy_Predicted  SE_Mentally_Unhealthy_Predicted  \n",
       "0                                  0                                1  \n",
       "1                                  1                                1  \n",
       "2                                  1                                1  \n",
       "3                                  1                                1  \n",
       "4                                  1                                1  \n",
       "\n",
       "[5 rows x 54 columns]"
      ]
     },
     "execution_count": 101,
     "metadata": {},
     "output_type": "execute_result"
    }
   ],
   "source": [
    "NRI_county_health_data_southeast.head()"
   ]
  },
  {
   "cell_type": "code",
   "execution_count": 102,
   "id": "29d76281",
   "metadata": {},
   "outputs": [],
   "source": [
    "# save updated dataset\n",
    "#NRI_county_health_data_southeast.to_csv(\"NRI_county_health_data_predictions_southeast.csv\", sep=',', index=False, encoding='utf-8')\n",
    "\n",
    "\n"
   ]
  },
  {
   "cell_type": "code",
   "execution_count": 106,
   "id": "e654a213",
   "metadata": {},
   "outputs": [
    {
     "name": "stderr",
     "output_type": "stream",
     "text": [
      "/var/folders/yd/j7sjh_9n0l7b3715t4x1f8yh0000gn/T/ipykernel_29724/267206325.py:4: SettingWithCopyWarning: \n",
      "A value is trying to be set on a copy of a slice from a DataFrame.\n",
      "Try using .loc[row_indexer,col_indexer] = value instead\n",
      "\n",
      "See the caveats in the documentation: https://pandas.pydata.org/pandas-docs/stable/user_guide/indexing.html#returning-a-view-versus-a-copy\n",
      "  NRI_county_health_data_southeast['AADR_Match'] = NRI_county_health_data_southeast['Age_Adjusted_Death_Rate_mean_indicator'] == NRI_county_health_data_southeast['SE_AADR_Predicted']\n"
     ]
    },
    {
     "data": {
      "text/plain": [
       "77.92207792207793"
      ]
     },
     "execution_count": 106,
     "metadata": {},
     "output_type": "execute_result"
    }
   ],
   "source": [
    "# Life Expectancy Accuracy\n",
    "\n",
    "# Check if values in 'Column1' are equal to values in 'Column2' for each row\n",
    "NRI_county_health_data_southeast['AADR_Match'] = NRI_county_health_data_southeast['Age_Adjusted_Death_Rate_mean_indicator'] == NRI_county_health_data_southeast['SE_AADR_Predicted']\n",
    "\n",
    "# Calculate the percentage of matching rows\n",
    "percentage_matching = (NRI_county_health_data_southeast['AADR_Match'].sum() / len(NRI_county_health_data_southeast)) * 100\n",
    "percentage_matching\n"
   ]
  },
  {
   "cell_type": "code",
   "execution_count": null,
   "id": "5cc950cd",
   "metadata": {},
   "outputs": [],
   "source": []
  },
  {
   "cell_type": "code",
   "execution_count": null,
   "id": "c5d6d37f",
   "metadata": {},
   "outputs": [],
   "source": []
  }
 ],
 "metadata": {
  "kernelspec": {
   "display_name": "Python 3 (ipykernel)",
   "language": "python",
   "name": "python3"
  },
  "language_info": {
   "codemirror_mode": {
    "name": "ipython",
    "version": 3
   },
   "file_extension": ".py",
   "mimetype": "text/x-python",
   "name": "python",
   "nbconvert_exporter": "python",
   "pygments_lexer": "ipython3",
   "version": "3.10.11"
  }
 },
 "nbformat": 4,
 "nbformat_minor": 5
}
