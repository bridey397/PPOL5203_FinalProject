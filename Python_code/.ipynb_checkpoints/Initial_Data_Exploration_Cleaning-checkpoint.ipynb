{
 "cells": [
  {
   "cell_type": "markdown",
   "id": "ec84f568",
   "metadata": {},
   "source": [
    "Notebook for us to start working in. "
   ]
  },
  {
   "cell_type": "markdown",
   "id": "a9e3b885",
   "metadata": {},
   "source": [
    "## PPOL 5203 Final Project"
   ]
  },
  {
   "cell_type": "code",
   "execution_count": 8,
   "id": "65ac34df",
   "metadata": {
    "scrolled": true
   },
   "outputs": [
    {
     "name": "stdout",
     "output_type": "stream",
     "text": [
      "Collecting openpyxl\n",
      "  Downloading openpyxl-3.1.2-py2.py3-none-any.whl (249 kB)\n",
      "     ---------------------------------------- 0.0/250.0 kB ? eta -:--:--\n",
      "     - -------------------------------------- 10.2/250.0 kB ? eta -:--:--\n",
      "     - -------------------------------------- 10.2/250.0 kB ? eta -:--:--\n",
      "     ---- -------------------------------- 30.7/250.0 kB 325.1 kB/s eta 0:00:01\n",
      "     ------------- ----------------------- 92.2/250.0 kB 744.7 kB/s eta 0:00:01\n",
      "     -------------------------------------- 250.0/250.0 kB 1.5 MB/s eta 0:00:00\n",
      "Collecting et-xmlfile (from openpyxl)\n",
      "  Downloading et_xmlfile-1.1.0-py3-none-any.whl (4.7 kB)\n",
      "Installing collected packages: et-xmlfile, openpyxl\n",
      "Successfully installed et-xmlfile-1.1.0 openpyxl-3.1.2\n"
     ]
    }
   ],
   "source": [
    "#!pip install openpyxl"
   ]
  },
  {
   "cell_type": "code",
   "execution_count": 9,
   "id": "7d4dd683",
   "metadata": {},
   "outputs": [],
   "source": [
    "import pandas as pd\n",
    "import os\n",
    "import openpyxl"
   ]
  },
  {
   "cell_type": "code",
   "execution_count": 10,
   "id": "3d88001f",
   "metadata": {},
   "outputs": [
    {
     "data": {
      "text/plain": [
       "'C:\\\\Users\\\\bsullivan\\\\OneDrive - FI Consulting\\\\Documents\\\\GU\\\\Data Science 1\\\\PPOL5203_FinalProject\\\\Datasets\\\\Orig_Data'"
      ]
     },
     "execution_count": 10,
     "metadata": {},
     "output_type": "execute_result"
    }
   ],
   "source": [
    "pwd"
   ]
  },
  {
   "cell_type": "code",
   "execution_count": 3,
   "id": "33841423",
   "metadata": {},
   "outputs": [],
   "source": [
    "os.chdir(\"../\")\n",
    "os.chdir('Datasets/Orig_Data')"
   ]
  },
  {
   "cell_type": "code",
   "execution_count": 54,
   "id": "5304f020",
   "metadata": {},
   "outputs": [],
   "source": [
    "# import County Health Data\n",
    "County_Health_xl = pd.read_excel(\"2023_County_Health_Rankings_Data.xlsx\", sheet_name = ['Additional Measure Data'],skiprows = 1, usecols = ['FIPS', 'State', 'County', 'Life Expectancy', 'Age-Adjusted Death Rate', '% Frequent Physical Distress', '% Frequent Mental Distress', 'Population','% Less than 18 Years of Age','% 65 and Over','% American Indian or Alaska Native','% Asian','% Native Hawaiian or Other Pacific Islander','% Hispanic','% Non-Hispanic White','% Not Proficient in English','% Female','% Rural'])\n",
    "\n",
    "#'% Non-Hispanic Black' couldn't find this one to add as a column"
   ]
  },
  {
   "cell_type": "code",
   "execution_count": null,
   "id": "294f8eab",
   "metadata": {},
   "outputs": [],
   "source": [
    "# subset the dictionary provided by the sheet needed and save as a new dataframe\n",
    "County_Health_Addl_Measures = County_Health_xl['Additional Measure Data']"
   ]
  },
  {
   "cell_type": "code",
   "execution_count": 60,
   "id": "500cf23c",
   "metadata": {},
   "outputs": [],
   "source": [
    "County_Health_xl_ranked_data = pd.read_excel(\"2023_County_Health_Rankings_Data.xlsx\", sheet_name = ['Ranked Measure Data'],skiprows = 1, usecols =['FIPS','% Fair or Poor Health', 'Average Number of Physically Unhealthy Days', 'Average Number of Mentally Unhealthy Days', '# Primary Care Physicians','Primary Care Physicians Rate','Primary Care Physicians Ratio', '# Dentists', 'Dentist Rate','Dentist Ratio', 'Average Daily PM2.5', 'Presence of Water Violation', '# Mental Health Providers','Mental Health Provider Rate','Mental Health Provider Ratio'])"
   ]
  },
  {
   "cell_type": "code",
   "execution_count": 61,
   "id": "9a1c8268",
   "metadata": {},
   "outputs": [],
   "source": [
    "# subset the dictionary provided by the sheet needed and save as a new dataframe\n",
    "County_Health_Ranked_Measures = County_Health_xl_ranked_data['Ranked Measure Data']"
   ]
  },
  {
   "cell_type": "code",
   "execution_count": 62,
   "id": "f5222293",
   "metadata": {},
   "outputs": [
    {
     "data": {
      "text/html": [
       "<div>\n",
       "<style scoped>\n",
       "    .dataframe tbody tr th:only-of-type {\n",
       "        vertical-align: middle;\n",
       "    }\n",
       "\n",
       "    .dataframe tbody tr th {\n",
       "        vertical-align: top;\n",
       "    }\n",
       "\n",
       "    .dataframe thead th {\n",
       "        text-align: right;\n",
       "    }\n",
       "</style>\n",
       "<table border=\"1\" class=\"dataframe\">\n",
       "  <thead>\n",
       "    <tr style=\"text-align: right;\">\n",
       "      <th></th>\n",
       "      <th>FIPS</th>\n",
       "      <th>% Fair or Poor Health</th>\n",
       "      <th>Average Number of Physically Unhealthy Days</th>\n",
       "      <th>Average Number of Mentally Unhealthy Days</th>\n",
       "      <th># Primary Care Physicians</th>\n",
       "      <th>Primary Care Physicians Rate</th>\n",
       "      <th>Primary Care Physicians Ratio</th>\n",
       "      <th># Dentists</th>\n",
       "      <th>Dentist Rate</th>\n",
       "      <th>Dentist Ratio</th>\n",
       "      <th># Mental Health Providers</th>\n",
       "      <th>Mental Health Provider Rate</th>\n",
       "      <th>Mental Health Provider Ratio</th>\n",
       "      <th>Average Daily PM2.5</th>\n",
       "      <th>Presence of Water Violation</th>\n",
       "    </tr>\n",
       "  </thead>\n",
       "  <tbody>\n",
       "    <tr>\n",
       "      <th>0</th>\n",
       "      <td>1000</td>\n",
       "      <td>18.9</td>\n",
       "      <td>3.482416</td>\n",
       "      <td>5.073277</td>\n",
       "      <td>3238.0</td>\n",
       "      <td>65.79252</td>\n",
       "      <td>1520:1</td>\n",
       "      <td>2454.0</td>\n",
       "      <td>48.69166</td>\n",
       "      <td>2054:1</td>\n",
       "      <td>6321.0</td>\n",
       "      <td>125.41973</td>\n",
       "      <td>797:1</td>\n",
       "      <td>9.3</td>\n",
       "      <td>NaN</td>\n",
       "    </tr>\n",
       "    <tr>\n",
       "      <th>1</th>\n",
       "      <td>1001</td>\n",
       "      <td>16.9</td>\n",
       "      <td>3.432211</td>\n",
       "      <td>4.797351</td>\n",
       "      <td>25.0</td>\n",
       "      <td>44.52756</td>\n",
       "      <td>2246:1</td>\n",
       "      <td>19.0</td>\n",
       "      <td>32.15162</td>\n",
       "      <td>3110:1</td>\n",
       "      <td>21.0</td>\n",
       "      <td>35.53600</td>\n",
       "      <td>2814:1</td>\n",
       "      <td>10.0</td>\n",
       "      <td>No</td>\n",
       "    </tr>\n",
       "    <tr>\n",
       "      <th>2</th>\n",
       "      <td>1003</td>\n",
       "      <td>14.9</td>\n",
       "      <td>3.276177</td>\n",
       "      <td>4.753750</td>\n",
       "      <td>150.0</td>\n",
       "      <td>65.42019</td>\n",
       "      <td>1529:1</td>\n",
       "      <td>114.0</td>\n",
       "      <td>47.64014</td>\n",
       "      <td>2099:1</td>\n",
       "      <td>250.0</td>\n",
       "      <td>104.47399</td>\n",
       "      <td>957:1</td>\n",
       "      <td>7.6</td>\n",
       "      <td>Yes</td>\n",
       "    </tr>\n",
       "    <tr>\n",
       "      <th>3</th>\n",
       "      <td>1005</td>\n",
       "      <td>27.5</td>\n",
       "      <td>4.605432</td>\n",
       "      <td>4.954855</td>\n",
       "      <td>8.0</td>\n",
       "      <td>32.53487</td>\n",
       "      <td>3074:1</td>\n",
       "      <td>8.0</td>\n",
       "      <td>32.04615</td>\n",
       "      <td>3121:1</td>\n",
       "      <td>6.0</td>\n",
       "      <td>24.03461</td>\n",
       "      <td>4161:1</td>\n",
       "      <td>9.4</td>\n",
       "      <td>Yes</td>\n",
       "    </tr>\n",
       "    <tr>\n",
       "      <th>4</th>\n",
       "      <td>1007</td>\n",
       "      <td>21.6</td>\n",
       "      <td>4.012182</td>\n",
       "      <td>5.364779</td>\n",
       "      <td>14.0</td>\n",
       "      <td>63.24539</td>\n",
       "      <td>1581:1</td>\n",
       "      <td>6.0</td>\n",
       "      <td>26.69395</td>\n",
       "      <td>3746:1</td>\n",
       "      <td>9.0</td>\n",
       "      <td>40.04093</td>\n",
       "      <td>2497:1</td>\n",
       "      <td>9.8</td>\n",
       "      <td>No</td>\n",
       "    </tr>\n",
       "  </tbody>\n",
       "</table>\n",
       "</div>"
      ],
      "text/plain": [
       "   FIPS  % Fair or Poor Health  Average Number of Physically Unhealthy Days  \\\n",
       "0  1000                   18.9                                     3.482416   \n",
       "1  1001                   16.9                                     3.432211   \n",
       "2  1003                   14.9                                     3.276177   \n",
       "3  1005                   27.5                                     4.605432   \n",
       "4  1007                   21.6                                     4.012182   \n",
       "\n",
       "   Average Number of Mentally Unhealthy Days  # Primary Care Physicians  \\\n",
       "0                                   5.073277                     3238.0   \n",
       "1                                   4.797351                       25.0   \n",
       "2                                   4.753750                      150.0   \n",
       "3                                   4.954855                        8.0   \n",
       "4                                   5.364779                       14.0   \n",
       "\n",
       "   Primary Care Physicians Rate Primary Care Physicians Ratio  # Dentists  \\\n",
       "0                      65.79252                        1520:1      2454.0   \n",
       "1                      44.52756                        2246:1        19.0   \n",
       "2                      65.42019                        1529:1       114.0   \n",
       "3                      32.53487                        3074:1         8.0   \n",
       "4                      63.24539                        1581:1         6.0   \n",
       "\n",
       "   Dentist Rate Dentist Ratio  # Mental Health Providers  \\\n",
       "0      48.69166        2054:1                     6321.0   \n",
       "1      32.15162        3110:1                       21.0   \n",
       "2      47.64014        2099:1                      250.0   \n",
       "3      32.04615        3121:1                        6.0   \n",
       "4      26.69395        3746:1                        9.0   \n",
       "\n",
       "   Mental Health Provider Rate Mental Health Provider Ratio  \\\n",
       "0                    125.41973                        797:1   \n",
       "1                     35.53600                       2814:1   \n",
       "2                    104.47399                        957:1   \n",
       "3                     24.03461                       4161:1   \n",
       "4                     40.04093                       2497:1   \n",
       "\n",
       "   Average Daily PM2.5 Presence of Water Violation  \n",
       "0                  9.3                         NaN  \n",
       "1                 10.0                          No  \n",
       "2                  7.6                         Yes  \n",
       "3                  9.4                         Yes  \n",
       "4                  9.8                          No  "
      ]
     },
     "execution_count": 62,
     "metadata": {},
     "output_type": "execute_result"
    }
   ],
   "source": [
    "County_Health_Ranked_Measures.head()"
   ]
  },
  {
   "cell_type": "code",
   "execution_count": null,
   "id": "25b99ba8",
   "metadata": {},
   "outputs": [],
   "source": [
    "os.chdir('NRI_Table_Counties')"
   ]
  },
  {
   "cell_type": "code",
   "execution_count": 29,
   "id": "6506e96a",
   "metadata": {},
   "outputs": [],
   "source": [
    "#import NRI data \n",
    "NRI_df = pd.read_csv(\"NRI_Table_Counties.csv\", usecols = ['STATE', 'STATEABBRV', 'COUNTY','STCOFIPS', 'POPULATION','AREA','RISK_SCORE','RISK_RATNG','EAL_SCORE','EAL_RATNG','SOVI_SCORE','SOVI_RATNG','RESL_SCORE','RESL_RATNG'])"
   ]
  },
  {
   "cell_type": "code",
   "execution_count": null,
   "id": "0480aaf3",
   "metadata": {},
   "outputs": [],
   "source": [
    "NRI_df.head()"
   ]
  }
 ],
 "metadata": {
  "kernelspec": {
   "display_name": "Python 3 (ipykernel)",
   "language": "python",
   "name": "python3"
  },
  "language_info": {
   "codemirror_mode": {
    "name": "ipython",
    "version": 3
   },
   "file_extension": ".py",
   "mimetype": "text/x-python",
   "name": "python",
   "nbconvert_exporter": "python",
   "pygments_lexer": "ipython3",
   "version": "3.11.5"
  }
 },
 "nbformat": 4,
 "nbformat_minor": 5
}
