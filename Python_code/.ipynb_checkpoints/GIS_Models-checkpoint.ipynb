{
 "cells": [
  {
   "cell_type": "markdown",
   "id": "ec84f568",
   "metadata": {},
   "source": [
    "File for GIS models"
   ]
  },
  {
   "cell_type": "markdown",
   "id": "c1183b6a",
   "metadata": {},
   "source": [
    "# PPOL 5203 Final Project"
   ]
  },
  {
   "cell_type": "markdown",
   "id": "a9e3b885",
   "metadata": {},
   "source": [
    "## 1. Import Data and Clean Columns"
   ]
  },
  {
   "cell_type": "code",
   "execution_count": 2,
   "id": "65ac34df",
   "metadata": {
    "scrolled": true
   },
   "outputs": [],
   "source": [
    "#!pip install openpyxl"
   ]
  },
  {
   "cell_type": "code",
   "execution_count": 3,
   "id": "7d4dd683",
   "metadata": {},
   "outputs": [],
   "source": [
    "import pandas as pd\n",
    "import os\n",
    "import openpyxl"
   ]
  },
  {
   "cell_type": "code",
   "execution_count": 9,
   "id": "3d88001f",
   "metadata": {},
   "outputs": [
    {
     "data": {
      "text/plain": [
       "'/Users/katharynloweth/Desktop/Data_Science_I_Fall2023/PPOL5203_FinalProject'"
      ]
     },
     "execution_count": 9,
     "metadata": {},
     "output_type": "execute_result"
    }
   ],
   "source": [
    "pwd"
   ]
  },
  {
   "cell_type": "code",
   "execution_count": 8,
   "id": "33841423",
   "metadata": {},
   "outputs": [],
   "source": [
    "#changing path so that we can open files from the orig_data folder\n",
    "#KL: when i re-run code i keep getting errors when we start to switch directories. Can we work from the main \n",
    "#final project folder and code the file paths from there?\n",
    "\n",
    "\n",
    "\n",
    "os.chdir(\"../\")\n",
    "#os.chdir('Datasets/Orig_Data')\n",
    "#os.chdir('PPOL5203_FinalProject')"
   ]
  }
 ],
 "metadata": {
  "kernelspec": {
   "display_name": "Python 3 (ipykernel)",
   "language": "python",
   "name": "python3"
  },
  "language_info": {
   "codemirror_mode": {
    "name": "ipython",
    "version": 3
   },
   "file_extension": ".py",
   "mimetype": "text/x-python",
   "name": "python",
   "nbconvert_exporter": "python",
   "pygments_lexer": "ipython3",
   "version": "3.10.11"
  }
 },
 "nbformat": 4,
 "nbformat_minor": 5
}
