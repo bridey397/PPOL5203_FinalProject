{
 "cells": [
  {
   "cell_type": "markdown",
   "id": "ec84f568",
   "metadata": {},
   "source": [
    "File for the OLS models"
   ]
  },
  {
   "cell_type": "markdown",
   "id": "c1183b6a",
   "metadata": {},
   "source": [
    "# PPOL 5203 Final Project"
   ]
  },
  {
   "cell_type": "markdown",
   "id": "a9e3b885",
   "metadata": {},
   "source": [
    "## Creating OLS Models"
   ]
  },
  {
   "cell_type": "code",
   "execution_count": 2,
   "id": "65ac34df",
   "metadata": {
    "scrolled": true
   },
   "outputs": [],
   "source": [
    "#!pip install openpyxl"
   ]
  },
  {
   "cell_type": "code",
   "execution_count": 2,
   "id": "7d4dd683",
   "metadata": {},
   "outputs": [],
   "source": [
    "import pandas as pd\n",
    "import os\n",
    "import openpyxl"
   ]
  },
  {
   "cell_type": "code",
   "execution_count": 3,
   "id": "3d88001f",
   "metadata": {},
   "outputs": [
    {
     "data": {
      "text/plain": [
       "'/Users/katharynloweth/Desktop/Data_Science_I_Fall2023/PPOL5203_FinalProject/Python_code'"
      ]
     },
     "execution_count": 3,
     "metadata": {},
     "output_type": "execute_result"
    }
   ],
   "source": [
    "pwd"
   ]
  },
  {
   "cell_type": "code",
   "execution_count": 4,
   "id": "33841423",
   "metadata": {},
   "outputs": [],
   "source": [
    "#should be in the PPOL5203 folder not in subfolder\n",
    "os.chdir(\"../\")"
   ]
  },
  {
   "cell_type": "code",
   "execution_count": 5,
   "id": "5c92a062",
   "metadata": {},
   "outputs": [],
   "source": [
    "Merged_County_Data_clean = pd.read_csv('Datasets/Clean_Data/NRI_county_health_data.csv', header=0)"
   ]
  },
  {
   "cell_type": "code",
   "execution_count": 6,
   "id": "ccbe4bba",
   "metadata": {},
   "outputs": [],
   "source": [
    "# import library for models\n",
    "import statsmodels.api as sm\n",
    "import statsmodels.formula.api as smf"
   ]
  },
  {
   "cell_type": "markdown",
   "id": "f81a7c4e",
   "metadata": {},
   "source": [
    "## OLS Using Data on All U.S. Counties"
   ]
  },
  {
   "cell_type": "markdown",
   "id": "e0bb2600",
   "metadata": {},
   "source": [
    "**Life Expectancy and Risk Score**"
   ]
  },
  {
   "cell_type": "code",
   "execution_count": 7,
   "id": "44e2cbb2",
   "metadata": {},
   "outputs": [
    {
     "name": "stdout",
     "output_type": "stream",
     "text": [
      "                            OLS Regression Results                            \n",
      "==============================================================================\n",
      "Dep. Variable:        Life_Expectancy   R-squared:                       0.003\n",
      "Model:                            OLS   Adj. R-squared:                  0.003\n",
      "Method:                 Least Squares   F-statistic:                     10.01\n",
      "Date:                Wed, 29 Nov 2023   Prob (F-statistic):            0.00157\n",
      "Time:                        12:03:28   Log-Likelihood:                -7986.7\n",
      "No. Observations:                3071   AIC:                         1.598e+04\n",
      "Df Residuals:                    3069   BIC:                         1.599e+04\n",
      "Df Model:                           1                                         \n",
      "Covariance Type:            nonrobust                                         \n",
      "==============================================================================\n",
      "                 coef    std err          t      P>|t|      [0.025      0.975]\n",
      "------------------------------------------------------------------------------\n",
      "Intercept     76.5603      0.121    632.298      0.000      76.323      76.798\n",
      "RISK_SCORE     0.0066      0.002      3.164      0.002       0.002       0.011\n",
      "==============================================================================\n",
      "Omnibus:                      656.801   Durbin-Watson:                   1.380\n",
      "Prob(Omnibus):                  0.000   Jarque-Bera (JB):             7720.966\n",
      "Skew:                           0.670   Prob(JB):                         0.00\n",
      "Kurtosis:                      10.651   Cond. No.                         120.\n",
      "==============================================================================\n",
      "\n",
      "Notes:\n",
      "[1] Standard Errors assume that the covariance matrix of the errors is correctly specified.\n"
     ]
    }
   ],
   "source": [
    "model_ols_r_bivariate = smf.ols(formula='Life_Expectancy ~ RISK_SCORE', data=Merged_County_Data_clean).fit()\n",
    "\n",
    "print(model_ols_r_bivariate.summary())\n",
    "\n"
   ]
  },
  {
   "cell_type": "code",
   "execution_count": 8,
   "id": "5fc04332",
   "metadata": {},
   "outputs": [
    {
     "name": "stdout",
     "output_type": "stream",
     "text": [
      "                            OLS Regression Results                            \n",
      "==============================================================================\n",
      "Dep. Variable:        Life_Expectancy   R-squared:                       0.012\n",
      "Model:                            OLS   Adj. R-squared:                  0.012\n",
      "Method:                 Least Squares   F-statistic:                     19.41\n",
      "Date:                Wed, 29 Nov 2023   Prob (F-statistic):           4.20e-09\n",
      "Time:                        12:03:43   Log-Likelihood:                -7972.4\n",
      "No. Observations:                3071   AIC:                         1.595e+04\n",
      "Df Residuals:                    3068   BIC:                         1.597e+04\n",
      "Df Model:                           2                                         \n",
      "Covariance Type:            nonrobust                                         \n",
      "======================================================================================\n",
      "                         coef    std err          t      P>|t|      [0.025      0.975]\n",
      "--------------------------------------------------------------------------------------\n",
      "Intercept             76.6016      0.121    634.195      0.000      76.365      76.838\n",
      "RISK_SCORE             0.0046      0.002      2.217      0.027       0.001       0.009\n",
      "Population_Density     0.0002   4.53e-05      5.359      0.000       0.000       0.000\n",
      "==============================================================================\n",
      "Omnibus:                      657.768   Durbin-Watson:                   1.387\n",
      "Prob(Omnibus):                  0.000   Jarque-Bera (JB):             7947.981\n",
      "Skew:                           0.663   Prob(JB):                         0.00\n",
      "Kurtosis:                      10.769   Cond. No.                     2.75e+03\n",
      "==============================================================================\n",
      "\n",
      "Notes:\n",
      "[1] Standard Errors assume that the covariance matrix of the errors is correctly specified.\n",
      "[2] The condition number is large, 2.75e+03. This might indicate that there are\n",
      "strong multicollinearity or other numerical problems.\n"
     ]
    }
   ],
   "source": [
    "model_ols_r_mv1 = smf.ols(formula='Life_Expectancy ~ RISK_SCORE + Population_Density', data=Merged_County_Data_clean).fit()\n",
    "\n",
    "\n",
    "print(model_ols_r_mv1.summary())"
   ]
  },
  {
   "cell_type": "code",
   "execution_count": 9,
   "id": "dc887828",
   "metadata": {},
   "outputs": [
    {
     "name": "stdout",
     "output_type": "stream",
     "text": [
      "                            OLS Regression Results                            \n",
      "==============================================================================\n",
      "Dep. Variable:        Life_Expectancy   R-squared:                       0.073\n",
      "Model:                            OLS   Adj. R-squared:                  0.071\n",
      "Method:                 Least Squares   F-statistic:                     60.02\n",
      "Date:                Wed, 29 Nov 2023   Prob (F-statistic):           7.16e-49\n",
      "Time:                        12:03:43   Log-Likelihood:                -7875.9\n",
      "No. Observations:                3071   AIC:                         1.576e+04\n",
      "Df Residuals:                    3066   BIC:                         1.579e+04\n",
      "Df Model:                           4                                         \n",
      "Covariance Type:            nonrobust                                         \n",
      "=================================================================================================\n",
      "                                    coef    std err          t      P>|t|      [0.025      0.975]\n",
      "-------------------------------------------------------------------------------------------------\n",
      "Intercept                        77.1826      0.124    621.745      0.000      76.939      77.426\n",
      "Community_Type[T.Small Urban]     1.3962      0.162      8.600      0.000       1.078       1.714\n",
      "Community_Type[T.Urban]           3.5300      0.256     13.780      0.000       3.028       4.032\n",
      "RISK_SCORE                       -0.0186      0.003     -6.967      0.000      -0.024      -0.013\n",
      "Population_Density             8.861e-05   4.56e-05      1.943      0.052   -8.16e-07       0.000\n",
      "==============================================================================\n",
      "Omnibus:                      759.074   Durbin-Watson:                   1.433\n",
      "Prob(Omnibus):                  0.000   Jarque-Bera (JB):            10345.402\n",
      "Skew:                           0.786   Prob(JB):                         0.00\n",
      "Kurtosis:                      11.853   Cond. No.                     6.41e+03\n",
      "==============================================================================\n",
      "\n",
      "Notes:\n",
      "[1] Standard Errors assume that the covariance matrix of the errors is correctly specified.\n",
      "[2] The condition number is large, 6.41e+03. This might indicate that there are\n",
      "strong multicollinearity or other numerical problems.\n"
     ]
    }
   ],
   "source": [
    "model_ols_r_mv2 = smf.ols(formula='Life_Expectancy ~ RISK_SCORE + Population_Density + Community_Type', data=Merged_County_Data_clean).fit()\n",
    "\n",
    "\n",
    "print(model_ols_r_mv2.summary())"
   ]
  },
  {
   "cell_type": "code",
   "execution_count": 12,
   "id": "c589cbdc",
   "metadata": {},
   "outputs": [
    {
     "name": "stdout",
     "output_type": "stream",
     "text": [
      "                            OLS Regression Results                            \n",
      "==============================================================================\n",
      "Dep. Variable:        Life_Expectancy   R-squared:                       0.073\n",
      "Model:                            OLS   Adj. R-squared:                  0.071\n",
      "Method:                 Least Squares   F-statistic:                     60.02\n",
      "Date:                Wed, 29 Nov 2023   Prob (F-statistic):           7.16e-49\n",
      "Time:                        12:04:17   Log-Likelihood:                -7875.9\n",
      "No. Observations:                3071   AIC:                         1.576e+04\n",
      "Df Residuals:                    3066   BIC:                         1.579e+04\n",
      "Df Model:                           4                                         \n",
      "Covariance Type:            nonrobust                                         \n",
      "=================================================================================================\n",
      "                                    coef    std err          t      P>|t|      [0.025      0.975]\n",
      "-------------------------------------------------------------------------------------------------\n",
      "Intercept                        77.1826      0.124    621.745      0.000      76.939      77.426\n",
      "Community_Type[T.Small Urban]     1.3962      0.162      8.600      0.000       1.078       1.714\n",
      "Community_Type[T.Urban]           3.5300      0.256     13.780      0.000       3.028       4.032\n",
      "RISK_SCORE                       -0.0186      0.003     -6.967      0.000      -0.024      -0.013\n",
      "Population_Density             8.861e-05   4.56e-05      1.943      0.052   -8.16e-07       0.000\n",
      "==============================================================================\n",
      "Omnibus:                      759.074   Durbin-Watson:                   1.433\n",
      "Prob(Omnibus):                  0.000   Jarque-Bera (JB):            10345.402\n",
      "Skew:                           0.786   Prob(JB):                         0.00\n",
      "Kurtosis:                      11.853   Cond. No.                     6.41e+03\n",
      "==============================================================================\n",
      "\n",
      "Notes:\n",
      "[1] Standard Errors assume that the covariance matrix of the errors is correctly specified.\n",
      "[2] The condition number is large, 6.41e+03. This might indicate that there are\n",
      "strong multicollinearity or other numerical problems.\n"
     ]
    }
   ],
   "source": [
    "#comparing population vs population_density in model\n",
    "model_ols_r_mv3 = smf.ols(formula='Life_Expectancy ~ RISK_SCORE + Population_Density + Community_Type', data=Merged_County_Data_clean).fit()\n",
    "\n",
    "\n",
    "print(model_ols_r_mv3.summary())"
   ]
  },
  {
   "cell_type": "code",
   "execution_count": 11,
   "id": "be39295d",
   "metadata": {},
   "outputs": [
    {
     "name": "stdout",
     "output_type": "stream",
     "text": [
      "                            OLS Regression Results                            \n",
      "==============================================================================\n",
      "Dep. Variable:        Life_Expectancy   R-squared:                       0.096\n",
      "Model:                            OLS   Adj. R-squared:                  0.094\n",
      "Method:                 Least Squares   F-statistic:                     64.81\n",
      "Date:                Wed, 29 Nov 2023   Prob (F-statistic):           1.74e-64\n",
      "Time:                        12:04:09   Log-Likelihood:                -7837.4\n",
      "No. Observations:                3071   AIC:                         1.569e+04\n",
      "Df Residuals:                    3065   BIC:                         1.572e+04\n",
      "Df Model:                           5                                         \n",
      "Covariance Type:            nonrobust                                         \n",
      "=================================================================================================\n",
      "                                    coef    std err          t      P>|t|      [0.025      0.975]\n",
      "-------------------------------------------------------------------------------------------------\n",
      "Intercept                        74.6028      0.317    235.398      0.000      73.981      75.224\n",
      "Community_Type[T.Small Urban]     1.5452      0.161      9.583      0.000       1.229       1.861\n",
      "Community_Type[T.Urban]           3.7792      0.255     14.845      0.000       3.280       4.278\n",
      "RISK_SCORE                       -0.0140      0.003     -5.210      0.000      -0.019      -0.009\n",
      "Population_Density                0.0001   4.51e-05      2.473      0.013    2.31e-05       0.000\n",
      "Percent_65_and_Over               0.1146      0.013      8.828      0.000       0.089       0.140\n",
      "==============================================================================\n",
      "Omnibus:                      906.171   Durbin-Watson:                   1.457\n",
      "Prob(Omnibus):                  0.000   Jarque-Bera (JB):            13639.700\n",
      "Skew:                           0.984   Prob(JB):                         0.00\n",
      "Kurtosis:                      13.135   Cond. No.                     7.54e+03\n",
      "==============================================================================\n",
      "\n",
      "Notes:\n",
      "[1] Standard Errors assume that the covariance matrix of the errors is correctly specified.\n",
      "[2] The condition number is large, 7.54e+03. This might indicate that there are\n",
      "strong multicollinearity or other numerical problems.\n"
     ]
    }
   ],
   "source": [
    "model_ols_r_mv4 = smf.ols(formula='Life_Expectancy ~ RISK_SCORE + Population_Density + Community_Type + Percent_65_and_Over', data=Merged_County_Data_clean).fit()\n",
    "\n",
    "\n",
    "print(model_ols_r_mv4.summary())"
   ]
  },
  {
   "cell_type": "code",
   "execution_count": 13,
   "id": "40e4b3ca",
   "metadata": {},
   "outputs": [
    {
     "name": "stdout",
     "output_type": "stream",
     "text": [
      "                            OLS Regression Results                            \n",
      "==============================================================================\n",
      "Dep. Variable:        Life_Expectancy   R-squared:                       0.097\n",
      "Model:                            OLS   Adj. R-squared:                  0.095\n",
      "Method:                 Least Squares   F-statistic:                     46.95\n",
      "Date:                Wed, 29 Nov 2023   Prob (F-statistic):           1.34e-63\n",
      "Time:                        12:04:20   Log-Likelihood:                -7835.2\n",
      "No. Observations:                3071   AIC:                         1.569e+04\n",
      "Df Residuals:                    3063   BIC:                         1.573e+04\n",
      "Df Model:                           7                                         \n",
      "Covariance Type:            nonrobust                                         \n",
      "============================================================================================================\n",
      "                                               coef    std err          t      P>|t|      [0.025      0.975]\n",
      "------------------------------------------------------------------------------------------------------------\n",
      "Intercept                                   74.7221      0.322    231.833      0.000      74.090      75.354\n",
      "Community_Type[T.Small Urban]                0.7127      0.503      1.418      0.156      -0.273       1.698\n",
      "Community_Type[T.Urban]                      0.7402      2.682      0.276      0.783      -4.518       5.999\n",
      "RISK_SCORE                                  -0.0164      0.003     -5.558      0.000      -0.022      -0.011\n",
      "RISK_SCORE:Community_Type[T.Small Urban]     0.0127      0.007      1.769      0.077      -0.001       0.027\n",
      "RISK_SCORE:Community_Type[T.Urban]           0.0343      0.029      1.178      0.239      -0.023       0.091\n",
      "Population_Density                           0.0001   4.54e-05      2.324      0.020    1.65e-05       0.000\n",
      "Percent_65_and_Over                          0.1133      0.013      8.722      0.000       0.088       0.139\n",
      "==============================================================================\n",
      "Omnibus:                      902.242   Durbin-Watson:                   1.460\n",
      "Prob(Omnibus):                  0.000   Jarque-Bera (JB):            13607.449\n",
      "Skew:                           0.977   Prob(JB):                         0.00\n",
      "Kurtosis:                      13.125   Cond. No.                     6.38e+04\n",
      "==============================================================================\n",
      "\n",
      "Notes:\n",
      "[1] Standard Errors assume that the covariance matrix of the errors is correctly specified.\n",
      "[2] The condition number is large, 6.38e+04. This might indicate that there are\n",
      "strong multicollinearity or other numerical problems.\n"
     ]
    }
   ],
   "source": [
    "model_ols_r_int = smf.ols(formula='Life_Expectancy ~ RISK_SCORE + Population_Density + Community_Type + RISK_SCORE*Community_Type + Percent_65_and_Over', data=Merged_County_Data_clean).fit()\n",
    "\n",
    "\n",
    "print(model_ols_r_int.summary())"
   ]
  },
  {
   "cell_type": "markdown",
   "id": "ec8ccaaf",
   "metadata": {},
   "source": [
    "**Mentally Unhealthy Days and Risk Score**"
   ]
  },
  {
   "cell_type": "code",
   "execution_count": 14,
   "id": "59bfeb4d",
   "metadata": {},
   "outputs": [
    {
     "name": "stdout",
     "output_type": "stream",
     "text": [
      "                                        OLS Regression Results                                       \n",
      "=====================================================================================================\n",
      "Dep. Variable:     Average_Number_of_Mentally_Unhealthy_Days   R-squared:                       0.014\n",
      "Model:                                                   OLS   Adj. R-squared:                  0.012\n",
      "Method:                                        Least Squares   F-statistic:                     6.237\n",
      "Date:                                       Wed, 29 Nov 2023   Prob (F-statistic):           2.80e-07\n",
      "Time:                                               12:04:24   Log-Likelihood:                -2970.6\n",
      "No. Observations:                                       3140   AIC:                             5957.\n",
      "Df Residuals:                                           3132   BIC:                             6006.\n",
      "Df Model:                                                  7                                         \n",
      "Covariance Type:                                   nonrobust                                         \n",
      "============================================================================================================\n",
      "                                               coef    std err          t      P>|t|      [0.025      0.975]\n",
      "------------------------------------------------------------------------------------------------------------\n",
      "Intercept                                    4.7946      0.063     75.697      0.000       4.670       4.919\n",
      "Community_Type[T.Small Urban]                0.2658      0.101      2.641      0.008       0.068       0.463\n",
      "Community_Type[T.Urban]                     -0.3885      0.539     -0.721      0.471      -1.444       0.667\n",
      "RISK_SCORE                                   0.0022      0.001      3.804      0.000       0.001       0.003\n",
      "RISK_SCORE:Community_Type[T.Small Urban]    -0.0042      0.001     -2.911      0.004      -0.007      -0.001\n",
      "RISK_SCORE:Community_Type[T.Urban]           0.0013      0.006      0.229      0.819      -0.010       0.013\n",
      "Population_Density                       -1.331e-05   9.12e-06     -1.460      0.144   -3.12e-05    4.57e-06\n",
      "Percent_65_and_Over                         -0.0035      0.003     -1.396      0.163      -0.008       0.001\n",
      "==============================================================================\n",
      "Omnibus:                        2.854   Durbin-Watson:                   0.458\n",
      "Prob(Omnibus):                  0.240   Jarque-Bera (JB):                2.897\n",
      "Skew:                          -0.064   Prob(JB):                        0.235\n",
      "Kurtosis:                       2.925   Cond. No.                     6.38e+04\n",
      "==============================================================================\n",
      "\n",
      "Notes:\n",
      "[1] Standard Errors assume that the covariance matrix of the errors is correctly specified.\n",
      "[2] The condition number is large, 6.38e+04. This might indicate that there are\n",
      "strong multicollinearity or other numerical problems.\n"
     ]
    }
   ],
   "source": [
    "model_ols_r_mh1 = smf.ols(formula='Average_Number_of_Mentally_Unhealthy_Days ~ RISK_SCORE + Population_Density + Community_Type + RISK_SCORE*Community_Type + Percent_65_and_Over', data=Merged_County_Data_clean).fit()\n",
    "\n",
    "\n",
    "print(model_ols_r_mh1.summary())"
   ]
  },
  {
   "cell_type": "markdown",
   "id": "c6f6af91",
   "metadata": {},
   "source": [
    "**Physically Unhealthy Days and Risk Score**"
   ]
  },
  {
   "cell_type": "code",
   "execution_count": 15,
   "id": "f5ce4ee7",
   "metadata": {},
   "outputs": [
    {
     "name": "stdout",
     "output_type": "stream",
     "text": [
      "                                         OLS Regression Results                                        \n",
      "=======================================================================================================\n",
      "Dep. Variable:     Average_Number_of_Physically_Unhealthy_Days   R-squared:                       0.109\n",
      "Model:                                                     OLS   Adj. R-squared:                  0.107\n",
      "Method:                                          Least Squares   F-statistic:                     54.73\n",
      "Date:                                         Wed, 29 Nov 2023   Prob (F-statistic):           3.84e-74\n",
      "Time:                                                 12:04:26   Log-Likelihood:                -2930.5\n",
      "No. Observations:                                         3140   AIC:                             5877.\n",
      "Df Residuals:                                             3132   BIC:                             5925.\n",
      "Df Model:                                                    7                                         \n",
      "Covariance Type:                                     nonrobust                                         \n",
      "============================================================================================================\n",
      "                                               coef    std err          t      P>|t|      [0.025      0.975]\n",
      "------------------------------------------------------------------------------------------------------------\n",
      "Intercept                                    3.9670      0.063     63.437      0.000       3.844       4.090\n",
      "Community_Type[T.Small Urban]               -0.3433      0.099     -3.454      0.001      -0.538      -0.148\n",
      "Community_Type[T.Urban]                     -1.9384      0.532     -3.646      0.000      -2.981      -0.896\n",
      "RISK_SCORE                                   0.0027      0.001      4.689      0.000       0.002       0.004\n",
      "RISK_SCORE:Community_Type[T.Small Urban]    -0.0007      0.001     -0.503      0.615      -0.004       0.002\n",
      "RISK_SCORE:Community_Type[T.Urban]           0.0128      0.006      2.215      0.027       0.001       0.024\n",
      "Population_Density                       -3.083e-05      9e-06     -3.426      0.001   -4.85e-05   -1.32e-05\n",
      "Percent_65_and_Over                         -0.0209      0.002     -8.350      0.000      -0.026      -0.016\n",
      "==============================================================================\n",
      "Omnibus:                       70.541   Durbin-Watson:                   0.762\n",
      "Prob(Omnibus):                  0.000   Jarque-Bera (JB):               75.421\n",
      "Skew:                           0.359   Prob(JB):                     4.19e-17\n",
      "Kurtosis:                       3.249   Cond. No.                     6.38e+04\n",
      "==============================================================================\n",
      "\n",
      "Notes:\n",
      "[1] Standard Errors assume that the covariance matrix of the errors is correctly specified.\n",
      "[2] The condition number is large, 6.38e+04. This might indicate that there are\n",
      "strong multicollinearity or other numerical problems.\n"
     ]
    }
   ],
   "source": [
    "model_ols_r_ph1 = smf.ols(formula='Average_Number_of_Physically_Unhealthy_Days ~ RISK_SCORE + Population_Density + Community_Type + RISK_SCORE*Community_Type + Percent_65_and_Over', data=Merged_County_Data_clean).fit()\n",
    "\n",
    "\n",
    "print(model_ols_r_ph1.summary())"
   ]
  },
  {
   "cell_type": "markdown",
   "id": "da05dc4f",
   "metadata": {},
   "source": [
    "**RISK SCORE AND HEALTH PROVIDER RATE**"
   ]
  },
  {
   "cell_type": "code",
   "execution_count": 16,
   "id": "8b950626",
   "metadata": {},
   "outputs": [
    {
     "name": "stdout",
     "output_type": "stream",
     "text": [
      "                            OLS Regression Results                            \n",
      "==============================================================================\n",
      "Dep. Variable:             RISK_SCORE   R-squared:                       0.050\n",
      "Model:                            OLS   Adj. R-squared:                  0.050\n",
      "Method:                 Least Squares   F-statistic:                     75.19\n",
      "Date:                Wed, 29 Nov 2023   Prob (F-statistic):           1.51e-32\n",
      "Time:                        12:04:29   Log-Likelihood:                -13478.\n",
      "No. Observations:                2848   AIC:                         2.696e+04\n",
      "Df Residuals:                    2845   BIC:                         2.698e+04\n",
      "Df Model:                           2                                         \n",
      "Covariance Type:            nonrobust                                         \n",
      "================================================================================================\n",
      "                                   coef    std err          t      P>|t|      [0.025      0.975]\n",
      "------------------------------------------------------------------------------------------------\n",
      "Intercept                       44.1345      0.943     46.812      0.000      42.286      45.983\n",
      "Mental_Health_Provider_Rate      0.0187      0.003      6.976      0.000       0.013       0.024\n",
      "Primary_Care_Physicians_Rate     0.0963      0.016      6.140      0.000       0.066       0.127\n",
      "==============================================================================\n",
      "Omnibus:                      214.557   Durbin-Watson:                   1.472\n",
      "Prob(Omnibus):                  0.000   Jarque-Bera (JB):              103.556\n",
      "Skew:                          -0.287   Prob(JB):                     3.26e-23\n",
      "Kurtosis:                       2.263   Cond. No.                         532.\n",
      "==============================================================================\n",
      "\n",
      "Notes:\n",
      "[1] Standard Errors assume that the covariance matrix of the errors is correctly specified.\n"
     ]
    }
   ],
   "source": [
    "model_ols_r_doc1 = smf.ols(formula='RISK_SCORE ~ Mental_Health_Provider_Rate + Primary_Care_Physicians_Rate', data=Merged_County_Data_clean).fit()\n",
    "print(model_ols_r_doc1.summary())"
   ]
  },
  {
   "cell_type": "code",
   "execution_count": 17,
   "id": "e5708455",
   "metadata": {},
   "outputs": [
    {
     "name": "stdout",
     "output_type": "stream",
     "text": [
      "                            OLS Regression Results                            \n",
      "==============================================================================\n",
      "Dep. Variable:             RISK_SCORE   R-squared:                       0.434\n",
      "Model:                            OLS   Adj. R-squared:                  0.433\n",
      "Method:                 Least Squares   F-statistic:                     544.0\n",
      "Date:                Wed, 29 Nov 2023   Prob (F-statistic):               0.00\n",
      "Time:                        12:04:31   Log-Likelihood:                -12742.\n",
      "No. Observations:                2848   AIC:                         2.549e+04\n",
      "Df Residuals:                    2843   BIC:                         2.552e+04\n",
      "Df Model:                           4                                         \n",
      "Covariance Type:            nonrobust                                         \n",
      "=================================================================================================\n",
      "                                    coef    std err          t      P>|t|      [0.025      0.975]\n",
      "-------------------------------------------------------------------------------------------------\n",
      "Intercept                        41.2655      0.742     55.584      0.000      39.810      42.721\n",
      "Community_Type[T.Small Urban]    31.4601      0.960     32.782      0.000      29.578      33.342\n",
      "Community_Type[T.Urban]          52.9190      1.455     36.373      0.000      50.066      55.772\n",
      "Mental_Health_Provider_Rate       0.0054      0.002      2.567      0.010       0.001       0.009\n",
      "Primary_Care_Physicians_Rate     -0.0423      0.013     -3.376      0.001      -0.067      -0.018\n",
      "==============================================================================\n",
      "Omnibus:                       66.485   Durbin-Watson:                   1.462\n",
      "Prob(Omnibus):                  0.000   Jarque-Bera (JB):               36.042\n",
      "Skew:                           0.071   Prob(JB):                     1.49e-08\n",
      "Kurtosis:                       2.467   Cond. No.                     1.09e+03\n",
      "==============================================================================\n",
      "\n",
      "Notes:\n",
      "[1] Standard Errors assume that the covariance matrix of the errors is correctly specified.\n",
      "[2] The condition number is large, 1.09e+03. This might indicate that there are\n",
      "strong multicollinearity or other numerical problems.\n"
     ]
    }
   ],
   "source": [
    "model_ols_r_doc2 = smf.ols(formula='RISK_SCORE ~ Mental_Health_Provider_Rate + Primary_Care_Physicians_Rate + Community_Type', data=Merged_County_Data_clean).fit()\n",
    "print(model_ols_r_doc2.summary())"
   ]
  },
  {
   "cell_type": "code",
   "execution_count": 18,
   "id": "5c629452",
   "metadata": {},
   "outputs": [
    {
     "name": "stdout",
     "output_type": "stream",
     "text": [
      "                            OLS Regression Results                            \n",
      "==============================================================================\n",
      "Dep. Variable:             RISK_SCORE   R-squared:                       0.459\n",
      "Model:                            OLS   Adj. R-squared:                  0.458\n",
      "Method:                 Least Squares   F-statistic:                     401.6\n",
      "Date:                Wed, 29 Nov 2023   Prob (F-statistic):               0.00\n",
      "Time:                        12:04:34   Log-Likelihood:                -12677.\n",
      "No. Observations:                2848   AIC:                         2.537e+04\n",
      "Df Residuals:                    2841   BIC:                         2.541e+04\n",
      "Df Model:                           6                                         \n",
      "Covariance Type:            nonrobust                                         \n",
      "=================================================================================================\n",
      "                                    coef    std err          t      P>|t|      [0.025      0.975]\n",
      "-------------------------------------------------------------------------------------------------\n",
      "Intercept                        62.1721      1.952     31.849      0.000      58.344      66.000\n",
      "Community_Type[T.Small Urban]    28.7115      0.968     29.648      0.000      26.813      30.610\n",
      "Community_Type[T.Urban]          48.1704      1.531     31.465      0.000      45.169      51.172\n",
      "Mental_Health_Provider_Rate       0.0040      0.002      1.931      0.054   -6.11e-05       0.008\n",
      "Primary_Care_Physicians_Rate     -0.0305      0.012     -2.475      0.013      -0.055      -0.006\n",
      "Population_Density            -9.615e-05      0.000     -0.316      0.752      -0.001       0.001\n",
      "Percent_65_and_Over              -1.0143      0.088    -11.533      0.000      -1.187      -0.842\n",
      "==============================================================================\n",
      "Omnibus:                       40.407   Durbin-Watson:                   1.457\n",
      "Prob(Omnibus):                  0.000   Jarque-Bera (JB):               30.439\n",
      "Skew:                           0.159   Prob(JB):                     2.46e-07\n",
      "Kurtosis:                       2.606   Cond. No.                     7.31e+03\n",
      "==============================================================================\n",
      "\n",
      "Notes:\n",
      "[1] Standard Errors assume that the covariance matrix of the errors is correctly specified.\n",
      "[2] The condition number is large, 7.31e+03. This might indicate that there are\n",
      "strong multicollinearity or other numerical problems.\n"
     ]
    }
   ],
   "source": [
    "model_ols_r_doc3 = smf.ols(formula='RISK_SCORE ~ Mental_Health_Provider_Rate + Primary_Care_Physicians_Rate + Community_Type + Population_Density + Percent_65_and_Over', data=Merged_County_Data_clean).fit()\n",
    "print(model_ols_r_doc3.summary())"
   ]
  },
  {
   "cell_type": "code",
   "execution_count": 19,
   "id": "ae126cc9",
   "metadata": {},
   "outputs": [
    {
     "name": "stdout",
     "output_type": "stream",
     "text": [
      "                            OLS Regression Results                            \n",
      "==============================================================================\n",
      "Dep. Variable:             RISK_SCORE   R-squared:                       0.460\n",
      "Model:                            OLS   Adj. R-squared:                  0.458\n",
      "Method:                 Least Squares   F-statistic:                     241.8\n",
      "Date:                Wed, 29 Nov 2023   Prob (F-statistic):               0.00\n",
      "Time:                        12:04:36   Log-Likelihood:                -12674.\n",
      "No. Observations:                2848   AIC:                         2.537e+04\n",
      "Df Residuals:                    2837   BIC:                         2.544e+04\n",
      "Df Model:                          10                                         \n",
      "Covariance Type:            nonrobust                                         \n",
      "==============================================================================================================================\n",
      "                                                                 coef    std err          t      P>|t|      [0.025      0.975]\n",
      "------------------------------------------------------------------------------------------------------------------------------\n",
      "Intercept                                                     63.0444      1.992     31.651      0.000      59.139      66.950\n",
      "Community_Type[T.Small Urban]                                 25.2387      1.946     12.969      0.000      21.423      29.055\n",
      "Community_Type[T.Urban]                                       45.6406      4.033     11.316      0.000      37.732      53.549\n",
      "Mental_Health_Provider_Rate                                    0.0022      0.002      0.941      0.347      -0.002       0.007\n",
      "Community_Type[T.Small Urban]:Mental_Health_Provider_Rate      0.0117      0.006      1.935      0.053      -0.000       0.024\n",
      "Community_Type[T.Urban]:Mental_Health_Provider_Rate            0.0005      0.008      0.058      0.954      -0.016       0.017\n",
      "Primary_Care_Physicians_Rate                                  -0.0390      0.014     -2.704      0.007      -0.067      -0.011\n",
      "Community_Type[T.Small Urban]:Primary_Care_Physicians_Rate     0.0160      0.031      0.524      0.600      -0.044       0.076\n",
      "Community_Type[T.Urban]:Primary_Care_Physicians_Rate           0.0350      0.055      0.635      0.526      -0.073       0.143\n",
      "Population_Density                                            -0.0001      0.000     -0.335      0.738      -0.001       0.001\n",
      "Percent_65_and_Over                                           -1.0235      0.088    -11.627      0.000      -1.196      -0.851\n",
      "==============================================================================\n",
      "Omnibus:                       40.029   Durbin-Watson:                   1.460\n",
      "Prob(Omnibus):                  0.000   Jarque-Bera (JB):               30.916\n",
      "Skew:                           0.168   Prob(JB):                     1.94e-07\n",
      "Kurtosis:                       2.615   Cond. No.                     1.44e+04\n",
      "==============================================================================\n",
      "\n",
      "Notes:\n",
      "[1] Standard Errors assume that the covariance matrix of the errors is correctly specified.\n",
      "[2] The condition number is large, 1.44e+04. This might indicate that there are\n",
      "strong multicollinearity or other numerical problems.\n"
     ]
    }
   ],
   "source": [
    "#surprising interaction between community and ratio isn't meaningful\n",
    "\n",
    "model_ols_r_doc_inter = smf.ols(formula='RISK_SCORE ~ Mental_Health_Provider_Rate + Primary_Care_Physicians_Rate + Community_Type + Community_Type*Mental_Health_Provider_Rate + Community_Type*Primary_Care_Physicians_Rate + Population_Density + Percent_65_and_Over', data=Merged_County_Data_clean).fit()\n",
    "print(model_ols_r_doc_inter.summary())\n"
   ]
  },
  {
   "cell_type": "markdown",
   "id": "3b0fa9a2",
   "metadata": {},
   "source": [
    "**RESL SCORE AND HEALTH PROVIDER RATE**"
   ]
  },
  {
   "cell_type": "code",
   "execution_count": 20,
   "id": "f2bc0a23",
   "metadata": {},
   "outputs": [
    {
     "name": "stdout",
     "output_type": "stream",
     "text": [
      "                            OLS Regression Results                            \n",
      "==============================================================================\n",
      "Dep. Variable:             RESL_SCORE   R-squared:                       0.114\n",
      "Model:                            OLS   Adj. R-squared:                  0.113\n",
      "Method:                 Least Squares   F-statistic:                     182.2\n",
      "Date:                Wed, 29 Nov 2023   Prob (F-statistic):           3.48e-75\n",
      "Time:                        12:04:40   Log-Likelihood:                -13419.\n",
      "No. Observations:                2848   AIC:                         2.684e+04\n",
      "Df Residuals:                    2845   BIC:                         2.686e+04\n",
      "Df Model:                           2                                         \n",
      "Covariance Type:            nonrobust                                         \n",
      "================================================================================================\n",
      "                                   coef    std err          t      P>|t|      [0.025      0.975]\n",
      "------------------------------------------------------------------------------------------------\n",
      "Intercept                       36.8745      0.923     39.943      0.000      35.064      38.685\n",
      "Mental_Health_Provider_Rate      0.0051      0.003      1.960      0.050   -1.63e-06       0.010\n",
      "Primary_Care_Physicians_Rate     0.2509      0.015     16.332      0.000       0.221       0.281\n",
      "==============================================================================\n",
      "Omnibus:                      320.482   Durbin-Watson:                   1.127\n",
      "Prob(Omnibus):                  0.000   Jarque-Bera (JB):               89.013\n",
      "Skew:                          -0.043   Prob(JB):                     4.69e-20\n",
      "Kurtosis:                       2.138   Cond. No.                         532.\n",
      "==============================================================================\n",
      "\n",
      "Notes:\n",
      "[1] Standard Errors assume that the covariance matrix of the errors is correctly specified.\n"
     ]
    }
   ],
   "source": [
    "model_ols_r_resl1 = smf.ols(formula='RESL_SCORE ~ Mental_Health_Provider_Rate + Primary_Care_Physicians_Rate', data=Merged_County_Data_clean).fit()\n",
    "print(model_ols_r_resl1.summary())"
   ]
  },
  {
   "cell_type": "code",
   "execution_count": 21,
   "id": "ad68b97e",
   "metadata": {},
   "outputs": [
    {
     "name": "stdout",
     "output_type": "stream",
     "text": [
      "                            OLS Regression Results                            \n",
      "==============================================================================\n",
      "Dep. Variable:             RESL_SCORE   R-squared:                       0.167\n",
      "Model:                            OLS   Adj. R-squared:                  0.166\n",
      "Method:                 Least Squares   F-statistic:                     142.4\n",
      "Date:                Wed, 29 Nov 2023   Prob (F-statistic):          4.08e-111\n",
      "Time:                        12:04:42   Log-Likelihood:                -13330.\n",
      "No. Observations:                2848   AIC:                         2.667e+04\n",
      "Df Residuals:                    2843   BIC:                         2.670e+04\n",
      "Df Model:                           4                                         \n",
      "Covariance Type:            nonrobust                                         \n",
      "=================================================================================================\n",
      "                                    coef    std err          t      P>|t|      [0.025      0.975]\n",
      "-------------------------------------------------------------------------------------------------\n",
      "Intercept                        35.0926      0.913     38.456      0.000      33.303      36.882\n",
      "Community_Type[T.Small Urban]    14.9290      1.180     12.656      0.000      12.616      17.242\n",
      "Community_Type[T.Urban]          13.7624      1.788      7.696      0.000      10.256      17.269\n",
      "Mental_Health_Provider_Rate       0.0008      0.003      0.329      0.742      -0.004       0.006\n",
      "Primary_Care_Physicians_Rate      0.2059      0.015     13.354      0.000       0.176       0.236\n",
      "==============================================================================\n",
      "Omnibus:                      264.828   Durbin-Watson:                   1.054\n",
      "Prob(Omnibus):                  0.000   Jarque-Bera (JB):               81.298\n",
      "Skew:                           0.051   Prob(JB):                     2.22e-18\n",
      "Kurtosis:                       2.179   Cond. No.                     1.09e+03\n",
      "==============================================================================\n",
      "\n",
      "Notes:\n",
      "[1] Standard Errors assume that the covariance matrix of the errors is correctly specified.\n",
      "[2] The condition number is large, 1.09e+03. This might indicate that there are\n",
      "strong multicollinearity or other numerical problems.\n"
     ]
    }
   ],
   "source": [
    "model_ols_r_resl2 = smf.ols(formula='RESL_SCORE ~ Mental_Health_Provider_Rate + Primary_Care_Physicians_Rate + Community_Type', data=Merged_County_Data_clean).fit()\n",
    "print(model_ols_r_resl2.summary())"
   ]
  },
  {
   "cell_type": "code",
   "execution_count": 22,
   "id": "1222ad68",
   "metadata": {},
   "outputs": [
    {
     "name": "stdout",
     "output_type": "stream",
     "text": [
      "                            OLS Regression Results                            \n",
      "==============================================================================\n",
      "Dep. Variable:             RESL_SCORE   R-squared:                       0.170\n",
      "Model:                            OLS   Adj. R-squared:                  0.169\n",
      "Method:                 Least Squares   F-statistic:                     97.23\n",
      "Date:                Wed, 29 Nov 2023   Prob (F-statistic):          1.81e-111\n",
      "Time:                        12:04:45   Log-Likelihood:                -13324.\n",
      "No. Observations:                2848   AIC:                         2.666e+04\n",
      "Df Residuals:                    2841   BIC:                         2.670e+04\n",
      "Df Model:                           6                                         \n",
      "Covariance Type:            nonrobust                                         \n",
      "=================================================================================================\n",
      "                                    coef    std err          t      P>|t|      [0.025      0.975]\n",
      "-------------------------------------------------------------------------------------------------\n",
      "Intercept                        36.2790      2.450     14.808      0.000      31.475      41.083\n",
      "Community_Type[T.Small Urban]    14.8923      1.215     12.253      0.000      12.509      17.275\n",
      "Community_Type[T.Urban]          15.1587      1.921      7.889      0.000      11.391      18.926\n",
      "Mental_Health_Provider_Rate       0.0013      0.003      0.516      0.606      -0.004       0.006\n",
      "Primary_Care_Physicians_Rate      0.2092      0.015     13.525      0.000       0.179       0.239\n",
      "Population_Density               -0.0013      0.000     -3.392      0.001      -0.002      -0.001\n",
      "Percent_65_and_Over              -0.0639      0.110     -0.579      0.562      -0.280       0.152\n",
      "==============================================================================\n",
      "Omnibus:                      253.095   Durbin-Watson:                   1.038\n",
      "Prob(Omnibus):                  0.000   Jarque-Bera (JB):               79.493\n",
      "Skew:                           0.052   Prob(JB):                     5.47e-18\n",
      "Kurtosis:                       2.188   Cond. No.                     7.31e+03\n",
      "==============================================================================\n",
      "\n",
      "Notes:\n",
      "[1] Standard Errors assume that the covariance matrix of the errors is correctly specified.\n",
      "[2] The condition number is large, 7.31e+03. This might indicate that there are\n",
      "strong multicollinearity or other numerical problems.\n"
     ]
    }
   ],
   "source": [
    "model_ols_r_resl3 = smf.ols(formula='RESL_SCORE ~ Mental_Health_Provider_Rate + Primary_Care_Physicians_Rate + Community_Type + Population_Density + Percent_65_and_Over', data=Merged_County_Data_clean).fit()\n",
    "print(model_ols_r_resl3.summary())"
   ]
  },
  {
   "cell_type": "code",
   "execution_count": 23,
   "id": "1026f1cc",
   "metadata": {},
   "outputs": [
    {
     "name": "stdout",
     "output_type": "stream",
     "text": [
      "                            OLS Regression Results                            \n",
      "==============================================================================\n",
      "Dep. Variable:             RESL_SCORE   R-squared:                       0.175\n",
      "Model:                            OLS   Adj. R-squared:                  0.172\n",
      "Method:                 Least Squares   F-statistic:                     60.13\n",
      "Date:                Wed, 29 Nov 2023   Prob (F-statistic):          6.14e-111\n",
      "Time:                        12:04:46   Log-Likelihood:                -13316.\n",
      "No. Observations:                2848   AIC:                         2.665e+04\n",
      "Df Residuals:                    2837   BIC:                         2.672e+04\n",
      "Df Model:                          10                                         \n",
      "Covariance Type:            nonrobust                                         \n",
      "==============================================================================================================================\n",
      "                                                                 coef    std err          t      P>|t|      [0.025      0.975]\n",
      "------------------------------------------------------------------------------------------------------------------------------\n",
      "Intercept                                                     37.4478      2.496     15.003      0.000      32.554      42.342\n",
      "Community_Type[T.Small Urban]                                 13.4778      2.439      5.527      0.000       8.696      18.259\n",
      "Community_Type[T.Urban]                                        2.0563      5.054      0.407      0.684      -7.853      11.966\n",
      "Mental_Health_Provider_Rate                                   -0.0028      0.003     -0.972      0.331      -0.008       0.003\n",
      "Community_Type[T.Small Urban]:Mental_Health_Provider_Rate      0.0149      0.008      1.968      0.049    5.61e-05       0.030\n",
      "Community_Type[T.Urban]:Mental_Health_Provider_Rate            0.0235      0.010      2.266      0.024       0.003       0.044\n",
      "Primary_Care_Physicians_Rate                                   0.2059      0.018     11.382      0.000       0.170       0.241\n",
      "Community_Type[T.Small Urban]:Primary_Care_Physicians_Rate    -0.0266      0.038     -0.695      0.487      -0.102       0.048\n",
      "Community_Type[T.Urban]:Primary_Care_Physicians_Rate           0.0731      0.069      1.058      0.290      -0.062       0.209\n",
      "Population_Density                                            -0.0015      0.000     -3.840      0.000      -0.002      -0.001\n",
      "Percent_65_and_Over                                           -0.0811      0.110     -0.735      0.462      -0.297       0.135\n",
      "==============================================================================\n",
      "Omnibus:                      277.562   Durbin-Watson:                   1.044\n",
      "Prob(Omnibus):                  0.000   Jarque-Bera (JB):               84.191\n",
      "Skew:                           0.070   Prob(JB):                     5.23e-19\n",
      "Kurtosis:                       2.169   Cond. No.                     1.44e+04\n",
      "==============================================================================\n",
      "\n",
      "Notes:\n",
      "[1] Standard Errors assume that the covariance matrix of the errors is correctly specified.\n",
      "[2] The condition number is large, 1.44e+04. This might indicate that there are\n",
      "strong multicollinearity or other numerical problems.\n"
     ]
    }
   ],
   "source": [
    "model_ols_r_resl_inter = smf.ols(formula='RESL_SCORE ~ Mental_Health_Provider_Rate + Primary_Care_Physicians_Rate + Community_Type + Community_Type*Mental_Health_Provider_Rate + Community_Type*Primary_Care_Physicians_Rate + Population_Density + Percent_65_and_Over', data=Merged_County_Data_clean).fit()\n",
    "print(model_ols_r_resl_inter.summary())"
   ]
  }
 ],
 "metadata": {
  "kernelspec": {
   "display_name": "Python 3 (ipykernel)",
   "language": "python",
   "name": "python3"
  },
  "language_info": {
   "codemirror_mode": {
    "name": "ipython",
    "version": 3
   },
   "file_extension": ".py",
   "mimetype": "text/x-python",
   "name": "python",
   "nbconvert_exporter": "python",
   "pygments_lexer": "ipython3",
   "version": "3.10.11"
  }
 },
 "nbformat": 4,
 "nbformat_minor": 5
}
