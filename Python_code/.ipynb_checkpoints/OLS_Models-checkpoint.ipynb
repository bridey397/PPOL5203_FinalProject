{
 "cells": [
  {
   "cell_type": "markdown",
   "id": "ec84f568",
   "metadata": {},
   "source": [
    "File for the OLS models"
   ]
  },
  {
   "cell_type": "markdown",
   "id": "c1183b6a",
   "metadata": {},
   "source": [
    "# PPOL 5203 Final Project"
   ]
  },
  {
   "cell_type": "markdown",
   "id": "a9e3b885",
   "metadata": {},
   "source": [
    "## 1. Import Data and Clean Columns"
   ]
  },
  {
   "cell_type": "code",
   "execution_count": 2,
   "id": "65ac34df",
   "metadata": {
    "scrolled": true
   },
   "outputs": [],
   "source": [
    "#!pip install openpyxl"
   ]
  },
  {
   "cell_type": "code",
   "execution_count": 1,
   "id": "7d4dd683",
   "metadata": {},
   "outputs": [],
   "source": [
    "import pandas as pd\n",
    "import os\n",
    "import openpyxl"
   ]
  },
  {
   "cell_type": "code",
   "execution_count": 2,
   "id": "3d88001f",
   "metadata": {},
   "outputs": [
    {
     "data": {
      "text/plain": [
       "'/Users/katharynloweth/Desktop/Data_Science_I_Fall2023/PPOL5203_FinalProject/Python_code'"
      ]
     },
     "execution_count": 2,
     "metadata": {},
     "output_type": "execute_result"
    }
   ],
   "source": [
    "pwd"
   ]
  },
  {
   "cell_type": "code",
   "execution_count": 3,
   "id": "33841423",
   "metadata": {},
   "outputs": [],
   "source": [
    "#should be in the PPOL5203 folder not in subfolder\n",
    "os.chdir(\"../\")"
   ]
  },
  {
   "cell_type": "code",
   "execution_count": 4,
   "id": "5c92a062",
   "metadata": {},
   "outputs": [],
   "source": [
    "Merged_County_Data_clean = pd.read_csv('Datasets/Clean_Data/NRI_county_health_data.csv', header=0)"
   ]
  },
  {
   "cell_type": "code",
   "execution_count": 5,
   "id": "ccbe4bba",
   "metadata": {},
   "outputs": [],
   "source": [
    "# import library for models\n",
    "import statsmodels.api as sm\n",
    "import statsmodels.formula.api as smf"
   ]
  },
  {
   "cell_type": "code",
   "execution_count": 6,
   "id": "44e2cbb2",
   "metadata": {},
   "outputs": [
    {
     "name": "stdout",
     "output_type": "stream",
     "text": [
      "                            OLS Regression Results                            \n",
      "==============================================================================\n",
      "Dep. Variable:        Life_Expectancy   R-squared:                       0.003\n",
      "Model:                            OLS   Adj. R-squared:                  0.003\n",
      "Method:                 Least Squares   F-statistic:                     10.01\n",
      "Date:                Sun, 26 Nov 2023   Prob (F-statistic):            0.00157\n",
      "Time:                        15:50:43   Log-Likelihood:                -7986.7\n",
      "No. Observations:                3071   AIC:                         1.598e+04\n",
      "Df Residuals:                    3069   BIC:                         1.599e+04\n",
      "Df Model:                           1                                         \n",
      "Covariance Type:            nonrobust                                         \n",
      "==============================================================================\n",
      "                 coef    std err          t      P>|t|      [0.025      0.975]\n",
      "------------------------------------------------------------------------------\n",
      "Intercept     76.5603      0.121    632.298      0.000      76.323      76.798\n",
      "RISK_SCORE     0.0066      0.002      3.164      0.002       0.002       0.011\n",
      "==============================================================================\n",
      "Omnibus:                      656.801   Durbin-Watson:                   1.380\n",
      "Prob(Omnibus):                  0.000   Jarque-Bera (JB):             7720.966\n",
      "Skew:                           0.670   Prob(JB):                         0.00\n",
      "Kurtosis:                      10.651   Cond. No.                         120.\n",
      "==============================================================================\n",
      "\n",
      "Notes:\n",
      "[1] Standard Errors assume that the covariance matrix of the errors is correctly specified.\n"
     ]
    }
   ],
   "source": [
    "model_ols_r_bivariate = smf.ols(formula='Life_Expectancy ~ RISK_SCORE', data=Merged_County_Data_clean).fit()\n",
    "\n",
    "print(model_ols_r_bivariate.summary())\n",
    "\n"
   ]
  },
  {
   "cell_type": "code",
   "execution_count": 110,
   "id": "5fc04332",
   "metadata": {},
   "outputs": [
    {
     "name": "stdout",
     "output_type": "stream",
     "text": [
      "                            OLS Regression Results                            \n",
      "==============================================================================\n",
      "Dep. Variable:        Life_Expectancy   R-squared:                       0.012\n",
      "Model:                            OLS   Adj. R-squared:                  0.012\n",
      "Method:                 Least Squares   F-statistic:                     19.41\n",
      "Date:                Thu, 16 Nov 2023   Prob (F-statistic):           4.20e-09\n",
      "Time:                        15:13:50   Log-Likelihood:                -7972.4\n",
      "No. Observations:                3071   AIC:                         1.595e+04\n",
      "Df Residuals:                    3068   BIC:                         1.597e+04\n",
      "Df Model:                           2                                         \n",
      "Covariance Type:            nonrobust                                         \n",
      "======================================================================================\n",
      "                         coef    std err          t      P>|t|      [0.025      0.975]\n",
      "--------------------------------------------------------------------------------------\n",
      "Intercept             76.6016      0.121    634.195      0.000      76.365      76.838\n",
      "RISK_SCORE             0.0046      0.002      2.217      0.027       0.001       0.009\n",
      "Population_Density     0.0002   4.53e-05      5.359      0.000       0.000       0.000\n",
      "==============================================================================\n",
      "Omnibus:                      657.768   Durbin-Watson:                   1.387\n",
      "Prob(Omnibus):                  0.000   Jarque-Bera (JB):             7947.981\n",
      "Skew:                           0.663   Prob(JB):                         0.00\n",
      "Kurtosis:                      10.769   Cond. No.                     2.75e+03\n",
      "==============================================================================\n",
      "\n",
      "Notes:\n",
      "[1] Standard Errors assume that the covariance matrix of the errors is correctly specified.\n",
      "[2] The condition number is large, 2.75e+03. This might indicate that there are\n",
      "strong multicollinearity or other numerical problems.\n"
     ]
    }
   ],
   "source": [
    "model_ols_r_mv1 = smf.ols(formula='Life_Expectancy ~ RISK_SCORE + Population_Density', data=Merged_County_Data_clean).fit()\n",
    "\n",
    "\n",
    "print(model_ols_r_mv1.summary())"
   ]
  },
  {
   "cell_type": "code",
   "execution_count": 111,
   "id": "dc887828",
   "metadata": {},
   "outputs": [
    {
     "name": "stdout",
     "output_type": "stream",
     "text": [
      "                            OLS Regression Results                            \n",
      "==============================================================================\n",
      "Dep. Variable:        Life_Expectancy   R-squared:                       0.073\n",
      "Model:                            OLS   Adj. R-squared:                  0.071\n",
      "Method:                 Least Squares   F-statistic:                     60.02\n",
      "Date:                Thu, 16 Nov 2023   Prob (F-statistic):           7.16e-49\n",
      "Time:                        15:14:42   Log-Likelihood:                -7875.9\n",
      "No. Observations:                3071   AIC:                         1.576e+04\n",
      "Df Residuals:                    3066   BIC:                         1.579e+04\n",
      "Df Model:                           4                                         \n",
      "Covariance Type:            nonrobust                                         \n",
      "========================================================================================================\n",
      "                                           coef    std err          t      P>|t|      [0.025      0.975]\n",
      "--------------------------------------------------------------------------------------------------------\n",
      "Intercept                               77.1826      0.124    621.745      0.000      76.939      77.426\n",
      "Community_Type[T.Small/Medium Urban]     1.3962      0.162      8.600      0.000       1.078       1.714\n",
      "Community_Type[T.Urban]                  3.5300      0.256     13.780      0.000       3.028       4.032\n",
      "RISK_SCORE                              -0.0186      0.003     -6.967      0.000      -0.024      -0.013\n",
      "Population_Density                    8.861e-05   4.56e-05      1.943      0.052   -8.16e-07       0.000\n",
      "==============================================================================\n",
      "Omnibus:                      759.074   Durbin-Watson:                   1.433\n",
      "Prob(Omnibus):                  0.000   Jarque-Bera (JB):            10345.402\n",
      "Skew:                           0.786   Prob(JB):                         0.00\n",
      "Kurtosis:                      11.853   Cond. No.                     6.41e+03\n",
      "==============================================================================\n",
      "\n",
      "Notes:\n",
      "[1] Standard Errors assume that the covariance matrix of the errors is correctly specified.\n",
      "[2] The condition number is large, 6.41e+03. This might indicate that there are\n",
      "strong multicollinearity or other numerical problems.\n"
     ]
    }
   ],
   "source": [
    "model_ols_r_mv2 = smf.ols(formula='Life_Expectancy ~ RISK_SCORE + Population_Density + Community_Type', data=Merged_County_Data_clean).fit()\n",
    "\n",
    "\n",
    "print(model_ols_r_mv2.summary())"
   ]
  },
  {
   "cell_type": "code",
   "execution_count": 112,
   "id": "c589cbdc",
   "metadata": {},
   "outputs": [
    {
     "name": "stdout",
     "output_type": "stream",
     "text": [
      "                            OLS Regression Results                            \n",
      "==============================================================================\n",
      "Dep. Variable:        Life_Expectancy   R-squared:                       0.074\n",
      "Model:                            OLS   Adj. R-squared:                  0.072\n",
      "Method:                 Least Squares   F-statistic:                     60.92\n",
      "Date:                Thu, 16 Nov 2023   Prob (F-statistic):           1.38e-49\n",
      "Time:                        15:19:34   Log-Likelihood:                -7874.3\n",
      "No. Observations:                3071   AIC:                         1.576e+04\n",
      "Df Residuals:                    3066   BIC:                         1.579e+04\n",
      "Df Model:                           4                                         \n",
      "Covariance Type:            nonrobust                                         \n",
      "========================================================================================================\n",
      "                                           coef    std err          t      P>|t|      [0.025      0.975]\n",
      "--------------------------------------------------------------------------------------------------------\n",
      "Intercept                               77.1948      0.124    622.153      0.000      76.951      77.438\n",
      "Community_Type[T.Small/Medium Urban]     1.3730      0.163      8.439      0.000       1.054       1.692\n",
      "Community_Type[T.Urban]                  3.2503      0.291     11.167      0.000       2.680       3.821\n",
      "RISK_SCORE                              -0.0191      0.003     -7.128      0.000      -0.024      -0.014\n",
      "Population                            5.795e-07   2.18e-07      2.664      0.008    1.53e-07    1.01e-06\n",
      "==============================================================================\n",
      "Omnibus:                      764.954   Durbin-Watson:                   1.438\n",
      "Prob(Omnibus):                  0.000   Jarque-Bera (JB):            10425.474\n",
      "Skew:                           0.795   Prob(JB):                         0.00\n",
      "Kurtosis:                      11.885   Cond. No.                     1.89e+06\n",
      "==============================================================================\n",
      "\n",
      "Notes:\n",
      "[1] Standard Errors assume that the covariance matrix of the errors is correctly specified.\n",
      "[2] The condition number is large, 1.89e+06. This might indicate that there are\n",
      "strong multicollinearity or other numerical problems.\n"
     ]
    }
   ],
   "source": [
    "#comparing population vs population_density in model\n",
    "model_ols_r_mv3 = smf.ols(formula='Life_Expectancy ~ RISK_SCORE + Population + Community_Type', data=Merged_County_Data_clean).fit()\n",
    "\n",
    "\n",
    "print(model_ols_r_mv3.summary())"
   ]
  },
  {
   "cell_type": "code",
   "execution_count": 113,
   "id": "be39295d",
   "metadata": {},
   "outputs": [
    {
     "name": "stdout",
     "output_type": "stream",
     "text": [
      "                            OLS Regression Results                            \n",
      "==============================================================================\n",
      "Dep. Variable:        Life_Expectancy   R-squared:                       0.096\n",
      "Model:                            OLS   Adj. R-squared:                  0.094\n",
      "Method:                 Least Squares   F-statistic:                     64.81\n",
      "Date:                Thu, 16 Nov 2023   Prob (F-statistic):           1.74e-64\n",
      "Time:                        15:24:31   Log-Likelihood:                -7837.4\n",
      "No. Observations:                3071   AIC:                         1.569e+04\n",
      "Df Residuals:                    3065   BIC:                         1.572e+04\n",
      "Df Model:                           5                                         \n",
      "Covariance Type:            nonrobust                                         \n",
      "========================================================================================================\n",
      "                                           coef    std err          t      P>|t|      [0.025      0.975]\n",
      "--------------------------------------------------------------------------------------------------------\n",
      "Intercept                               74.6028      0.317    235.398      0.000      73.981      75.224\n",
      "Community_Type[T.Small/Medium Urban]     1.5452      0.161      9.583      0.000       1.229       1.861\n",
      "Community_Type[T.Urban]                  3.7792      0.255     14.845      0.000       3.280       4.278\n",
      "RISK_SCORE                              -0.0140      0.003     -5.210      0.000      -0.019      -0.009\n",
      "Population_Density                       0.0001   4.51e-05      2.473      0.013    2.31e-05       0.000\n",
      "Percent_65_and_Over                      0.1146      0.013      8.828      0.000       0.089       0.140\n",
      "==============================================================================\n",
      "Omnibus:                      906.171   Durbin-Watson:                   1.457\n",
      "Prob(Omnibus):                  0.000   Jarque-Bera (JB):            13639.700\n",
      "Skew:                           0.984   Prob(JB):                         0.00\n",
      "Kurtosis:                      13.135   Cond. No.                     7.54e+03\n",
      "==============================================================================\n",
      "\n",
      "Notes:\n",
      "[1] Standard Errors assume that the covariance matrix of the errors is correctly specified.\n",
      "[2] The condition number is large, 7.54e+03. This might indicate that there are\n",
      "strong multicollinearity or other numerical problems.\n"
     ]
    }
   ],
   "source": [
    "model_ols_r_mv4 = smf.ols(formula='Life_Expectancy ~ RISK_SCORE + Population_Density + Community_Type + Percent_65_and_Over', data=Merged_County_Data_clean).fit()\n",
    "\n",
    "\n",
    "print(model_ols_r_mv4.summary())"
   ]
  },
  {
   "cell_type": "code",
   "execution_count": 7,
   "id": "40e4b3ca",
   "metadata": {},
   "outputs": [
    {
     "name": "stdout",
     "output_type": "stream",
     "text": [
      "                            OLS Regression Results                            \n",
      "==============================================================================\n",
      "Dep. Variable:        Life_Expectancy   R-squared:                       0.097\n",
      "Model:                            OLS   Adj. R-squared:                  0.095\n",
      "Method:                 Least Squares   F-statistic:                     46.95\n",
      "Date:                Sun, 26 Nov 2023   Prob (F-statistic):           1.34e-63\n",
      "Time:                        16:08:52   Log-Likelihood:                -7835.2\n",
      "No. Observations:                3071   AIC:                         1.569e+04\n",
      "Df Residuals:                    3063   BIC:                         1.573e+04\n",
      "Df Model:                           7                                         \n",
      "Covariance Type:            nonrobust                                         \n",
      "============================================================================================================\n",
      "                                               coef    std err          t      P>|t|      [0.025      0.975]\n",
      "------------------------------------------------------------------------------------------------------------\n",
      "Intercept                                   74.7221      0.322    231.833      0.000      74.090      75.354\n",
      "Community_Type[T.Small Urban]                0.7127      0.503      1.418      0.156      -0.273       1.698\n",
      "Community_Type[T.Urban]                      0.7402      2.682      0.276      0.783      -4.518       5.999\n",
      "RISK_SCORE                                  -0.0164      0.003     -5.558      0.000      -0.022      -0.011\n",
      "RISK_SCORE:Community_Type[T.Small Urban]     0.0127      0.007      1.769      0.077      -0.001       0.027\n",
      "RISK_SCORE:Community_Type[T.Urban]           0.0343      0.029      1.178      0.239      -0.023       0.091\n",
      "Population_Density                           0.0001   4.54e-05      2.324      0.020    1.65e-05       0.000\n",
      "Percent_65_and_Over                          0.1133      0.013      8.722      0.000       0.088       0.139\n",
      "==============================================================================\n",
      "Omnibus:                      902.242   Durbin-Watson:                   1.460\n",
      "Prob(Omnibus):                  0.000   Jarque-Bera (JB):            13607.449\n",
      "Skew:                           0.977   Prob(JB):                         0.00\n",
      "Kurtosis:                      13.125   Cond. No.                     6.38e+04\n",
      "==============================================================================\n",
      "\n",
      "Notes:\n",
      "[1] Standard Errors assume that the covariance matrix of the errors is correctly specified.\n",
      "[2] The condition number is large, 6.38e+04. This might indicate that there are\n",
      "strong multicollinearity or other numerical problems.\n"
     ]
    }
   ],
   "source": [
    "model_ols_r_int = smf.ols(formula='Life_Expectancy ~ RISK_SCORE + Population_Density + Community_Type + RISK_SCORE*Community_Type + Percent_65_and_Over', data=Merged_County_Data_clean).fit()\n",
    "\n",
    "\n",
    "print(model_ols_r_int.summary())"
   ]
  },
  {
   "cell_type": "code",
   "execution_count": 8,
   "id": "59bfeb4d",
   "metadata": {},
   "outputs": [
    {
     "name": "stdout",
     "output_type": "stream",
     "text": [
      "                                        OLS Regression Results                                       \n",
      "=====================================================================================================\n",
      "Dep. Variable:     Average_Number_of_Mentally_Unhealthy_Days   R-squared:                       0.014\n",
      "Model:                                                   OLS   Adj. R-squared:                  0.012\n",
      "Method:                                        Least Squares   F-statistic:                     6.237\n",
      "Date:                                       Sun, 26 Nov 2023   Prob (F-statistic):           2.80e-07\n",
      "Time:                                               16:11:04   Log-Likelihood:                -2970.6\n",
      "No. Observations:                                       3140   AIC:                             5957.\n",
      "Df Residuals:                                           3132   BIC:                             6006.\n",
      "Df Model:                                                  7                                         \n",
      "Covariance Type:                                   nonrobust                                         \n",
      "============================================================================================================\n",
      "                                               coef    std err          t      P>|t|      [0.025      0.975]\n",
      "------------------------------------------------------------------------------------------------------------\n",
      "Intercept                                    4.7946      0.063     75.697      0.000       4.670       4.919\n",
      "Community_Type[T.Small Urban]                0.2658      0.101      2.641      0.008       0.068       0.463\n",
      "Community_Type[T.Urban]                     -0.3885      0.539     -0.721      0.471      -1.444       0.667\n",
      "RISK_SCORE                                   0.0022      0.001      3.804      0.000       0.001       0.003\n",
      "RISK_SCORE:Community_Type[T.Small Urban]    -0.0042      0.001     -2.911      0.004      -0.007      -0.001\n",
      "RISK_SCORE:Community_Type[T.Urban]           0.0013      0.006      0.229      0.819      -0.010       0.013\n",
      "Population_Density                       -1.331e-05   9.12e-06     -1.460      0.144   -3.12e-05    4.57e-06\n",
      "Percent_65_and_Over                         -0.0035      0.003     -1.396      0.163      -0.008       0.001\n",
      "==============================================================================\n",
      "Omnibus:                        2.854   Durbin-Watson:                   0.458\n",
      "Prob(Omnibus):                  0.240   Jarque-Bera (JB):                2.897\n",
      "Skew:                          -0.064   Prob(JB):                        0.235\n",
      "Kurtosis:                       2.925   Cond. No.                     6.38e+04\n",
      "==============================================================================\n",
      "\n",
      "Notes:\n",
      "[1] Standard Errors assume that the covariance matrix of the errors is correctly specified.\n",
      "[2] The condition number is large, 6.38e+04. This might indicate that there are\n",
      "strong multicollinearity or other numerical problems.\n"
     ]
    }
   ],
   "source": [
    "model_ols_r_mh1 = smf.ols(formula='Average_Number_of_Mentally_Unhealthy_Days ~ RISK_SCORE + Population_Density + Community_Type + RISK_SCORE*Community_Type + Percent_65_and_Over', data=Merged_County_Data_clean).fit()\n",
    "\n",
    "\n",
    "print(model_ols_r_mh1.summary())"
   ]
  },
  {
   "cell_type": "code",
   "execution_count": 9,
   "id": "f5ce4ee7",
   "metadata": {},
   "outputs": [
    {
     "name": "stdout",
     "output_type": "stream",
     "text": [
      "                                         OLS Regression Results                                        \n",
      "=======================================================================================================\n",
      "Dep. Variable:     Average_Number_of_Physically_Unhealthy_Days   R-squared:                       0.109\n",
      "Model:                                                     OLS   Adj. R-squared:                  0.107\n",
      "Method:                                          Least Squares   F-statistic:                     54.73\n",
      "Date:                                         Sun, 26 Nov 2023   Prob (F-statistic):           3.84e-74\n",
      "Time:                                                 16:11:55   Log-Likelihood:                -2930.5\n",
      "No. Observations:                                         3140   AIC:                             5877.\n",
      "Df Residuals:                                             3132   BIC:                             5925.\n",
      "Df Model:                                                    7                                         \n",
      "Covariance Type:                                     nonrobust                                         \n",
      "============================================================================================================\n",
      "                                               coef    std err          t      P>|t|      [0.025      0.975]\n",
      "------------------------------------------------------------------------------------------------------------\n",
      "Intercept                                    3.9670      0.063     63.437      0.000       3.844       4.090\n",
      "Community_Type[T.Small Urban]               -0.3433      0.099     -3.454      0.001      -0.538      -0.148\n",
      "Community_Type[T.Urban]                     -1.9384      0.532     -3.646      0.000      -2.981      -0.896\n",
      "RISK_SCORE                                   0.0027      0.001      4.689      0.000       0.002       0.004\n",
      "RISK_SCORE:Community_Type[T.Small Urban]    -0.0007      0.001     -0.503      0.615      -0.004       0.002\n",
      "RISK_SCORE:Community_Type[T.Urban]           0.0128      0.006      2.215      0.027       0.001       0.024\n",
      "Population_Density                       -3.083e-05      9e-06     -3.426      0.001   -4.85e-05   -1.32e-05\n",
      "Percent_65_and_Over                         -0.0209      0.002     -8.350      0.000      -0.026      -0.016\n",
      "==============================================================================\n",
      "Omnibus:                       70.541   Durbin-Watson:                   0.762\n",
      "Prob(Omnibus):                  0.000   Jarque-Bera (JB):               75.421\n",
      "Skew:                           0.359   Prob(JB):                     4.19e-17\n",
      "Kurtosis:                       3.249   Cond. No.                     6.38e+04\n",
      "==============================================================================\n",
      "\n",
      "Notes:\n",
      "[1] Standard Errors assume that the covariance matrix of the errors is correctly specified.\n",
      "[2] The condition number is large, 6.38e+04. This might indicate that there are\n",
      "strong multicollinearity or other numerical problems.\n"
     ]
    }
   ],
   "source": [
    "model_ols_r_ph1 = smf.ols(formula='Average_Number_of_Physically_Unhealthy_Days ~ RISK_SCORE + Population_Density + Community_Type + RISK_SCORE*Community_Type + Percent_65_and_Over', data=Merged_County_Data_clean).fit()\n",
    "\n",
    "\n",
    "print(model_ols_r_ph1.summary())"
   ]
  }
 ],
 "metadata": {
  "kernelspec": {
   "display_name": "Python 3 (ipykernel)",
   "language": "python",
   "name": "python3"
  },
  "language_info": {
   "codemirror_mode": {
    "name": "ipython",
    "version": 3
   },
   "file_extension": ".py",
   "mimetype": "text/x-python",
   "name": "python",
   "nbconvert_exporter": "python",
   "pygments_lexer": "ipython3",
   "version": "3.10.11"
  }
 },
 "nbformat": 4,
 "nbformat_minor": 5
}
